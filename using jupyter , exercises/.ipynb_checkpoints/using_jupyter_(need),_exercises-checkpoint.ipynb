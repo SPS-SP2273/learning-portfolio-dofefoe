{
 "cells": [
  {
   "attachments": {},
   "cell_type": "markdown",
   "id": "123456",
   "metadata": {},
   "source": [
    "<div style=\"text-align:left;font-size:2em\"><span style=\"font-weight:bolder;font-size:1.25em\">SP2273 | Learning Portfolio</span><br><br><span style=\"font-weight:bold;color:darkred\">Using Jupyter (Need), Exercises</span></div>"
   ]
  },
  {
   "attachments": {},
   "cell_type": "markdown",
   "id": "e32ac10b",
   "metadata": {},
   "source": [
    "## Quadratic Equations"
   ]
  },
  {
   "attachments": {},
   "cell_type": "markdown",
   "id": "66f4d921",
   "metadata": {},
   "source": [
    "## Introduction"
   ]
  },
  {
   "cell_type": "markdown",
   "id": "e899b3c4-9aed-4fe5-ab53-a610eda419b3",
   "metadata": {},
   "source": [
    "\n",
    "![](https://upload.wikimedia.org/wikipedia/commons/thumb/f/f8/Polynomialdeg2.svg/600px-Polynomialdeg2.svg.png)\n",
    "\n",
    "*(image from the [Wikipedia page on Quadratic equations](https://en.wikipedia.org/wiki/Quadratic_equation))*\n",
    "\n",
    "The general form of a quadratic equation is: $ax^2+bx+c$\n"
   ]
  },
  {
   "attachments": {},
   "cell_type": "markdown",
   "id": "c5f7dbbd",
   "metadata": {},
   "source": [
    "### Solutions"
   ]
  },
  {
   "cell_type": "markdown",
   "id": "ae7fb961-6ce0-4b3d-83be-92d6949b305b",
   "metadata": {},
   "source": [
    "\n",
    "Provided $a≠0$\n",
    ", we can use an elementary algebraic method called [completeing the square](https://en.wikipedia.org/wiki/Completing_the_square) to show that a quadratic equation has the following solution:\n",
    "$$\n",
    "x = \\dfrac{-b \\pm \\sqrt{b^2-4ac}}{2a}\n",
    "$$\n"
   ]
  },
  {
   "attachments": {},
   "cell_type": "markdown",
   "id": "d2cd24a4",
   "metadata": {},
   "source": [
    "### Discriminant"
   ]
  },
  {
   "cell_type": "markdown",
   "id": "eb7b87e6-8bb8-45ae-a6d7-5551c1612df7",
   "metadata": {},
   "source": [
    "The quantity $\\Delta = B^2 - 4ac$ \n",
    " is called the **discriminant** of the equation and decides the nature of its solutions. The table below shows the various possibilities.\n",
    " | **Discriminat**          | **Roots**                           |\r\n",
    "|--------------------------|-------------------------------------|\r\n",
    "| $\\Delta = b^2 - 4ac = 0$ | A single solution of $-b/(2a)$      |\r\n",
    "| $\\Delta = b^2 - 4ac > 0$ | Two distinct solutions              |\r\n",
    "| $\\Delta = b^2 - 4ac < 0$ | No real solutions; both are complex |"
   ]
  },
  {
   "cell_type": "markdown",
   "id": "72745f9f-574a-491a-a3a9-82a46cd6621f",
   "metadata": {},
   "source": [
    "1. What is a Git repository?\n",
    "   - A cloud storage for code\n",
    "1. Git keeps tracks of ____BLANK____ in the files in our repository.\n",
    "   - changes\n",
    "1. What is a commit?\n",
    "    - A recorded file change\n",
    "1. What is a push?\n",
    "    - To \"upload\" local commits made on Git desktop to the Git repository\n",
    "1. What is a pull?\n",
    "    - To \"download\" changes in the Git repository such that the changes are also recorded locally on Git desktop\n",
    "1. What is the difference between GitHub and GitHub Desktop?\n",
    "    - Github Desktop exist locally and can be accessed without the internet, while Github exist in the Cloud and requires internet access, but allows for input from others with access to the repository."
   ]
  },
  {
   "cell_type": "code",
   "execution_count": null,
   "id": "e0f6e1fa-2aa7-4a04-929b-c6d45663f20e",
   "metadata": {},
   "outputs": [],
   "source": []
  }
 ],
 "metadata": {
  "kernelspec": {
   "display_name": "Python 3 (ipykernel)",
   "language": "python",
   "name": "python3"
  },
  "language_info": {
   "codemirror_mode": {
    "name": "ipython",
    "version": 3
   },
   "file_extension": ".py",
   "mimetype": "text/x-python",
   "name": "python",
   "nbconvert_exporter": "python",
   "pygments_lexer": "ipython3",
   "version": "3.11.5"
  },
  "toc": {
   "base_numbering": 1,
   "nav_menu": {},
   "number_sections": true,
   "sideBar": true,
   "skip_h1_title": false,
   "title_cell": "Table of Contents",
   "title_sidebar": "Contents",
   "toc_cell": false,
   "toc_position": {},
   "toc_section_display": true,
   "toc_window_display": false
  },
  "vscode": {
   "interpreter": {
    "hash": "31f2aee4e71d21fbe5cf8b01ff0e069b9275f58929596ceb00d14d90e3e16cd6"
   }
  }
 },
 "nbformat": 4,
 "nbformat_minor": 5
}
