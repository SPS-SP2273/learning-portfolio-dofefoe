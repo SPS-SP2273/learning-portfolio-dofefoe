{
 "cells": [
  {
   "attachments": {},
   "cell_type": "markdown",
   "id": "123456",
   "metadata": {},
   "source": [
    "<div style=\"text-align:left;font-size:2em\"><span style=\"font-weight:bolder;font-size:1.25em\">SP2273 | Learning Portfolio</span><br><br><span style=\"font-weight:bold;color:darkred\">Files, Folders & OS (Need) Exercises</span></div>"
   ]
  },
  {
   "cell_type": "markdown",
   "id": "55515646-3b0a-4249-a752-e508fb02e430",
   "metadata": {},
   "source": [
    "# Exercise 1"
   ]
  },
  {
   "cell_type": "markdown",
   "id": "42a70a5a-8518-4957-b46e-fdb38411bd4b",
   "metadata": {},
   "source": [
    "## task 1"
   ]
  },
  {
   "cell_type": "code",
   "execution_count": 16,
   "id": "4cb7e115-f007-41a1-8f27-5717167e86bb",
   "metadata": {},
   "outputs": [
    {
     "name": "stdout",
     "output_type": "stream",
     "text": [
      "10-08-singapore.txt\n"
     ]
    }
   ],
   "source": [
    "month_dict = {\n",
    "'jan': '01', 'feb': '02', 'mar': '03',\n",
    "'apr': '04', 'may': '05', 'jun': '06',\n",
    "'jul': '07', 'aug': '08', 'sep': '09',\n",
    "'oct': '10', 'nov': '11', 'dec': '12'\n",
    "}\n",
    "\n",
    "og_text = 'oct-08-singapore.txt'\n",
    "new_text = f'{month_dict[og_text.split(\"-\")[0]]}-{\"-\".join(og_text.split(\"-\")[1:])}'\n",
    "\n",
    "print(new_text)"
   ]
  },
  {
   "cell_type": "markdown",
   "id": "c2e183ba-b977-467a-b668-daa3e2b1ffe2",
   "metadata": {},
   "source": [
    "## task 2"
   ]
  },
  {
   "cell_type": "code",
   "execution_count": 8,
   "id": "d1fbff8f-0731-4544-b54c-63ad49b5136c",
   "metadata": {},
   "outputs": [],
   "source": [
    "def rename_my_file(old_file_name): #handles file name + extension ok\n",
    "    month_dict = {\n",
    "'jan': '01', 'feb': '02', 'mar': '03',\n",
    "'apr': '04', 'may': '05', 'jun': '06',\n",
    "'jul': '07', 'aug': '08', 'sep': '09',\n",
    "'oct': '10', 'nov': '11', 'dec': '12'\n",
    "}\n",
    "    try:\n",
    "        new_file_name = f'{month_dict[old_file_name.split(\"-\")[0]]}-{\"-\".join(old_file_name.split(\"-\")[1:])}'\n",
    "        return new_file_name\n",
    "    except: \n",
    "        print(\"does not match expected input!\")\n",
    "    "
   ]
  },
  {
   "cell_type": "markdown",
   "id": "513ab5f8-fe8e-4ca2-a8bb-69125d6e0f5a",
   "metadata": {},
   "source": [
    "## task 3"
   ]
  },
  {
   "cell_type": "code",
   "execution_count": 9,
   "id": "643e8c58-2ba7-4770-ba47-0994b870d108",
   "metadata": {},
   "outputs": [
    {
     "name": "stdout",
     "output_type": "stream",
     "text": [
      "oct-08-singapore.txt ----> 10-08-singapore.txt\n",
      "jul-10-cairo.txt ----> 07-10-cairo.txt\n",
      "may-15-dhaka.txt ----> 05-15-dhaka.txt\n",
      "may-13-cairo.txt ----> 05-13-cairo.txt\n",
      "oct-21-cairo.txt ----> 10-21-cairo.txt\n",
      "jan-10-singapore.txt ----> 01-10-singapore.txt\n",
      "jun-20-tokyo.txt ----> 06-20-tokyo.txt\n",
      "aug-06-jakarta.txt ----> 08-06-jakarta.txt\n",
      "dec-21-karachi.txt ----> 12-21-karachi.txt\n",
      "jan-01-tokyo.txt ----> 01-01-tokyo.txt\n"
     ]
    }
   ],
   "source": [
    "file_list = ['oct-08-singapore.txt', 'jul-10-cairo.txt', 'may-15-dhaka.txt',\n",
    " 'may-13-cairo.txt', 'oct-21-cairo.txt', 'jan-10-singapore.txt',\n",
    " 'jun-20-tokyo.txt', 'aug-06-jakarta.txt', 'dec-21-karachi.txt',\n",
    " 'jan-01-tokyo.txt']\n",
    "\n",
    "for file in file_list:\n",
    "\n",
    "    print(f'{file} ----> {rename_my_file(file)}')\n",
    "\n"
   ]
  },
  {
   "cell_type": "markdown",
   "id": "73315ad4-c6cf-4022-8664-e0cfebae8b42",
   "metadata": {},
   "source": [
    "## task 4"
   ]
  },
  {
   "cell_type": "code",
   "execution_count": null,
   "id": "83827a91-0744-4372-888a-3ede61293ede",
   "metadata": {},
   "outputs": [],
   "source": [
    "import os\n",
    "import glob\n",
    "exercise_folder = \"os-collaboration-exercise-data\"\n",
    "for file in glob.glob(os.path.join(exercise_folder,\"*.txt\")):\n",
    "    file_directory = os.path.split(file)[0] #gets directory path\n",
    "    old_file_name = os.path.split(file)[-1] #gets file name + extension\n",
    "    new_file_name = os.path.join(file_directory,rename_my_file(old_file_name)) #puts directory path and file name tgt again\n",
    "    os.rename(file,new_file_name)"
   ]
  },
  {
   "cell_type": "code",
   "execution_count": null,
   "id": "aa12e624-4775-45fd-8a5e-70c177ce4c64",
   "metadata": {},
   "outputs": [],
   "source": [
    "'''\n",
    "import os\n",
    "import glob\n",
    "\n",
    "month_dict = {\n",
    "'jan': '01', 'feb': '02', 'mar': '03',\n",
    "'apr': '04', 'may': '05', 'jun': '06',\n",
    "'jul': '07', 'aug': '08', 'sep': '09',\n",
    "'oct': '10', 'nov': '11', 'dec': '12'\n",
    "}\n",
    "\n",
    "for file in glob.glob('os-collaboration-exercise-data/*.txt'):\n",
    "    datecity = file.split(os.path.sep)[-1].split(\"-\")[1]\n",
    "    num_month = month_dict[file.split(os.path.sep)[-1].split(\"-\")[0]]\n",
    "    file_directory = os.path.split(file)[0]\n",
    "    new_file_name = os.path.join(file_directory,f'{num_month}-{datecity}')\n",
    "    os.rename(file,new_file_name)\n",
    "'''\n",
    "#kinda did task 1-4 in one shot by accident, left here for reference"
   ]
  },
  {
   "cell_type": "markdown",
   "id": "8c404f54-3503-41d0-81b5-d28f819109db",
   "metadata": {},
   "source": [
    "## task 5"
   ]
  },
  {
   "cell_type": "code",
   "execution_count": 15,
   "id": "d57d7190-da47-482a-a05a-d1a9fd2643c2",
   "metadata": {},
   "outputs": [],
   "source": [
    "for city in ['Cairo', 'Dhaka', 'Jakarta', 'Karachi', 'Manila',\n",
    " 'Melbourne', 'Osaka', 'Shanghai', 'Singapore', 'Tokyo']:\n",
    "    os.mkdir(os.path.join(exercise_folder,city))"
   ]
  },
  {
   "cell_type": "markdown",
   "id": "1facdc58-4079-4fba-9999-7cb342b62e02",
   "metadata": {},
   "source": [
    "## task 6"
   ]
  },
  {
   "cell_type": "code",
   "execution_count": 19,
   "id": "75b6f566-ab00-4a4f-847c-5331b0fb9589",
   "metadata": {},
   "outputs": [
    {
     "name": "stdout",
     "output_type": "stream",
     "text": [
      "['os-collaboration-exercise-data\\\\05-17_cairo.txt', 'os-collaboration-exercise-data\\\\05-25_cairo.txt', 'os-collaboration-exercise-data\\\\05-27_cairo.txt', 'os-collaboration-exercise-data\\\\05-29_cairo.txt', 'os-collaboration-exercise-data\\\\05-30_cairo.txt', 'os-collaboration-exercise-data\\\\09-02_cairo.txt', 'os-collaboration-exercise-data\\\\09-04_cairo.txt', 'os-collaboration-exercise-data\\\\09-05_cairo.txt', 'os-collaboration-exercise-data\\\\09-07_cairo.txt', 'os-collaboration-exercise-data\\\\09-08_cairo.txt', 'os-collaboration-exercise-data\\\\09-11_cairo.txt', 'os-collaboration-exercise-data\\\\09-12_cairo.txt', 'os-collaboration-exercise-data\\\\09-13_cairo.txt', 'os-collaboration-exercise-data\\\\09-16_cairo.txt', 'os-collaboration-exercise-data\\\\09-18_cairo.txt', 'os-collaboration-exercise-data\\\\09-20_cairo.txt', 'os-collaboration-exercise-data\\\\09-22_cairo.txt', 'os-collaboration-exercise-data\\\\09-23_cairo.txt', 'os-collaboration-exercise-data\\\\09-24_cairo.txt', 'os-collaboration-exercise-data\\\\09-25_cairo.txt', 'os-collaboration-exercise-data\\\\09-26_cairo.txt', 'os-collaboration-exercise-data\\\\09-28_cairo.txt', 'os-collaboration-exercise-data\\\\10-23_cairo.txt', 'os-collaboration-exercise-data\\\\11-03_cairo.txt', 'os-collaboration-exercise-data\\\\11-04_cairo.txt', 'os-collaboration-exercise-data\\\\11-05_cairo.txt', 'os-collaboration-exercise-data\\\\11-10_cairo.txt', 'os-collaboration-exercise-data\\\\11-14_cairo.txt', 'os-collaboration-exercise-data\\\\11-17_cairo.txt', 'os-collaboration-exercise-data\\\\11-19_cairo.txt', 'os-collaboration-exercise-data\\\\11-21_cairo.txt', 'os-collaboration-exercise-data\\\\11-29_cairo.txt']\n"
     ]
    }
   ],
   "source": [
    "import shutil\n",
    "cairo_files = []\n",
    "for file in glob.glob('os-collaboration-exercise-data/*cairo'):\n",
    "    cairo_files.append(file)\n",
    "    shutil.copy(file, os.path.join(exercise_folder,\"Cairo\"))\n",
    "\n",
    "print (cairo_files)"
   ]
  },
  {
   "cell_type": "markdown",
   "id": "813c2d67-d741-4919-9535-29cc4d435b39",
   "metadata": {},
   "source": [
    "## task 7"
   ]
  },
  {
   "cell_type": "code",
   "execution_count": 10,
   "id": "79e508ca-6828-405d-9930-adae0c8b8c0d",
   "metadata": {},
   "outputs": [
    {
     "ename": "NameError",
     "evalue": "name 'glob' is not defined",
     "output_type": "error",
     "traceback": [
      "\u001b[1;31m---------------------------------------------------------------------------\u001b[0m",
      "\u001b[1;31mNameError\u001b[0m                                 Traceback (most recent call last)",
      "Cell \u001b[1;32mIn[10], line 3\u001b[0m\n\u001b[0;32m      1\u001b[0m \u001b[38;5;28;01mfor\u001b[39;00m city \u001b[38;5;129;01min\u001b[39;00m [\u001b[38;5;124m'\u001b[39m\u001b[38;5;124mCairo\u001b[39m\u001b[38;5;124m'\u001b[39m, \u001b[38;5;124m'\u001b[39m\u001b[38;5;124mDhaka\u001b[39m\u001b[38;5;124m'\u001b[39m, \u001b[38;5;124m'\u001b[39m\u001b[38;5;124mJakarta\u001b[39m\u001b[38;5;124m'\u001b[39m, \u001b[38;5;124m'\u001b[39m\u001b[38;5;124mKarachi\u001b[39m\u001b[38;5;124m'\u001b[39m, \u001b[38;5;124m'\u001b[39m\u001b[38;5;124mManila\u001b[39m\u001b[38;5;124m'\u001b[39m,\n\u001b[0;32m      2\u001b[0m  \u001b[38;5;124m'\u001b[39m\u001b[38;5;124mMelbourne\u001b[39m\u001b[38;5;124m'\u001b[39m, \u001b[38;5;124m'\u001b[39m\u001b[38;5;124mOsaka\u001b[39m\u001b[38;5;124m'\u001b[39m, \u001b[38;5;124m'\u001b[39m\u001b[38;5;124mShanghai\u001b[39m\u001b[38;5;124m'\u001b[39m, \u001b[38;5;124m'\u001b[39m\u001b[38;5;124mSingapore\u001b[39m\u001b[38;5;124m'\u001b[39m, \u001b[38;5;124m'\u001b[39m\u001b[38;5;124mTokyo\u001b[39m\u001b[38;5;124m'\u001b[39m]:\n\u001b[1;32m----> 3\u001b[0m     \u001b[38;5;28;01mfor\u001b[39;00m file \u001b[38;5;129;01min\u001b[39;00m \u001b[43mglob\u001b[49m\u001b[38;5;241m.\u001b[39mglob(\u001b[38;5;124mf\u001b[39m\u001b[38;5;124m'\u001b[39m\u001b[38;5;124mos-collaboration-exercise-data/*\u001b[39m\u001b[38;5;132;01m{\u001b[39;00mcity\u001b[38;5;132;01m}\u001b[39;00m\u001b[38;5;124m'\u001b[39m):\n\u001b[0;32m      4\u001b[0m         shutil\u001b[38;5;241m.\u001b[39mmove(file, os\u001b[38;5;241m.\u001b[39mpath\u001b[38;5;241m.\u001b[39mjoin(\u001b[38;5;124m\"\u001b[39m\u001b[38;5;124mos-collaboration-exercise-data\u001b[39m\u001b[38;5;124m\"\u001b[39m,city))\n",
      "\u001b[1;31mNameError\u001b[0m: name 'glob' is not defined"
     ]
    }
   ],
   "source": [
    "for city in ['Cairo', 'Dhaka', 'Jakarta', 'Karachi', 'Manila',\n",
    " 'Melbourne', 'Osaka', 'Shanghai', 'Singapore', 'Tokyo']:\n",
    "    for file in glob.glob(f'os-collaboration-exercise-data/*{city}'):\n",
    "        shutil.move(file, os.path.join(\"os-collaboration-exercise-data\",city))"
   ]
  },
  {
   "cell_type": "code",
   "execution_count": 31,
   "id": "e250e9b8-b3bb-478a-86a1-d5b30845536d",
   "metadata": {},
   "outputs": [],
   "source": [
    "'''\n",
    "import os\n",
    "import glob\n",
    "import shutil\n",
    "\n",
    "month_dict = {\n",
    "'jan': '01', 'feb': '02', 'mar': '03',\n",
    "'apr': '04', 'may': '05', 'jun': '06',\n",
    "'jul': '07', 'aug': '08', 'sep': '09',\n",
    "'oct': '10', 'nov': '11', 'dec': '12'\n",
    "}\n",
    "\n",
    "for file in glob.glob('os-collaboration-exercise-data/*.txt'):\n",
    "    datecity = file.split(os.path.sep)[-1].split(\"-\")[1]\n",
    "    try:\n",
    "        num_month = month_dict[file.split(os.path.sep)[-1].split(\"-\")[0]]\n",
    "        file_directory = os.path.split(file)[0]\n",
    "        new_file_name = os.path.join(file_directory,f'{num_month}-{datecity}')\n",
    "        os.rename(file,new_file_name)\n",
    "        city = datecity.split(\"_\")[-1].split(\".\")[0]\n",
    "        if not os.path.exists(os.path.join(file_directory,city)):\n",
    "            os.mkdir(os.path.join(file_directory,city))\n",
    "        shutil.move(new_file_name, os.path.join(file_directory,city))\n",
    "        \n",
    "    except:\n",
    "        print(\"does not match expected format!\")\n",
    "\n",
    "'''\n",
    "#curious as to whether i can do entire exercise while being open to more city"
   ]
  },
  {
   "cell_type": "code",
   "execution_count": null,
   "id": "497a5812-54af-4842-89a4-ce93013a5e34",
   "metadata": {},
   "outputs": [],
   "source": []
  }
 ],
 "metadata": {
  "kernelspec": {
   "display_name": "Python 3 (ipykernel)",
   "language": "python",
   "name": "python3"
  },
  "language_info": {
   "codemirror_mode": {
    "name": "ipython",
    "version": 3
   },
   "file_extension": ".py",
   "mimetype": "text/x-python",
   "name": "python",
   "nbconvert_exporter": "python",
   "pygments_lexer": "ipython3",
   "version": "3.11.5"
  },
  "toc": {
   "base_numbering": 1,
   "nav_menu": {},
   "number_sections": true,
   "sideBar": true,
   "skip_h1_title": false,
   "title_cell": "Table of Contents",
   "title_sidebar": "Contents",
   "toc_cell": false,
   "toc_position": {},
   "toc_section_display": true,
   "toc_window_display": false
  },
  "vscode": {
   "interpreter": {
    "hash": "31f2aee4e71d21fbe5cf8b01ff0e069b9275f58929596ceb00d14d90e3e16cd6"
   }
  }
 },
 "nbformat": 4,
 "nbformat_minor": 5
}
