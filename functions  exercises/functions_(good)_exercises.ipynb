{
 "cells": [
  {
   "attachments": {},
   "cell_type": "markdown",
   "id": "123456",
   "metadata": {},
   "source": [
    "<div style=\"text-align:left;font-size:2em\"><span style=\"font-weight:bolder;font-size:1.25em\">SP2273 | Learning Portfolio</span><br><br><span style=\"font-weight:bold;color:darkred\">Functions (Good) Exercises</span></div>"
   ]
  },
  {
   "cell_type": "markdown",
   "id": "bad60076-5524-477d-8476-3f7a394ac933",
   "metadata": {},
   "source": [
    "# Exercise 1"
   ]
  },
  {
   "cell_type": "code",
   "execution_count": 5,
   "id": "432d7b99-efbe-4fdb-b61d-158b96f88034",
   "metadata": {},
   "outputs": [
    {
     "data": {
      "text/plain": [
       "32.0"
      ]
     },
     "execution_count": 5,
     "metadata": {},
     "output_type": "execute_result"
    }
   ],
   "source": [
    "def convert_celsius(temperature_celsius, target_scale = 'Fahrenheit'):\n",
    "    if target_scale == 'Fahrenheit':\n",
    "        return (temperature_celsius * (9/5)  + 32)\n",
    "    elif target_scale == \"Kelvin\":\n",
    "        return (temperature_celsius + 273.15)\n",
    "    return \"Unknown Scale!\"\n"
   ]
  },
  {
   "cell_type": "markdown",
   "id": "0c256a6c-dbf8-4fa0-b0f7-c9be421cfdab",
   "metadata": {},
   "source": [
    "# Exercise 2"
   ]
  },
  {
   "cell_type": "code",
   "execution_count": 17,
   "id": "52abc0b9-0187-4957-89ce-270ae6fc657a",
   "metadata": {},
   "outputs": [
    {
     "data": {
      "text/plain": [
       "273.7055555555555"
      ]
     },
     "execution_count": 17,
     "metadata": {},
     "output_type": "execute_result"
    }
   ],
   "source": [
    "def convert_fahrenheit(temperature_fahrenheit, target_scale = 'Celsius'):\n",
    "    if target_scale == 'Celsius':\n",
    "        return ((temperature_fahrenheit - 32) * (5 / 9))\n",
    "    elif target_scale == \"Kelvin\":\n",
    "        return ((temperature_fahrenheit - 32) * (5 / 9) + 273.15)\n",
    "    return \"Unknown Scale!\"\n",
    "\n",
    "convert_fahrenheit(33, \"Kelvin\")"
   ]
  },
  {
   "cell_type": "markdown",
   "id": "09c32ffb-d3c6-444f-ab6d-546fa4ff3c64",
   "metadata": {},
   "source": [
    "# Exercise 3"
   ]
  },
  {
   "cell_type": "code",
   "execution_count": 11,
   "id": "386ab72c-6c2e-4ae4-8a38-74c6f0657b80",
   "metadata": {},
   "outputs": [
    {
     "name": "stdout",
     "output_type": "stream",
     "text": [
      "please enter temperature in numericals\n"
     ]
    }
   ],
   "source": [
    "def convert_temperature(temperature, source_scale, target_scale):\n",
    "    try:\n",
    "        temperature = int(temperature)\n",
    "        if source_scale == 'Fahrenheit':\n",
    "            if target_scale == 'Celsius':\n",
    "                return ((temperature - 32) * (5 / 9))\n",
    "            elif target_scale == \"Kelvin\":\n",
    "                return ((temperature - 32) * (5 / 9) + 273.15)\n",
    "            else:\n",
    "                return ('unknown target scale!')\n",
    "        elif source_scale == \"Celsius\":\n",
    "            if target_scale == 'Fahrenheit':\n",
    "                return (temperature * (9/5)  + 32)\n",
    "            elif target_scale == \"Kelvin\":\n",
    "                return (temperature + 273.15)\n",
    "            else:\n",
    "                return ('unknown target scale!')\n",
    "        elif source_scale == \"Kelvin\":\n",
    "            if target_scale == \"Celsius\":\n",
    "                return (temperature - 273.15)\n",
    "            elif target_scale == \"Fahrenheit\":\n",
    "                return ((temperature - 273.15) *  (9 / 5) + 32)\n",
    "        return (\"unknown source scale!\")\n",
    "    except ValueError:\n",
    "        print(\"please enter temperature in numericals\")\n",
    "    \n",
    "convert_temperature(\"haha\",\"Fahrenheit\",\"Celsius\")"
   ]
  },
  {
   "cell_type": "code",
   "execution_count": null,
   "id": "58d9f30c-0085-45cc-bf80-5295133b5b20",
   "metadata": {},
   "outputs": [],
   "source": []
  }
 ],
 "metadata": {
  "kernelspec": {
   "display_name": "Python 3 (ipykernel)",
   "language": "python",
   "name": "python3"
  },
  "language_info": {
   "codemirror_mode": {
    "name": "ipython",
    "version": 3
   },
   "file_extension": ".py",
   "mimetype": "text/x-python",
   "name": "python",
   "nbconvert_exporter": "python",
   "pygments_lexer": "ipython3",
   "version": "3.11.5"
  },
  "toc": {
   "base_numbering": 1,
   "nav_menu": {},
   "number_sections": true,
   "sideBar": true,
   "skip_h1_title": false,
   "title_cell": "Table of Contents",
   "title_sidebar": "Contents",
   "toc_cell": false,
   "toc_position": {},
   "toc_section_display": true,
   "toc_window_display": false
  },
  "vscode": {
   "interpreter": {
    "hash": "31f2aee4e71d21fbe5cf8b01ff0e069b9275f58929596ceb00d14d90e3e16cd6"
   }
  }
 },
 "nbformat": 4,
 "nbformat_minor": 5
}
