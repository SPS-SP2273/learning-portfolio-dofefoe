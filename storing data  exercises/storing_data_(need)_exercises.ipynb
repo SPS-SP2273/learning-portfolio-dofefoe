{
 "cells": [
  {
   "attachments": {},
   "cell_type": "markdown",
   "id": "123456",
   "metadata": {},
   "source": [
    "<div style=\"text-align:left;font-size:2em\"><span style=\"font-weight:bolder;font-size:1.25em\">SP2273 | Learning Portfolio</span><br><br><span style=\"font-weight:bold;color:darkred\">Storing Data (Need) Exercises</span></div>"
   ]
  },
  {
   "cell_type": "markdown",
   "id": "77870580-fed5-4780-95a6-926977c9a5e0",
   "metadata": {},
   "source": [
    "# Exercise 1\n",
    "\n",
    "Purely from memory, jot down:\n",
    "\n",
    "1. Two similarities between lists and arrays.\n",
    "   - Both have elements that are indexed starting from 0 and can be expanded to hold more elements\n",
    "3. Two differences between lists and arrays.\n",
    "   - lists can store multiple data types while arrays can only store one. Mathematical operators can be used on arrays to query about its elements while lists does not have that function.\n",
    "5. What is a dictionary?\n",
    "   - It is a list that holds elements that corresponds to keys. Calling a elements would requires its key and the corresponding element will be returned."
   ]
  },
  {
   "cell_type": "markdown",
   "id": "77ee60c6-69fa-4018-8f00-2e83baaddc99",
   "metadata": {},
   "source": [
    "# Exercise 2"
   ]
  },
  {
   "cell_type": "code",
   "execution_count": 49,
   "id": "ea0d1db2-2328-47ea-8885-d4feeadc60ad",
   "metadata": {},
   "outputs": [
    {
     "name": "stdout",
     "output_type": "stream",
     "text": [
      "['a1', 'c3', 'e5', 'g7', 'i9']\n",
      "['a1', 'c3', 'e5', 'g7', 'i9']\n"
     ]
    }
   ],
   "source": [
    "py_list = [\"a1\", \"b2\", \"c3\", \"d4\", \"e5\", \"f6\", \"g7\", \"h8\", \"i9\", \"j10\"]\n",
    "print(py_list[::2])\n",
    "#alternatively\n",
    "print([i for i in py_list if (int(''.join([n for n in i if n.isdigit()]))) % 2 == 1]) \n",
    "#checks if the number in the string is odd, will print element even if not in order or multiple char eg aa27\n",
    "\n"
   ]
  },
  {
   "cell_type": "markdown",
   "id": "35f563cc-6381-4b36-b693-f995ad5dab06",
   "metadata": {},
   "source": [
    "# Exercise 3"
   ]
  },
  {
   "cell_type": "code",
   "execution_count": 62,
   "id": "fd882002-767a-4c8c-9b69-05e118729b56",
   "metadata": {},
   "outputs": [
    {
     "name": "stdout",
     "output_type": "stream",
     "text": [
      "['Boron', 'Carbon', 'Nitrogen', 'Oxygen', 'Fluorine', 'Neon']\n",
      "['Neon', 'Fluorine', 'Oxygen', 'Nitrogen', 'Carbon', 'Boron']\n"
     ]
    }
   ],
   "source": [
    "elements = ['Hydrogen',\n",
    "            'Helium', 'Lithium',\n",
    "            'Beryllium', 'Boron', 'Carbon',\n",
    "            'Nitrogen', 'Oxygen',\n",
    "            'Fluorine',\n",
    "            'Neon']\n",
    "\n",
    "print(elements[4:]) #index 4 onwards\n",
    "print(elements[-1:3:-1]) #last index to index 3-(-1)"
   ]
  },
  {
   "cell_type": "markdown",
   "id": "a1dc7773-cdde-4986-bbc9-f66dcc660e16",
   "metadata": {},
   "source": [
    "# Exercise 4"
   ]
  },
  {
   "cell_type": "code",
   "execution_count": 65,
   "id": "bb10bf43-389c-4b8d-97da-1935cdf0522a",
   "metadata": {},
   "outputs": [
    {
     "name": "stdout",
     "output_type": "stream",
     "text": [
      "9\n",
      "9\n"
     ]
    }
   ],
   "source": [
    "numbers=[45, 60, 1, 30, 96, 1, 96, 57, 16, 1,\n",
    "        99, 62, 86, 43, 42, 60, 59, 1, 1, 35,\n",
    "        83, 47, 34, 28, 68, 23, 22, 92, 1, 79,\n",
    "        1, 29, 94, 72, 46, 47, 1, 74, 32, 20,\n",
    "        8, 37, 35, 1, 89, 29, 86, 19, 43, 61]         \n",
    "\n",
    "print(len([x for x in numbers if x == 1]))\n",
    "\n",
    "#alternatively by numpy\n",
    "import numpy as np\n",
    "a1 = np.array(numbers)\n",
    "print(sum(a1 == 1))"
   ]
  },
  {
   "cell_type": "code",
   "execution_count": null,
   "id": "10e17677-50cc-45b2-b1a8-0753f685fc1f",
   "metadata": {},
   "outputs": [],
   "source": []
  }
 ],
 "metadata": {
  "kernelspec": {
   "display_name": "Python 3 (ipykernel)",
   "language": "python",
   "name": "python3"
  },
  "language_info": {
   "codemirror_mode": {
    "name": "ipython",
    "version": 3
   },
   "file_extension": ".py",
   "mimetype": "text/x-python",
   "name": "python",
   "nbconvert_exporter": "python",
   "pygments_lexer": "ipython3",
   "version": "3.11.5"
  },
  "toc": {
   "base_numbering": 1,
   "nav_menu": {},
   "number_sections": true,
   "sideBar": true,
   "skip_h1_title": false,
   "title_cell": "Table of Contents",
   "title_sidebar": "Contents",
   "toc_cell": false,
   "toc_position": {},
   "toc_section_display": true,
   "toc_window_display": false
  },
  "vscode": {
   "interpreter": {
    "hash": "31f2aee4e71d21fbe5cf8b01ff0e069b9275f58929596ceb00d14d90e3e16cd6"
   }
  }
 },
 "nbformat": 4,
 "nbformat_minor": 5
}
