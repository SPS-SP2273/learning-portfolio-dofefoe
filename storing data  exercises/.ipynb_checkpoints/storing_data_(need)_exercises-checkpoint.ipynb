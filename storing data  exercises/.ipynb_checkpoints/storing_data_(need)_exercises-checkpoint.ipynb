{
 "cells": [
  {
   "attachments": {},
   "cell_type": "markdown",
   "id": "123456",
   "metadata": {},
   "source": [
    "<div style=\"text-align:left;font-size:2em\"><span style=\"font-weight:bolder;font-size:1.25em\">SP2273 | Learning Portfolio</span><br><br><span style=\"font-weight:bold;color:darkred\">Storing Data (Need) Exercises</span></div>"
   ]
  },
  {
   "cell_type": "markdown",
   "id": "77870580-fed5-4780-95a6-926977c9a5e0",
   "metadata": {},
   "source": [
    "#Exercise 1\n",
    "\n",
    "Purely from memory, jot down:\n",
    "\n",
    "1. Two similarities between lists and arrays.\n",
    "   - Both have elements that are indexed starting from 0 and can be expanded to hold more elements\n",
    "3. Two differences between lists and arrays.\n",
    "   - lists can store multiple data types while arrays can only store one. Mathematical operators can be used on arrays to query about its elements while lists does not have that function.\n",
    "5. What is a dictionary?\n",
    "   -It is a list that holds elements that corresponds to keys. Calling a elements would requires its key and the corresponding element will be returned."
   ]
  }
 ],
 "metadata": {
  "kernelspec": {
   "display_name": "Python 3 (ipykernel)",
   "language": "python",
   "name": "python3"
  },
  "language_info": {
   "codemirror_mode": {
    "name": "ipython",
    "version": 3
   },
   "file_extension": ".py",
   "mimetype": "text/x-python",
   "name": "python",
   "nbconvert_exporter": "python",
   "pygments_lexer": "ipython3",
   "version": "3.11.5"
  },
  "toc": {
   "base_numbering": 1,
   "nav_menu": {},
   "number_sections": true,
   "sideBar": true,
   "skip_h1_title": false,
   "title_cell": "Table of Contents",
   "title_sidebar": "Contents",
   "toc_cell": false,
   "toc_position": {},
   "toc_section_display": true,
   "toc_window_display": false
  },
  "vscode": {
   "interpreter": {
    "hash": "31f2aee4e71d21fbe5cf8b01ff0e069b9275f58929596ceb00d14d90e3e16cd6"
   }
  }
 },
 "nbformat": 4,
 "nbformat_minor": 5
}
