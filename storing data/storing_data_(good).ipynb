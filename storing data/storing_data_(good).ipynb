{
 "cells": [
  {
   "attachments": {},
   "cell_type": "markdown",
   "id": "123456",
   "metadata": {},
   "source": [
    "<div style=\"text-align:left;font-size:2em\"><span style=\"font-weight:bolder;font-size:1.25em\">SP2273 | Learning Portfolio</span><br><br><span style=\"font-weight:bold;color:darkred\">Storing Data (Good)</span></div>"
   ]
  },
  {
   "attachments": {},
   "cell_type": "markdown",
   "id": "23ffef3e",
   "metadata": {},
   "source": [
    "# What to expect in this chapter"
   ]
  },
  {
   "attachments": {},
   "cell_type": "markdown",
   "id": "31d26cb6",
   "metadata": {},
   "source": [
    "# 1 Subsetting: Indexing and Slicing"
   ]
  },
  {
   "attachments": {},
   "cell_type": "markdown",
   "id": "e10b4aec",
   "metadata": {},
   "source": [
    "## 1.1 Lists & Arrays in 1D | Subsetting & Indexing"
   ]
  },
  {
   "cell_type": "markdown",
   "id": "fbed5af1-6960-40cf-9c28-a7990d169f2d",
   "metadata": {},
   "source": [
    "let our sample list be `pylist = [\"a1\", \"b2\", \"c3\", \"d4\", \"e5\",\"f6\", \"g7\", \"h8\", \"i9\", \"j10\"]`\n",
    "\n",
    "The following will work for both lists and arrays\n",
    "\n",
    "| Syntax    | Result                          | Output                          | Note                                    |\n",
    "|-----------|---------------------------------|---------------------------------|-----------------------------------------|\n",
    "| x[0]      | First element                   | 'a1'                            |                                         |\n",
    "| x[-1]     | Last element                    | 'j10'                           |                                         |\n",
    "| x[0:3]    | Index 0 to 2                    | ['a1','b2','c3']                | Gives 3 - 0 = 3 elements                |\n",
    "| x[1:6]    | Index 1 to 5                    | ['b2','c3','d4','e5','f6']      | Gives 6 - 1 = 5 elements                |\n",
    "| x[1:6:2]  | Index 1 to 5 in steps of 2      | ['b2','d4','f6']                | Gives every other of 6 - 1 = 5 elements |\n",
    "| x[5:]     | Index 5 to the end              | ['f6','g7','h8','i9','j10']     | Gives len(x)-5 = 5 elements             |\n",
    "| x[:5]     | Index 0 to 5                    | ['a1','b2','c3','d4','e5']      | Gives 5 - 0 = 5 elements                |\n",
    "| x[5:2:-1] | Index 5 to 3 (i.e., in reverse) | ['f6','e5','d4']                | Gives 5 - 2 = 3 elements                |\n",
    "| x[::-1]   | Reverses the list               | ['j10','i9','h8',...,'b2','a1'] |                                         |\n",
    "\n",
    "Do note that for `[i:j]`, slicing starts at `i` and ends at `j-1`"
   ]
  },
  {
   "attachments": {},
   "cell_type": "markdown",
   "id": "ea07c884",
   "metadata": {},
   "source": [
    "## 1.2 Arrays only | Subsetting by masking"
   ]
  },
  {
   "cell_type": "code",
   "execution_count": 3,
   "id": "e640de32-4200-47ea-836c-e79ecf187020",
   "metadata": {},
   "outputs": [
    {
     "data": {
      "text/plain": [
       "array([ 4,  5,  6,  7,  8,  9, 10])"
      ]
     },
     "execution_count": 3,
     "metadata": {},
     "output_type": "execute_result"
    }
   ],
   "source": [
    "import numpy as np\n",
    "np_array = np.array([1, 2, 3, 4, 5, 6, 7, 8, 9, 10])\n",
    "my_mask = np_array > 3\n",
    "my_mask #return array with false for elements below 3 and true for others\n",
    "np_array[my_mask] #returns elements that are true in mask array only"
   ]
  },
  {
   "cell_type": "code",
   "execution_count": null,
   "id": "218a8c22-8547-41e5-8dc4-004949f3f019",
   "metadata": {},
   "outputs": [],
   "source": [
    "np_array[np_array > 3] #shortened 3 lines to 1"
   ]
  },
  {
   "cell_type": "code",
   "execution_count": 4,
   "id": "47dff801-e708-46fd-9fa3-6a36afd23af7",
   "metadata": {},
   "outputs": [
    {
     "data": {
      "text/plain": [
       "array([1, 2, 3])"
      ]
     },
     "execution_count": 4,
     "metadata": {},
     "output_type": "execute_result"
    }
   ],
   "source": [
    "np_array[~(np_array > 3)] # '~' 'NOT' not operator"
   ]
  },
  {
   "cell_type": "code",
   "execution_count": 5,
   "id": "790b4e96-39c2-425e-a32c-83ba684b5bbd",
   "metadata": {},
   "outputs": [
    {
     "data": {
      "text/plain": [
       "array([4, 5, 6, 7])"
      ]
     },
     "execution_count": 5,
     "metadata": {},
     "output_type": "execute_result"
    }
   ],
   "source": [
    "np_array[(np_array > 3) & (np_array < 8)] #combining masks\n",
    "np_array[(np_array < 3) | (np_array > 8)] "
   ]
  },
  {
   "attachments": {},
   "cell_type": "markdown",
   "id": "5c7ea465",
   "metadata": {},
   "source": [
    "## 1.3 Lists & Arrays in 2D | Indexing & Slicing"
   ]
  },
  {
   "cell_type": "code",
   "execution_count": 15,
   "id": "f43f7c4d-9436-4e77-9088-fd3c6c22e23d",
   "metadata": {},
   "outputs": [],
   "source": [
    "py_list_2d = [[1, \"A\"], [2, \"B\"], [3, \"C\"], [4, \"D\"],\n",
    "              [5, \"E\"], [6, \"F\"], [7, \"G\"], [8, \"H\"],\n",
    "              [9, \"I\"], [10, \"J\"]]\n",
    "\n",
    "np_array_2d = np.array(py_list_2d)"
   ]
  },
  {
   "cell_type": "code",
   "execution_count": 7,
   "id": "48e96ecb-fbc5-40bb-be9f-c4460a908b36",
   "metadata": {},
   "outputs": [
    {
     "data": {
      "text/plain": [
       "array(['4', 'D'], dtype='<U11')"
      ]
     },
     "execution_count": 7,
     "metadata": {},
     "output_type": "execute_result"
    }
   ],
   "source": [
    "py_list_2d[3]\n",
    "np_array_2d[3] #both return list at index 3, note array turned int into str"
   ]
  },
  {
   "cell_type": "code",
   "execution_count": 9,
   "id": "cceff390-1b96-44b5-bef1-b52a2cafc451",
   "metadata": {},
   "outputs": [
    {
     "data": {
      "text/plain": [
       "4"
      ]
     },
     "execution_count": 9,
     "metadata": {},
     "output_type": "execute_result"
    }
   ],
   "source": [
    "py_list_2d[3][0]#index 0 of index 3 in the 2d array"
   ]
  },
  {
   "cell_type": "code",
   "execution_count": 10,
   "id": "355a5d8a-56bb-4a6d-a9bb-a03bdb2dc954",
   "metadata": {},
   "outputs": [
    {
     "data": {
      "text/plain": [
       "'4'"
      ]
     },
     "execution_count": 10,
     "metadata": {},
     "output_type": "execute_result"
    }
   ],
   "source": [
    "np_array_2d[3, 0] #array has a different syntax for retrieving elements in multidimensional arrays."
   ]
  },
  {
   "cell_type": "code",
   "execution_count": 11,
   "id": "22188a99-e660-4af4-9cfe-03458af4ec3c",
   "metadata": {},
   "outputs": [
    {
     "data": {
      "text/plain": [
       "[[1, 'A'], [2, 'B'], [3, 'C']]"
      ]
     },
     "execution_count": 11,
     "metadata": {},
     "output_type": "execute_result"
    }
   ],
   "source": [
    "py_list_2d[:3] #calls first 3 elements index 0-2\n",
    "np_array_2d[:3]"
   ]
  },
  {
   "cell_type": "code",
   "execution_count": 20,
   "id": "9e925ad1-548a-4c4a-9445-7140dd2d27f6",
   "metadata": {},
   "outputs": [
    {
     "data": {
      "text/plain": [
       "[[1, 'A'], [2, 'B'], [3, 'C']]"
      ]
     },
     "execution_count": 20,
     "metadata": {},
     "output_type": "execute_result"
    }
   ],
   "source": [
    "py_list_2d[:3][0] #only [1,\"A\"] is returned\n",
    "np_array_2d[:3, 0]\n",
    "py_list_2d[:3]"
   ]
  },
  {
   "attachments": {},
   "cell_type": "markdown",
   "id": "b33637c0",
   "metadata": {},
   "source": [
    "## 1.4 Growing lists"
   ]
  },
  {
   "attachments": {},
   "cell_type": "markdown",
   "id": "938c1f86",
   "metadata": {},
   "source": [
    "# Some loose ends"
   ]
  },
  {
   "attachments": {},
   "cell_type": "markdown",
   "id": "4710028a",
   "metadata": {},
   "source": [
    "## 1.5 Tuples"
   ]
  },
  {
   "attachments": {},
   "cell_type": "markdown",
   "id": "0610b5d7",
   "metadata": {},
   "source": [
    "## 1.6 Be VERY careful when copying"
   ]
  },
  {
   "attachments": {},
   "cell_type": "markdown",
   "id": "1016ee2f",
   "metadata": {},
   "source": [
    "# Exercises & Self-Assessment"
   ]
  },
  {
   "cell_type": "code",
   "execution_count": null,
   "id": "1e14431c",
   "metadata": {},
   "outputs": [],
   "source": [
    "\n",
    "\n",
    "\n",
    "# Your solution here\n",
    "\n",
    "\n"
   ]
  },
  {
   "attachments": {},
   "cell_type": "markdown",
   "id": "cfa98594",
   "metadata": {},
   "source": [
    "## Footnotes"
   ]
  }
 ],
 "metadata": {
  "kernelspec": {
   "display_name": "Python 3 (ipykernel)",
   "language": "python",
   "name": "python3"
  },
  "language_info": {
   "codemirror_mode": {
    "name": "ipython",
    "version": 3
   },
   "file_extension": ".py",
   "mimetype": "text/x-python",
   "name": "python",
   "nbconvert_exporter": "python",
   "pygments_lexer": "ipython3",
   "version": "3.11.5"
  },
  "toc": {
   "base_numbering": 1,
   "nav_menu": {},
   "number_sections": true,
   "sideBar": true,
   "skip_h1_title": false,
   "title_cell": "Table of Contents",
   "title_sidebar": "Contents",
   "toc_cell": false,
   "toc_position": {},
   "toc_section_display": true,
   "toc_window_display": false
  },
  "vscode": {
   "interpreter": {
    "hash": "31f2aee4e71d21fbe5cf8b01ff0e069b9275f58929596ceb00d14d90e3e16cd6"
   }
  }
 },
 "nbformat": 4,
 "nbformat_minor": 5
}
