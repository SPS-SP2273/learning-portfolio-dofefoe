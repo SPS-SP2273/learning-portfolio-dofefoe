{
 "cells": [
  {
   "attachments": {},
   "cell_type": "markdown",
   "id": "123456",
   "metadata": {},
   "source": [
    "<div style=\"text-align:left;font-size:2em\"><span style=\"font-weight:bolder;font-size:1.25em\">SP2273 | Learning Portfolio</span><br><br><span style=\"font-weight:bold;color:darkred\">Storing Data (Need)</span></div>"
   ]
  },
  {
   "attachments": {},
   "cell_type": "markdown",
   "id": "f9f637ea",
   "metadata": {},
   "source": [
    "# 1 Lists, Arrays & Dictionaries"
   ]
  },
  {
   "attachments": {},
   "cell_type": "markdown",
   "id": "dc14c382",
   "metadata": {},
   "source": [
    "## 1.1 Let’s compare"
   ]
  },
  {
   "cell_type": "code",
   "execution_count": 10,
   "id": "9bfb9fdf-7221-4c2b-89a7-675f4bb1190d",
   "metadata": {},
   "outputs": [
    {
     "name": "stdout",
     "output_type": "stream",
     "text": [
      "black widow\n",
      "Doctor Strange\n"
     ]
    }
   ],
   "source": [
    "py_list = [\"black widow\",\"iron man\",\"Doctor Strange\"] #python list exists as a class in default python package\n",
    "pylist_2d = [py_list,\"1\",10,[\"apple\",\"banana\"]]#also able to store multiple classes, including other lists\n"
   ]
  },
  {
   "cell_type": "code",
   "execution_count": 8,
   "id": "c798c8a4-e6a4-47c4-86cb-b8ac6acddbc8",
   "metadata": {},
   "outputs": [],
   "source": [
    "import numpy as np\n",
    "np_array = np.array([\"black widow\",\"iron man\",\"doctor strange\"])\n",
    "np_similar = np.array(py_list)\n",
    "#numpy array, accepts lists\n",
    "#however, the contents of list can only be of single class"
   ]
  },
  {
   "cell_type": "code",
   "execution_count": 9,
   "id": "064a7931-5a86-4931-a84d-87931d7b7eb1",
   "metadata": {},
   "outputs": [],
   "source": [
    "dict1 = {\"natasha romanoff\": \"black widow\",\"tony stark\": \"iron man\",\"stephen strange\": \"doctor strange\"} #dictionary class, assigns value to a key "
   ]
  },
  {
   "attachments": {},
   "cell_type": "markdown",
   "id": "56fd5a2c",
   "metadata": {},
   "source": [
    "## 1.2 Accessing data from a list (or array)"
   ]
  },
  {
   "cell_type": "code",
   "execution_count": 13,
   "id": "dafdb90e-9254-4052-8f5d-9581b99030b8",
   "metadata": {},
   "outputs": [
    {
     "name": "stdout",
     "output_type": "stream",
     "text": [
      "black widow\n",
      "Doctor Strange\n",
      "iron man\n"
     ]
    }
   ],
   "source": [
    "print(py_list[0]) #index starts from 0 in python\n",
    "print(py_list[-1]) #negative number to start from end, useful for when length is unknown\n",
    "#print(py_list[3]) #using index out of range throws error\n",
    "print(np_array[1]) #np_array can be referenced similar to lsit"
   ]
  },
  {
   "attachments": {},
   "cell_type": "markdown",
   "id": "ae176bfb",
   "metadata": {},
   "source": [
    "## 1.3 Accessing data from a dictionary"
   ]
  },
  {
   "cell_type": "code",
   "execution_count": 15,
   "id": "c1ff0b84-36aa-4c85-a04f-b6b326c533cd",
   "metadata": {},
   "outputs": [
    {
     "data": {
      "text/plain": [
       "dict_values(['black widow', 'iron man', 'doctor strange'])"
      ]
     },
     "execution_count": 15,
     "metadata": {},
     "output_type": "execute_result"
    }
   ],
   "source": [
    "dict1.keys()\n",
    "dict1.values()"
   ]
  },
  {
   "cell_type": "code",
   "execution_count": 17,
   "id": "21fc1c92-2722-40d4-83e6-7350e7c82a66",
   "metadata": {},
   "outputs": [
    {
     "ename": "KeyError",
     "evalue": "'black widow'",
     "output_type": "error",
     "traceback": [
      "\u001b[1;31m---------------------------------------------------------------------------\u001b[0m",
      "\u001b[1;31mKeyError\u001b[0m                                  Traceback (most recent call last)",
      "Cell \u001b[1;32mIn[17], line 2\u001b[0m\n\u001b[0;32m      1\u001b[0m dict1[\u001b[38;5;124m\"\u001b[39m\u001b[38;5;124mnatasha romanoff\u001b[39m\u001b[38;5;124m\"\u001b[39m] \u001b[38;5;66;03m#keys can be used to reference values\u001b[39;00m\n\u001b[1;32m----> 2\u001b[0m \u001b[43mdict1\u001b[49m\u001b[43m[\u001b[49m\u001b[38;5;124;43m\"\u001b[39;49m\u001b[38;5;124;43mblack widow\u001b[39;49m\u001b[38;5;124;43m\"\u001b[39;49m\u001b[43m]\u001b[49m\n",
      "\u001b[1;31mKeyError\u001b[0m: 'black widow'"
     ]
    }
   ],
   "source": [
    "dict1[\"natasha romanoff\"] #keys can be used to reference values\n",
    "dict1[\"black widow\"] #but vice versa does not work"
   ]
  },
  {
   "attachments": {},
   "cell_type": "markdown",
   "id": "fc4dc0c8",
   "metadata": {},
   "source": [
    "## 1.4 Higher dimensional lists"
   ]
  },
  {
   "cell_type": "code",
   "execution_count": 23,
   "id": "697e5896-603c-499a-bc11-8d40b414edee",
   "metadata": {},
   "outputs": [],
   "source": [
    "pylist_2 = [['Natasha Romanoff', 'Black Widow'],['Tony Stark', 'Iron Man'],['Stephen Strange', 'Doctor Strange']] #A 2D list"
   ]
  },
  {
   "attachments": {},
   "cell_type": "markdown",
   "id": "438dd9d5",
   "metadata": {},
   "source": [
    "# 2 Lists vs. Arrays"
   ]
  },
  {
   "attachments": {},
   "cell_type": "markdown",
   "id": "f1f16561",
   "metadata": {},
   "source": [
    "## 2.1 Size"
   ]
  },
  {
   "cell_type": "code",
   "execution_count": 25,
   "id": "a743e93c-8e94-4877-8625-98274900e357",
   "metadata": {},
   "outputs": [
    {
     "data": {
      "text/plain": [
       "(3, 2)"
      ]
     },
     "execution_count": 25,
     "metadata": {},
     "output_type": "execute_result"
    }
   ],
   "source": [
    "len(py_list) \n",
    "len(np_array) #len function works for both list and array\n",
    "np_array_2d = np.array(pylist_2)\n",
    "np_array_2d.shape #length,dimension"
   ]
  },
  {
   "attachments": {},
   "cell_type": "markdown",
   "id": "5250dc58",
   "metadata": {},
   "source": [
    "## 2.2 Arrays are fussy about type"
   ]
  },
  {
   "cell_type": "code",
   "execution_count": 33,
   "id": "a40a1973-bbc3-4453-9cac-8b29448a038c",
   "metadata": {},
   "outputs": [
    {
     "name": "stdout",
     "output_type": "stream",
     "text": [
      "[['a' '3']\n",
      " ['b' '1']\n",
      " ['c' '2']]\n",
      "[[0 0]\n",
      " [1 1]\n",
      " [2 1]]\n"
     ]
    }
   ],
   "source": [
    "pylist_22 = [[\"a\",3],[\"b\",1],[\"c\",2]]\n",
    "print(np.array(pylist_22))  #note that array only allows 1 class, seems to convert most classes to str with no issue\n",
    "pylist_test = [[0,False],[1,True],[2,True]]\n",
    "print(np.array(pylist_test)) #in this case, boolean converts to int"
   ]
  },
  {
   "attachments": {},
   "cell_type": "markdown",
   "id": "dfdac211",
   "metadata": {},
   "source": [
    "## 2.3 Adding a number"
   ]
  },
  {
   "cell_type": "code",
   "execution_count": 41,
   "id": "ad2735e3-d3cf-4435-aab9-3676382f6bd2",
   "metadata": {},
   "outputs": [
    {
     "name": "stdout",
     "output_type": "stream",
     "text": [
      "[1, 2, 3, 4, 5, 10]\n",
      "[11 12 13 14 15]\n"
     ]
    }
   ],
   "source": [
    "py_list1 = [1,2,3,4,5]\n",
    "np_array1 = np.array(py_list1)\n",
    "#py_list + 10 #throws error, only concat allowed\n",
    "print(py_list1 + [10]) #concat list of single value 10 to end\n",
    "print(np_array1 + 10) #for array, 10 is added to each value within"
   ]
  },
  {
   "attachments": {},
   "cell_type": "markdown",
   "id": "afb9925e",
   "metadata": {},
   "source": [
    "## 2.4 Adding another list"
   ]
  },
  {
   "attachments": {},
   "cell_type": "markdown",
   "id": "608597e0",
   "metadata": {},
   "source": [
    "## 2.5 Multiplying by a Number"
   ]
  },
  {
   "attachments": {},
   "cell_type": "markdown",
   "id": "cae1a7b8",
   "metadata": {},
   "source": [
    "## 2.6 Squaring"
   ]
  },
  {
   "attachments": {},
   "cell_type": "markdown",
   "id": "a6433a54",
   "metadata": {},
   "source": [
    "## 2.7 Asking questions"
   ]
  },
  {
   "attachments": {},
   "cell_type": "markdown",
   "id": "b5efc691",
   "metadata": {},
   "source": [
    "## 2.8 Mathematics"
   ]
  },
  {
   "attachments": {},
   "cell_type": "markdown",
   "id": "3f137742",
   "metadata": {},
   "source": [
    "# Exercises & Self-Assessment"
   ]
  },
  {
   "cell_type": "code",
   "execution_count": null,
   "id": "ce73f6ad",
   "metadata": {},
   "outputs": [],
   "source": [
    "\n",
    "\n",
    "\n",
    "# Your solution here\n",
    "\n",
    "\n"
   ]
  },
  {
   "attachments": {},
   "cell_type": "markdown",
   "id": "55725899",
   "metadata": {},
   "source": [
    "## Footnotes"
   ]
  }
 ],
 "metadata": {
  "kernelspec": {
   "display_name": "Python 3 (ipykernel)",
   "language": "python",
   "name": "python3"
  },
  "language_info": {
   "codemirror_mode": {
    "name": "ipython",
    "version": 3
   },
   "file_extension": ".py",
   "mimetype": "text/x-python",
   "name": "python",
   "nbconvert_exporter": "python",
   "pygments_lexer": "ipython3",
   "version": "3.11.5"
  },
  "toc": {
   "base_numbering": 1,
   "nav_menu": {},
   "number_sections": true,
   "sideBar": true,
   "skip_h1_title": false,
   "title_cell": "Table of Contents",
   "title_sidebar": "Contents",
   "toc_cell": false,
   "toc_position": {},
   "toc_section_display": true,
   "toc_window_display": false
  },
  "vscode": {
   "interpreter": {
    "hash": "31f2aee4e71d21fbe5cf8b01ff0e069b9275f58929596ceb00d14d90e3e16cd6"
   }
  }
 },
 "nbformat": 4,
 "nbformat_minor": 5
}
