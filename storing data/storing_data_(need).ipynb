{
 "cells": [
  {
   "attachments": {},
   "cell_type": "markdown",
   "id": "123456",
   "metadata": {},
   "source": [
    "<div style=\"text-align:left;font-size:2em\"><span style=\"font-weight:bolder;font-size:1.25em\">SP2273 | Learning Portfolio</span><br><br><span style=\"font-weight:bold;color:darkred\">Storing Data (Need)</span></div>"
   ]
  },
  {
   "attachments": {},
   "cell_type": "markdown",
   "id": "f9f637ea",
   "metadata": {},
   "source": [
    "# 1 Lists, Arrays, Dictionaries & tuple"
   ]
  },
  {
   "attachments": {},
   "cell_type": "markdown",
   "id": "dc14c382",
   "metadata": {},
   "source": [
    "## 1.1 Let’s compare"
   ]
  },
  {
   "cell_type": "code",
   "execution_count": 45,
   "id": "9bfb9fdf-7221-4c2b-89a7-675f4bb1190d",
   "metadata": {},
   "outputs": [],
   "source": [
    "py_list = [\"black widow\",\"iron man\",\"Doctor Strange\"] #python list exists as a class in default python package\n",
    "pylist_2d = [py_list,\"1\",10,[\"apple\",\"banana\"]]#also able to store multiple classes, including other lists\n"
   ]
  },
  {
   "cell_type": "code",
   "execution_count": 46,
   "id": "c798c8a4-e6a4-47c4-86cb-b8ac6acddbc8",
   "metadata": {},
   "outputs": [
    {
     "data": {
      "text/plain": [
       "dtype('<U14')"
      ]
     },
     "execution_count": 46,
     "metadata": {},
     "output_type": "execute_result"
    }
   ],
   "source": [
    "import numpy as np\n",
    "np_array = np.array([\"black widow\",\"iron man\",\"doctor strange\"])\n",
    "np_similar = np.array(py_list)  #numpy array, accepts lists\n",
    "np_similar.dtype               #however, the contents of list can only be of single class\n"
   ]
  },
  {
   "cell_type": "code",
   "execution_count": 1,
   "id": "064a7931-5a86-4931-a84d-87931d7b7eb1",
   "metadata": {},
   "outputs": [],
   "source": [
    "dict1 = {\"natasha romanoff\": \"black widow\",\"tony stark\": \"iron man\",\"stephen strange\": \"doctor strange\"} #dictionary class, assigns value to a key "
   ]
  },
  {
   "cell_type": "code",
   "execution_count": 6,
   "id": "0d854dfd-5724-47f6-bf93-f238395c1268",
   "metadata": {},
   "outputs": [
    {
     "data": {
      "text/plain": [
       "['natasha romanoff', 'tony stark', 'stephen strange']"
      ]
     },
     "execution_count": 6,
     "metadata": {},
     "output_type": "execute_result"
    }
   ],
   "source": [
    " list(dict1)"
   ]
  },
  {
   "cell_type": "code",
   "execution_count": 57,
   "id": "bac7214c-23b1-4b4e-b8ca-53b13774002c",
   "metadata": {},
   "outputs": [],
   "source": [
    "tuple1 = (\"black widow\", \"iron man\", \"doctor strange\") #tuple are immutable while lists are mutable"
   ]
  },
  {
   "attachments": {},
   "cell_type": "markdown",
   "id": "56fd5a2c",
   "metadata": {},
   "source": [
    "## 1.2 Accessing data from a list (or array)"
   ]
  },
  {
   "cell_type": "code",
   "execution_count": 13,
   "id": "dafdb90e-9254-4052-8f5d-9581b99030b8",
   "metadata": {},
   "outputs": [
    {
     "name": "stdout",
     "output_type": "stream",
     "text": [
      "black widow\n",
      "Doctor Strange\n",
      "iron man\n"
     ]
    }
   ],
   "source": [
    "print(py_list[0]) #index starts from 0 in python\n",
    "print(py_list[-1]) #negative number to start from end, useful for when length is unknown\n",
    "#print(py_list[3]) #using index out of range throws error\n",
    "print(np_array[1]) #np_array can be referenced similar to list"
   ]
  },
  {
   "attachments": {},
   "cell_type": "markdown",
   "id": "ae176bfb",
   "metadata": {},
   "source": [
    "## 1.3 Accessing data from a dictionary"
   ]
  },
  {
   "cell_type": "code",
   "execution_count": 15,
   "id": "c1ff0b84-36aa-4c85-a04f-b6b326c533cd",
   "metadata": {},
   "outputs": [
    {
     "data": {
      "text/plain": [
       "dict_values(['black widow', 'iron man', 'doctor strange'])"
      ]
     },
     "execution_count": 15,
     "metadata": {},
     "output_type": "execute_result"
    }
   ],
   "source": [
    "dict1.keys()\n",
    "dict1.values()"
   ]
  },
  {
   "cell_type": "code",
   "execution_count": 17,
   "id": "21fc1c92-2722-40d4-83e6-7350e7c82a66",
   "metadata": {},
   "outputs": [
    {
     "ename": "KeyError",
     "evalue": "'black widow'",
     "output_type": "error",
     "traceback": [
      "\u001b[1;31m---------------------------------------------------------------------------\u001b[0m",
      "\u001b[1;31mKeyError\u001b[0m                                  Traceback (most recent call last)",
      "Cell \u001b[1;32mIn[17], line 2\u001b[0m\n\u001b[0;32m      1\u001b[0m dict1[\u001b[38;5;124m\"\u001b[39m\u001b[38;5;124mnatasha romanoff\u001b[39m\u001b[38;5;124m\"\u001b[39m] \u001b[38;5;66;03m#keys can be used to reference values\u001b[39;00m\n\u001b[1;32m----> 2\u001b[0m \u001b[43mdict1\u001b[49m\u001b[43m[\u001b[49m\u001b[38;5;124;43m\"\u001b[39;49m\u001b[38;5;124;43mblack widow\u001b[39;49m\u001b[38;5;124;43m\"\u001b[39;49m\u001b[43m]\u001b[49m\n",
      "\u001b[1;31mKeyError\u001b[0m: 'black widow'"
     ]
    }
   ],
   "source": [
    "dict1[\"natasha romanoff\"] #keys can be used to reference values\n",
    "#dict1[\"black widow\"] #but vice versa does not work"
   ]
  },
  {
   "attachments": {},
   "cell_type": "markdown",
   "id": "fc4dc0c8",
   "metadata": {},
   "source": [
    "## 1.4 Higher dimensional lists"
   ]
  },
  {
   "cell_type": "code",
   "execution_count": 23,
   "id": "697e5896-603c-499a-bc11-8d40b414edee",
   "metadata": {},
   "outputs": [],
   "source": [
    "pylist_2 = [['Natasha Romanoff', 'Black Widow'],['Tony Stark', 'Iron Man'],['Stephen Strange', 'Doctor Strange']] #A 2D list"
   ]
  },
  {
   "attachments": {},
   "cell_type": "markdown",
   "id": "438dd9d5",
   "metadata": {},
   "source": [
    "# 2 Lists vs. Arrays"
   ]
  },
  {
   "attachments": {},
   "cell_type": "markdown",
   "id": "f1f16561",
   "metadata": {},
   "source": [
    "## 2.1 Size"
   ]
  },
  {
   "cell_type": "code",
   "execution_count": 25,
   "id": "a743e93c-8e94-4877-8625-98274900e357",
   "metadata": {},
   "outputs": [
    {
     "data": {
      "text/plain": [
       "(3, 2)"
      ]
     },
     "execution_count": 25,
     "metadata": {},
     "output_type": "execute_result"
    }
   ],
   "source": [
    "len(py_list) \n",
    "len(np_array) #len function works for both list and array\n",
    "np_array_2d = np.array(pylist_2)\n",
    "np_array_2d.shape #length,dimension"
   ]
  },
  {
   "attachments": {},
   "cell_type": "markdown",
   "id": "5250dc58",
   "metadata": {},
   "source": [
    "## 2.2 Arrays are fussy about type"
   ]
  },
  {
   "cell_type": "code",
   "execution_count": 47,
   "id": "a40a1973-bbc3-4453-9cac-8b29448a038c",
   "metadata": {},
   "outputs": [
    {
     "name": "stdout",
     "output_type": "stream",
     "text": [
      "[['a' '3']\n",
      " ['b' '1']\n",
      " ['c' '2']]\n",
      "[[0 0]\n",
      " [1 1]\n",
      " [2 1]]\n"
     ]
    }
   ],
   "source": [
    "pylist_22 = [[\"a\",3],[\"b\",1],[\"c\",2]]\n",
    "print(np.array(pylist_22))  #note that array only allows 1 class, seems to convert int to str with no issue\n",
    "pylist_test = [[0,False],[1,True],[2,True]]\n",
    "print(np.array(pylist_test)) #in this case, boolean converts to int\n",
    "\n",
    "#data type can be checked with the param array.dtype"
   ]
  },
  {
   "attachments": {},
   "cell_type": "markdown",
   "id": "dfdac211",
   "metadata": {},
   "source": [
    "## 2.3 Adding a number"
   ]
  },
  {
   "cell_type": "code",
   "execution_count": 17,
   "id": "ad2735e3-d3cf-4435-aab9-3676382f6bd2",
   "metadata": {},
   "outputs": [
    {
     "name": "stdout",
     "output_type": "stream",
     "text": [
      "[1, 2, 3, 4, 5, 10]\n",
      "[11, 12, 13, 14, 15]\n",
      "[1, 2, 3, 4, 5, 10]\n",
      "[11 12 13 14 15]\n"
     ]
    },
    {
     "data": {
      "text/plain": [
       "array([ 1,  2,  3,  4,  5, 10])"
      ]
     },
     "execution_count": 17,
     "metadata": {},
     "output_type": "execute_result"
    }
   ],
   "source": [
    "py_list1 = [1,2,3,4,5]\n",
    "np_array1 = np.array(py_list1)\n",
    "#py_list + 10 #throws error, only concat/append allowed\n",
    "print(py_list1 + [10]) #concat list of single value 10 to end\n",
    "print([x + 10 for x in py_list1]) #to add 10 to each element within\n",
    "py_list1.append(10) #append method of list\n",
    "print(py_list1)\n",
    "print(np_array1 + 10) #for array, 10 is added to each value within\n",
    "np.append(np_array1 , 10) #to append an numpy array"
   ]
  },
  {
   "attachments": {},
   "cell_type": "markdown",
   "id": "afb9925e",
   "metadata": {},
   "source": [
    "## 2.4 Adding another list"
   ]
  },
  {
   "cell_type": "code",
   "execution_count": 3,
   "id": "d3906bba-47f2-4787-9b80-061305f54a34",
   "metadata": {},
   "outputs": [],
   "source": [
    "import numpy as np\n",
    "py_list_1 = [1, 2, 3, 4, 5]\n",
    "py_list_2 = [10, 20, 30, 40, 50]\n",
    "\n",
    "np_array_1 = np.array(py_list_1)\n",
    "np_array_2 = np.array(py_list_2)"
   ]
  },
  {
   "cell_type": "code",
   "execution_count": null,
   "id": "909e27a3-0560-421b-8f48-429f6edb3dcf",
   "metadata": {},
   "outputs": [],
   "source": [
    "py_list_1 + py_list_2 #the two list concats, with the second list in the equation being appended behind the first"
   ]
  },
  {
   "cell_type": "code",
   "execution_count": 4,
   "id": "278464aa-c5e7-4322-9728-556e218ae6fc",
   "metadata": {},
   "outputs": [
    {
     "data": {
      "text/plain": [
       "array([11, 22, 33, 44, 55])"
      ]
     },
     "execution_count": 4,
     "metadata": {},
     "output_type": "execute_result"
    }
   ],
   "source": [
    "np_array_1 + np_array_2 #the values of the elements are added together in array"
   ]
  },
  {
   "cell_type": "code",
   "execution_count": 10,
   "id": "d4246541-8126-4928-bb99-b5abad5f9f0e",
   "metadata": {},
   "outputs": [
    {
     "data": {
      "text/plain": [
       "array([2, 4, 3, 4])"
      ]
     },
     "execution_count": 10,
     "metadata": {},
     "output_type": "execute_result"
    }
   ],
   "source": [
    "np_array_short = np.array([1,2])\n",
    "np_array_long = np.array([1,2,3,4])\n",
    "#np_array_short + np_array_long #array of different length cannot be added directly\n",
    "np_array_long[:len(np_array_short)] += np_array_short #note longer array is needed for \"template\", so length comparison might be needed if array lengths are unknown\n",
    "np_array_long"
   ]
  },
  {
   "attachments": {},
   "cell_type": "markdown",
   "id": "608597e0",
   "metadata": {},
   "source": [
    "## 2.5 Multiplying by a Number"
   ]
  },
  {
   "cell_type": "code",
   "execution_count": 4,
   "id": "e17451b6-a8c2-40b3-a115-fc5b4bae179d",
   "metadata": {},
   "outputs": [],
   "source": [
    "py_list = [1, 2, 3, 4, 5]\n",
    "np_array = np.array(py_list)         \n"
   ]
  },
  {
   "cell_type": "code",
   "execution_count": 6,
   "id": "1f0af4c0-1c01-4aa8-8ccb-2012867b5bab",
   "metadata": {},
   "outputs": [
    {
     "data": {
      "text/plain": [
       "[2, 4, 6, 8, 10]"
      ]
     },
     "execution_count": 6,
     "metadata": {},
     "output_type": "execute_result"
    }
   ],
   "source": [
    "py_list*2 #doubles list by appending list elements\n",
    "[x*2 for x in py_list] #in order to multiple all element by 2"
   ]
  },
  {
   "cell_type": "code",
   "execution_count": 19,
   "id": "ae7c211d-a51b-4055-a620-69b3ad82bc25",
   "metadata": {},
   "outputs": [
    {
     "data": {
      "text/plain": [
       "array([ 2,  4,  6,  8, 10])"
      ]
     },
     "execution_count": 19,
     "metadata": {},
     "output_type": "execute_result"
    }
   ],
   "source": [
    "np_array*2 "
   ]
  },
  {
   "attachments": {},
   "cell_type": "markdown",
   "id": "cae1a7b8",
   "metadata": {},
   "source": [
    "## 2.6 Squaring"
   ]
  },
  {
   "cell_type": "code",
   "execution_count": 9,
   "id": "d00866e6-4918-4951-a445-79720656614f",
   "metadata": {},
   "outputs": [
    {
     "data": {
      "text/plain": [
       "[1, 4, 9, 16, 25]"
      ]
     },
     "execution_count": 9,
     "metadata": {},
     "output_type": "execute_result"
    }
   ],
   "source": [
    "#py_list**2   #I wish this made it a 2d array, but alas it throws error\n",
    "[x**2 for x in py_list] #in order to square all elements in list"
   ]
  },
  {
   "cell_type": "code",
   "execution_count": 21,
   "id": "16d114bc-f007-480f-a5d3-4e9166bbe5e3",
   "metadata": {},
   "outputs": [
    {
     "data": {
      "text/plain": [
       "array([ 1,  4,  9, 16, 25])"
      ]
     },
     "execution_count": 21,
     "metadata": {},
     "output_type": "execute_result"
    }
   ],
   "source": [
    "np_array**2"
   ]
  },
  {
   "attachments": {},
   "cell_type": "markdown",
   "id": "a6433a54",
   "metadata": {},
   "source": [
    "## 2.7 Asking questions"
   ]
  },
  {
   "cell_type": "code",
   "execution_count": null,
   "id": "3e83a409-4923-4c47-af8b-1a45c853a463",
   "metadata": {},
   "outputs": [],
   "source": [
    "py_list = [1, 2, 3, 4, 5]\n",
    "np_array = np.array(py_list)         "
   ]
  },
  {
   "cell_type": "code",
   "execution_count": 11,
   "id": "c91e5931-bc6e-4afb-9ac6-c38820363025",
   "metadata": {},
   "outputs": [
    {
     "name": "stdout",
     "output_type": "stream",
     "text": [
      "False\n",
      "True\n"
     ]
    }
   ],
   "source": [
    "print(py_list == 3 )    # asks if py_list is equal to 3 ie [1,2,3,4,5] == 3\n",
    "print(py_list == [1,2,3,4,5]) #refer to fundamentals_(nice) for more detail"
   ]
  },
  {
   "cell_type": "code",
   "execution_count": 26,
   "id": "b2d47f7e-d4d1-4d8f-a1fd-70836132e1aa",
   "metadata": {},
   "outputs": [
    {
     "ename": "TypeError",
     "evalue": "'>' not supported between instances of 'list' and 'int'",
     "output_type": "error",
     "traceback": [
      "\u001b[1;31m---------------------------------------------------------------------------\u001b[0m",
      "\u001b[1;31mTypeError\u001b[0m                                 Traceback (most recent call last)",
      "Cell \u001b[1;32mIn[26], line 1\u001b[0m\n\u001b[1;32m----> 1\u001b[0m \u001b[43mpy_list\u001b[49m\u001b[43m \u001b[49m\u001b[38;5;241;43m>\u001b[39;49m\u001b[43m \u001b[49m\u001b[38;5;241;43m3\u001b[39;49m \u001b[38;5;66;03m#no logical operation here\u001b[39;00m\n",
      "\u001b[1;31mTypeError\u001b[0m: '>' not supported between instances of 'list' and 'int'"
     ]
    }
   ],
   "source": [
    "py_list > 3 #no logical operation here"
   ]
  },
  {
   "cell_type": "code",
   "execution_count": 12,
   "id": "f229f19d-135b-47a3-8250-4478b6a4a167",
   "metadata": {},
   "outputs": [
    {
     "data": {
      "text/plain": [
       "array([False, False,  True, False, False])"
      ]
     },
     "execution_count": 12,
     "metadata": {},
     "output_type": "execute_result"
    }
   ],
   "source": [
    "np_array == 3  #checks each element for equality to 3, returns boolean mask array"
   ]
  },
  {
   "cell_type": "code",
   "execution_count": 52,
   "id": "a099f635-fd55-48d8-9a8c-b2023abd8ae2",
   "metadata": {},
   "outputs": [
    {
     "data": {
      "text/plain": [
       "1"
      ]
     },
     "execution_count": 52,
     "metadata": {},
     "output_type": "execute_result"
    }
   ],
   "source": [
    "np_array > 3  #checks each element if they are larger than 3\n",
    "sum(np_array <2) #returns sum of true from array that is returned from the logical operation"
   ]
  },
  {
   "attachments": {},
   "cell_type": "markdown",
   "id": "b5efc691",
   "metadata": {},
   "source": [
    "## 2.8 Mathematics"
   ]
  },
  {
   "cell_type": "code",
   "execution_count": 49,
   "id": "98350b50-e6d9-42dc-bfc8-d8133a6e8cb8",
   "metadata": {},
   "outputs": [],
   "source": [
    "py_list = [1, 2, 3, 4, 5]\n",
    "np_array = np.array([5,3,4,1,2])         "
   ]
  },
  {
   "cell_type": "code",
   "execution_count": 29,
   "id": "78e3dcd0-af66-42ee-ab51-95a1fde65ce0",
   "metadata": {},
   "outputs": [
    {
     "data": {
      "text/plain": [
       "15"
      ]
     },
     "execution_count": 29,
     "metadata": {},
     "output_type": "execute_result"
    }
   ],
   "source": [
    "sum(py_list)     # sum() is a base Python function"
   ]
  },
  {
   "cell_type": "code",
   "execution_count": null,
   "id": "70c986a1-cbc7-468a-9f4e-ebb8dd78ad52",
   "metadata": {},
   "outputs": [],
   "source": [
    "max(py_list)     # max() is a base Python function"
   ]
  },
  {
   "cell_type": "code",
   "execution_count": null,
   "id": "b855d2f4-071e-4299-b662-6d9e893c45f6",
   "metadata": {},
   "outputs": [],
   "source": [
    "min(py_list)     # min() is a base Python function"
   ]
  },
  {
   "cell_type": "code",
   "execution_count": 30,
   "id": "e239455a-8a08-45ab-99c0-3ad68a5f6994",
   "metadata": {},
   "outputs": [
    {
     "ename": "AttributeError",
     "evalue": "'list' object has no attribute 'sum'",
     "output_type": "error",
     "traceback": [
      "\u001b[1;31m---------------------------------------------------------------------------\u001b[0m",
      "\u001b[1;31mAttributeError\u001b[0m                            Traceback (most recent call last)",
      "Cell \u001b[1;32mIn[30], line 1\u001b[0m\n\u001b[1;32m----> 1\u001b[0m \u001b[43mpy_list\u001b[49m\u001b[38;5;241;43m.\u001b[39;49m\u001b[43msum\u001b[49m() \u001b[38;5;66;03m#list class does not have sum method\u001b[39;00m\n",
      "\u001b[1;31mAttributeError\u001b[0m: 'list' object has no attribute 'sum'"
     ]
    }
   ],
   "source": [
    "py_list.sum() #list class does not have sum method"
   ]
  },
  {
   "cell_type": "code",
   "execution_count": 38,
   "id": "e2f44b0e-8498-49e4-bd17-90c3a699f86e",
   "metadata": {},
   "outputs": [
    {
     "data": {
      "text/plain": [
       "15"
      ]
     },
     "execution_count": 38,
     "metadata": {},
     "output_type": "execute_result"
    }
   ],
   "source": [
    "np_array.sum() #but array does\n",
    "sum(np_array) #of course, sum function also applies to arrays"
   ]
  },
  {
   "cell_type": "code",
   "execution_count": 36,
   "id": "e7cb0e0f-bd9d-4bbc-9c0f-72e9d1732352",
   "metadata": {},
   "outputs": [
    {
     "data": {
      "text/plain": [
       "5"
      ]
     },
     "execution_count": 36,
     "metadata": {},
     "output_type": "execute_result"
    }
   ],
   "source": [
    "np_array.max()\n",
    "max(np_array)"
   ]
  },
  {
   "cell_type": "code",
   "execution_count": 39,
   "id": "b110d61c-19cf-4f8b-bba3-aba82afba6d8",
   "metadata": {},
   "outputs": [
    {
     "data": {
      "text/plain": [
       "1"
      ]
     },
     "execution_count": 39,
     "metadata": {},
     "output_type": "execute_result"
    }
   ],
   "source": [
    "np_array.min()\n",
    "min(np_array)"
   ]
  },
  {
   "cell_type": "code",
   "execution_count": 51,
   "id": "c69f2880-1ea3-4dad-9002-fdab7bfdc58b",
   "metadata": {},
   "outputs": [
    {
     "name": "stdout",
     "output_type": "stream",
     "text": [
      "[1 2 3 4 5]\n"
     ]
    }
   ],
   "source": [
    "np_array.mean()\n",
    "np_array.std() #array also have more stat methods\n",
    "np_array.sort() #also works for multidimensional arrays, of which axis has to be specified\n",
    "print(np_array)"
   ]
  },
  {
   "attachments": {},
   "cell_type": "markdown",
   "id": "55725899",
   "metadata": {},
   "source": [
    "## Footnotes"
   ]
  }
 ],
 "metadata": {
  "kernelspec": {
   "display_name": "Python 3 (ipykernel)",
   "language": "python",
   "name": "python3"
  },
  "language_info": {
   "codemirror_mode": {
    "name": "ipython",
    "version": 3
   },
   "file_extension": ".py",
   "mimetype": "text/x-python",
   "name": "python",
   "nbconvert_exporter": "python",
   "pygments_lexer": "ipython3",
   "version": "3.11.5"
  },
  "toc": {
   "base_numbering": 1,
   "nav_menu": {},
   "number_sections": true,
   "sideBar": true,
   "skip_h1_title": false,
   "title_cell": "Table of Contents",
   "title_sidebar": "Contents",
   "toc_cell": false,
   "toc_position": {},
   "toc_section_display": true,
   "toc_window_display": false
  },
  "vscode": {
   "interpreter": {
    "hash": "31f2aee4e71d21fbe5cf8b01ff0e069b9275f58929596ceb00d14d90e3e16cd6"
   }
  }
 },
 "nbformat": 4,
 "nbformat_minor": 5
}
