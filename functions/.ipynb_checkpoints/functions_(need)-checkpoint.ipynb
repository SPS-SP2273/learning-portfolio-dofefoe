{
 "cells": [
  {
   "attachments": {},
   "cell_type": "markdown",
   "id": "123456",
   "metadata": {},
   "source": [
    "<div style=\"text-align:left;font-size:2em\"><span style=\"font-weight:bolder;font-size:1.25em\">SP2273 | Learning Portfolio</span><br><br><span style=\"font-weight:bold;color:darkred\">Functions (Need)</span></div>"
   ]
  },
  {
   "attachments": {},
   "cell_type": "markdown",
   "id": "c8e1dc9e",
   "metadata": {},
   "source": [
    "# 1 User-defined functions"
   ]
  },
  {
   "attachments": {},
   "cell_type": "markdown",
   "id": "2a42ceeb",
   "metadata": {},
   "source": [
    "## 1.1 Named Functions"
   ]
  },
  {
   "cell_type": "code",
   "execution_count": 4,
   "id": "010ed531-7361-4d95-820d-cfa92b40da1b",
   "metadata": {},
   "outputs": [
    {
     "data": {
      "text/plain": [
       "'Hello Batman! So, nice to meet you!'"
      ]
     },
     "execution_count": 4,
     "metadata": {},
     "output_type": "execute_result"
    }
   ],
   "source": [
    "def greeting(name):\n",
    "    if name == 'Batman':\n",
    "        return 'Hello Batman! So, nice to meet you!'\n",
    "    else:\n",
    "        return f'Hello {name}!'\n",
    "greeting (\"Superman\")\n",
    "greet = greeting (name=\"Batman\")"
   ]
  },
  {
   "attachments": {},
   "cell_type": "markdown",
   "id": "23bc87fe",
   "metadata": {},
   "source": [
    "### Named functions that return"
   ]
  },
  {
   "cell_type": "code",
   "execution_count": 24,
   "id": "18d3dbff",
   "metadata": {},
   "outputs": [
    {
     "name": "stdout",
     "output_type": "stream",
     "text": [
      "(6, 2, 4.333333333333333)\n",
      "True\n"
     ]
    }
   ],
   "source": [
    "import numpy as np\n",
    "def basic_stats(numbers):\n",
    "    np_numbers = np.array(numbers)\n",
    "    my_min = np_numbers.min()\n",
    "    my_max = np_numbers.max()\n",
    "    my_mean = np_numbers.mean()\n",
    "    return my_max, my_min, my_mean\n",
    "    \n",
    "print(basic_stats([2,5,6]))\n",
    "\n",
    "def isEven(num):\n",
    "    if num & 1 == 0:\n",
    "        return True\n",
    "    else:\n",
    "        return False\n",
    "        \n",
    "print(isEven(2))\n"
   ]
  },
  {
   "attachments": {},
   "cell_type": "markdown",
   "id": "91eb41cd",
   "metadata": {},
   "source": [
    "### Named functions that don’t return"
   ]
  },
  {
   "cell_type": "code",
   "execution_count": 56,
   "id": "de7bcff9",
   "metadata": {},
   "outputs": [
    {
     "name": "stdout",
     "output_type": "stream",
     "text": [
      "swimed\n"
     ]
    }
   ],
   "source": [
    "\n",
    "def pasttensinator(x):\n",
    "    print(x +\"ed\")\n",
    "    \n",
    "\n",
    "x = \"swim\"\n",
    "\n",
    "pasttensinator(x)"
   ]
  },
  {
   "attachments": {},
   "cell_type": "markdown",
   "id": "15b4fecf",
   "metadata": {},
   "source": [
    "## 1.2 Anonymous functions"
   ]
  },
  {
   "cell_type": "code",
   "execution_count": 58,
   "id": "eead7377-4249-4be0-a1f1-b80338ca3c27",
   "metadata": {},
   "outputs": [
    {
     "name": "stdout",
     "output_type": "stream",
     "text": [
      "eated\n"
     ]
    }
   ],
   "source": [
    "my_short_function = lambda name: f\"Hello {name}!\"\n",
    "my_short_function(\"Super Man\")\n",
    "num = 0\n",
    "pasttensinator = lambda x: print(x + \"ed\")\n",
    "pasttensinator(\"eat\")"
   ]
  },
  {
   "cell_type": "code",
   "execution_count": 66,
   "id": "cb7e321d-8615-4acd-be66-26656cff659b",
   "metadata": {},
   "outputs": [
    {
     "name": "stdout",
     "output_type": "stream",
     "text": [
      "[[9, 0, -10], [8, 1, -11], [7, 2, -12], [6, 3, -13], [5, 4, -14], [4, 5, -15], [3, 6, -16], [2, 7, -17], [1, 8, -18], [0, 9, -19]]\n",
      "[[0, 9, -19], [1, 8, -18], [2, 7, -17], [3, 6, -16], [4, 5, -15], [5, 4, -14], [6, 3, -13], [7, 2, -12], [8, 1, -11], [9, 0, -10]]\n",
      "['brown', 'dog', 'Fox', 'JUmps', 'lazy', 'over', 'Quick', 'The', 'thE']\n",
      "['Fox', 'JUmps', 'Quick', 'The', 'brown', 'dog', 'lazy', 'over', 'thE']\n"
     ]
    }
   ],
   "source": [
    "numbers=[[9, 0, -10],\n",
    "         [8, 1, -11],\n",
    "         [7, 2, -12],\n",
    "         [6, 3, -13],\n",
    "         [5, 4, -14],\n",
    "         [4, 5, -15],\n",
    "         [3, 6, -16],\n",
    "         [2, 7, -17],\n",
    "         [1, 8, -18],\n",
    "         [0, 9, -19]]\n",
    "\n",
    "import numpy\n",
    "\n",
    "print(sorted(numbers, key=lambda x: x[1])) #key is always a function that accepts an argument and generates a key\n",
    "print(sorted(numbers, key=lambda x: numpy.average(x)))\n",
    "print(sorted(\"The Quick brown Fox JUmps over thE lazy dog\".split(), key= lambda x: str.lower(x))) #vs\n",
    "print(sorted(\"The Quick brown Fox JUmps over thE lazy dog\".split()))"
   ]
  },
  {
   "cell_type": "code",
   "execution_count": null,
   "id": "f6b5d66f-816c-4c7a-b46f-9565e6d79f2c",
   "metadata": {},
   "outputs": [],
   "source": []
  },
  {
   "attachments": {},
   "cell_type": "markdown",
   "id": "31e974af",
   "metadata": {},
   "source": [
    "## 1.3 Optional arguments"
   ]
  },
  {
   "cell_type": "code",
   "execution_count": 68,
   "id": "9fd7f89e-0c39-4665-b055-12a980de65bb",
   "metadata": {},
   "outputs": [
    {
     "data": {
      "text/plain": [
       "'Hello no one!'"
      ]
     },
     "execution_count": 68,
     "metadata": {},
     "output_type": "execute_result"
    }
   ],
   "source": [
    "def greeting(name='no one'): #name defaults to no one if no arg\n",
    "    if name == 'Batman':\n",
    "        return 'Hello Batman! So, nice to meet you!'\n",
    "    else:\n",
    "        return f'Hello {name}!'\n",
    "\n",
    "greeting()\n",
    "#for example, print()'s sep is defaulted to \" \" and end \"\\n\", but specifying them overwrites it."
   ]
  }
 ],
 "metadata": {
  "kernelspec": {
   "display_name": "Python 3 (ipykernel)",
   "language": "python",
   "name": "python3"
  },
  "language_info": {
   "codemirror_mode": {
    "name": "ipython",
    "version": 3
   },
   "file_extension": ".py",
   "mimetype": "text/x-python",
   "name": "python",
   "nbconvert_exporter": "python",
   "pygments_lexer": "ipython3",
   "version": "3.11.5"
  },
  "toc": {
   "base_numbering": 1,
   "nav_menu": {},
   "number_sections": true,
   "sideBar": true,
   "skip_h1_title": false,
   "title_cell": "Table of Contents",
   "title_sidebar": "Contents",
   "toc_cell": false,
   "toc_position": {},
   "toc_section_display": true,
   "toc_window_display": false
  },
  "vscode": {
   "interpreter": {
    "hash": "31f2aee4e71d21fbe5cf8b01ff0e069b9275f58929596ceb00d14d90e3e16cd6"
   }
  }
 },
 "nbformat": 4,
 "nbformat_minor": 5
}
