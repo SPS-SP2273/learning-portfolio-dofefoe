{
 "cells": [
  {
   "attachments": {},
   "cell_type": "markdown",
   "id": "123456",
   "metadata": {},
   "source": [
    "<div style=\"text-align:left;font-size:2em\"><span style=\"font-weight:bolder;font-size:1.25em\">SP2273 | Learning Portfolio</span><br><br><span style=\"font-weight:bold;color:darkred\">Functions (Nice)</span></div>"
   ]
  },
  {
   "attachments": {},
   "cell_type": "markdown",
   "id": "171ae161",
   "metadata": {},
   "source": [
    "# 1 The many ways to pass arguments"
   ]
  },
  {
   "attachments": {},
   "cell_type": "markdown",
   "id": "45d3c7a0",
   "metadata": {},
   "source": [
    "### *args"
   ]
  },
  {
   "cell_type": "code",
   "execution_count": 1,
   "id": "9159b225-5e26-4e10-b1ab-fdbb2d392100",
   "metadata": {},
   "outputs": [
    {
     "data": {
      "text/plain": [
       "2"
      ]
     },
     "execution_count": 1,
     "metadata": {},
     "output_type": "execute_result"
    }
   ],
   "source": [
    "def multiply(x, y):\n",
    "    return x * y\n",
    "\n",
    "numbers = [1, 2]\n",
    "multiply(*numbers) #unpacks list into the 2 arg required"
   ]
  },
  {
   "cell_type": "code",
   "execution_count": 3,
   "id": "c7048e69",
   "metadata": {},
   "outputs": [
    {
     "name": "stdout",
     "output_type": "stream",
     "text": [
      "6\n",
      "120\n"
     ]
    }
   ],
   "source": [
    "def multiply(*args): #modify function to pass any number of arg\n",
    "    result = 1\n",
    "    for number in args:\n",
    "        result *= number\n",
    "\n",
    "    return result\n",
    "\n",
    "numbers = [1, 2, 3]\n",
    "print(multiply(*numbers))\n",
    "print(multiply(1, 2, 3, 4, 5))\n"
   ]
  },
  {
   "attachments": {},
   "cell_type": "markdown",
   "id": "9ad6f02b",
   "metadata": {},
   "source": [
    "### **kwargs"
   ]
  },
  {
   "cell_type": "code",
   "execution_count": null,
   "id": "123dcfff",
   "metadata": {},
   "outputs": [],
   "source": [
    "def multiply(x, y, z):\n",
    "    return x * y * z\n",
    "\n",
    "# Let's use the function\n",
    "numbers = {'x': 1, 'y': 2, 'z': 3} #dictionary call gets keys that reference values\n",
    "multiply(**numbers) #keyword argument\n",
    "\n",
    "def multiply(x, y, z):\n",
    "    return x * y * z\n",
    "\n",
    "# Let's use the function\n",
    "numbers = {'y': 2, 'z': 3}\n",
    "multiply(1, **numbers) #positional and keyword arg can be mixed\n",
    "\n"
   ]
  },
  {
   "cell_type": "code",
   "execution_count": 5,
   "id": "a9b9f4b1-eeeb-4567-916d-d25d005d6881",
   "metadata": {},
   "outputs": [
    {
     "data": {
      "text/plain": [
       "14"
      ]
     },
     "execution_count": 5,
     "metadata": {},
     "output_type": "execute_result"
    }
   ],
   "source": [
    "def add_powers(**kwargs):\n",
    "    numbers = kwargs['numbers']\n",
    "    power = kwargs['power']\n",
    "\n",
    "    result = 0\n",
    "    for number in numbers:\n",
    "        result += number**power\n",
    "\n",
    "    return result\n",
    "\n",
    "\n",
    "add_powers(numbers=[1, 2, 3], power=2) \n",
    "\n",
    "kwargs = {'numbers': [1, 2, 3], 'power': 2}\n",
    "add_powers(**kwargs)\n",
    "#problem with kwargs is that function call has to match keyword defined in function. user error eg 'number' instead of 'numbers' will throw error"
   ]
  },
  {
   "attachments": {},
   "cell_type": "markdown",
   "id": "6c3f9d45",
   "metadata": {},
   "source": [
    "# 3 Gotchas with passing variables to functions"
   ]
  },
  {
   "attachments": {},
   "cell_type": "markdown",
   "id": "af1a2ab1",
   "metadata": {},
   "source": [
    "## 3.1 The Problem"
   ]
  },
  {
   "cell_type": "code",
   "execution_count": 19,
   "id": "53ee8b94-609c-4adf-8c7e-4ff36891887c",
   "metadata": {},
   "outputs": [
    {
     "name": "stdout",
     "output_type": "stream",
     "text": [
      "BEFORE|\tNumber: 10, Array: [10], List: [10]\n",
      "Doing something!\n",
      "AFTER|\tNumber: 10, Array: [20], List: [10, 10]\n",
      "2\n"
     ]
    }
   ],
   "source": [
    "import numpy as np\n",
    "\n",
    "\n",
    "\n",
    "outside_num = 1\n",
    "outside_number = 10\n",
    "outside_array=np.array([10])\n",
    "outside_list=[10]\n",
    "\n",
    "def do_something(inside_number, inside_array, inside_list):\n",
    "    print('Doing something!')\n",
    "    inside_number *= 2 #immutable int, variable outside unchanged\n",
    "    inside_array *= 2 #mutable array, variable outside changed\n",
    "    inside_list *= 2 #mutable list, variable outside changed\n",
    "    global outside_num\n",
    "    outside_num += 1\n",
    "\n",
    "\n",
    "print(f\"BEFORE|\\tNumber: {outside_number}, Array: {outside_array}, List: {outside_list}\")\n",
    "do_something(outside_number, outside_list, outside_array)\n",
    "print(f\"AFTER|\\tNumber: {outside_number}, Array: {outside_array}, List: {outside_list}\")\n",
    "print(outside_num)\n",
    "\n",
    "\n"
   ]
  },
  {
   "attachments": {},
   "cell_type": "markdown",
   "id": "be3f72ea",
   "metadata": {},
   "source": [
    "## 3.2 An Explanation"
   ]
  },
  {
   "cell_type": "markdown",
   "id": "3911ea67-026d-4f01-8406-df1420c2b903",
   "metadata": {},
   "source": [
    "For ‘immutable’ variables, what happens inside the function does not change the variable outside. In other languages, this behaviour is called **passing by value**.\n",
    "\n",
    "For ‘mutable’ variables, what happens inside the function does change the variable outside. In other languages, this behaviour is called **passing by reference**."
   ]
  },
  {
   "attachments": {},
   "cell_type": "markdown",
   "id": "822a379b",
   "metadata": {},
   "source": [
    "# 4 There is more to exceptions"
   ]
  },
  {
   "attachments": {},
   "cell_type": "markdown",
   "id": "a1f66c94",
   "metadata": {},
   "source": [
    "## 4.1 A list of exceptions"
   ]
  },
  {
   "cell_type": "markdown",
   "id": "d2d72dcb-7989-4b45-a9c5-153cac718920",
   "metadata": {},
   "source": [
    "| Exception          | Description                                                                                                                |\n",
    "|--------------------|----------------------------------------------------------------------------------------------------------------------------|\n",
    "| `AssertionError`   | Raised when the assert statement fails.                                                                                    |\n",
    "| `AttributeError`     | Raised on the attribute assignment or reference fails.                                                                     |\n",
    "| `EOFError`           | Raised when the input() function hits the end-of-file condition.                                                           |\n",
    "| `FloatingPointError` | Raised when a floating point operation fails.                                                                              |\n",
    "| `ImportError`        | Raised when the imported module is not found.                                                                              |\n",
    "| `IndexError`         | Raised when the index of a sequence is out of range.                                                                       |\n",
    "| `KeyError`           | Raised when a key is not found in a dictionary.                                                                            |\n",
    "| `NameError`          | Raised when a variable is not found in the local or global scope.                                                          |\n",
    "| `OSError`            | Raised when a system operation causes a system-related error.                                                              |\n",
    "| `OverflowError`      | Raised when the result of an arithmetic operation is too large to be represented.                                          |\n",
    "| `RuntimeError`       | Raised when an error does not fall under any other category.                                                               |\n",
    "| `SyntaxError`        | Raised by the parser when a syntax error is encountered.                                                                   |\n",
    "| `IndentationError`   | Raised when there is an incorrect indentation.                                                                             |\n",
    "| `SystemError`        | Raised when the interpreter detects internal error.                                                                        |\n",
    "| `SystemExit`         | Raised by the sys.exit() function.                                                                                         |\n",
    "| `TypeError`          | Raised when a function or operation is applied to an object of an incorrect type.                                          |\n",
    "| `UnboundLocalError`  | Raised when a reference is made to a local variable in a function or method, but no value has been bound to that variable. |\n",
    "| `ValueError`         | Raised when a function gets an argument of correct type but improper value.                                                |\n",
    "| `ZeroDivisionError`  | Raised when the second operand of a division or module operation is zero.                                                  |"
   ]
  },
  {
   "attachments": {},
   "cell_type": "markdown",
   "id": "683ab97b",
   "metadata": {},
   "source": [
    "## 4.2 Handling specific exceptions"
   ]
  },
  {
   "cell_type": "code",
   "execution_count": 4,
   "id": "bc54f72d-26f3-4d02-a0c8-0898d1f21ff1",
   "metadata": {},
   "outputs": [
    {
     "name": "stdin",
     "output_type": "stream",
     "text": [
      "Give me a number and I will calculate its square. 98\n"
     ]
    },
    {
     "name": "stdout",
     "output_type": "stream",
     "text": [
      "The square of 98 is 9604!\n",
      "caught in except\n"
     ]
    }
   ],
   "source": [
    "try:\n",
    "    number=input(\"Give me a number and I will calculate its square.\")\n",
    "    square=int(number)**2\n",
    "    print(f'The square of {number} is {square}!')\n",
    "    assert False, \"caught in statement\" #error message is skipped here, likely due to code jumping to assertion error except block as soon as statement\n",
    "    #is found to be false\n",
    "except ValueError:\n",
    "    print(f\"Oh oh! I cannot square {number}!\")\n",
    "except AssertionError: #catches assert error too\n",
    "    print(\"caught in except\")\n",
    "else: #triggers when no except block is executed\n",
    "    print('Yeah! Things ran without a problem!')"
   ]
  },
  {
   "cell_type": "code",
   "execution_count": null,
   "id": "ed3b68fc-b394-4907-9398-b8e8ea5efc7a",
   "metadata": {},
   "outputs": [],
   "source": []
  }
 ],
 "metadata": {
  "kernelspec": {
   "display_name": "Python 3 (ipykernel)",
   "language": "python",
   "name": "python3"
  },
  "language_info": {
   "codemirror_mode": {
    "name": "ipython",
    "version": 3
   },
   "file_extension": ".py",
   "mimetype": "text/x-python",
   "name": "python",
   "nbconvert_exporter": "python",
   "pygments_lexer": "ipython3",
   "version": "3.11.5"
  },
  "toc": {
   "base_numbering": 1,
   "nav_menu": {},
   "number_sections": true,
   "sideBar": true,
   "skip_h1_title": false,
   "title_cell": "Table of Contents",
   "title_sidebar": "Contents",
   "toc_cell": false,
   "toc_position": {},
   "toc_section_display": true,
   "toc_window_display": false
  },
  "vscode": {
   "interpreter": {
    "hash": "31f2aee4e71d21fbe5cf8b01ff0e069b9275f58929596ceb00d14d90e3e16cd6"
   }
  }
 },
 "nbformat": 4,
 "nbformat_minor": 5
}
