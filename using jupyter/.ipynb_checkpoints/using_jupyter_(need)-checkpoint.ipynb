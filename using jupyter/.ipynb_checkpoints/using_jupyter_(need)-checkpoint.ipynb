{
 "cells": [
  {
   "attachments": {},
   "cell_type": "markdown",
   "id": "123456",
   "metadata": {},
   "source": [
    "<div style=\"text-align:left;font-size:2em\"><span style=\"font-weight:bolder;font-size:1.25em\">SP2273 | Learning Portfolio</span><br><br><span style=\"font-weight:bold;color:darkred\">Using Jupyter (Need)</span></div>"
   ]
  },
  {
   "attachments": {},
   "cell_type": "markdown",
   "id": "38d64baf",
   "metadata": {
    "jp-MarkdownHeadingCollapsed": true
   },
   "source": [
    "# 1 What to expect in this chapter"
   ]
  },
  {
   "attachments": {},
   "cell_type": "markdown",
   "id": "0870f52c",
   "metadata": {
    "jp-MarkdownHeadingCollapsed": true
   },
   "source": [
    "## 3.1 It is all about running cells"
   ]
  },
  {
   "cell_type": "code",
   "execution_count": 3,
   "id": "a51130e7-aa5d-49d9-a3bc-b056c2821809",
   "metadata": {},
   "outputs": [
    {
     "name": "stdout",
     "output_type": "stream",
     "text": [
      "Hello again, World?\n"
     ]
    }
   ],
   "source": [
    "## 3.2 A traditional start\n",
    "print(\"Hello again, World?\")"
   ]
  },
  {
   "attachments": {},
   "cell_type": "markdown",
   "id": "a6d9fff1",
   "metadata": {
    "jp-MarkdownHeadingCollapsed": true
   },
   "source": [
    "# 4 All about Markdown\n",
    "simple, lightweight markup language as compared to LaTex or HTML"
   ]
  },
  {
   "attachments": {},
   "cell_type": "markdown",
   "id": "3a59820c",
   "metadata": {
    "jp-MarkdownHeadingCollapsed": true
   },
   "source": [
    "## 4.1 Rendering Markdown cells\n"
   ]
  },
  {
   "cell_type": "markdown",
   "id": "b4cd7f5e-6b32-40c3-883e-dc1fcde54141",
   "metadata": {},
   "source": [
    "remember to choose markdown instead of code in cell type (appears to default to code when generating new cell)"
   ]
  },
  {
   "attachments": {},
   "cell_type": "markdown",
   "id": "ad15e1e6",
   "metadata": {
    "jp-MarkdownHeadingCollapsed": true
   },
   "source": [
    "## 4.2 Some basic syntax\n"
   ]
  },
  {
   "cell_type": "markdown",
   "id": "6d38bfda-ba4e-44e3-9ec6-6277aa384204",
   "metadata": {},
   "source": [
    "The *ships* hung in the sky in much the same way that **bricks don’t.**<sup>sup</sup> <sub>sub</sub>"
   ]
  },
  {
   "attachments": {},
   "cell_type": "markdown",
   "id": "f7350106",
   "metadata": {},
   "source": [
    "## 4.3 Headings\n",
    "# top\n",
    "## lower\n",
    "### even lower\n",
    "#### lowest\n",
    "numbering can be removed/added by going to view>table of contents"
   ]
  },
  {
   "attachments": {},
   "cell_type": "markdown",
   "id": "4f8d5ee9",
   "metadata": {
    "jp-MarkdownHeadingCollapsed": true
   },
   "source": [
    "## 4.4 Displaying Code\n"
   ]
  },
  {
   "cell_type": "markdown",
   "id": "392570d9-e988-4b68-bab2-dd4460d93364",
   "metadata": {},
   "source": [
    "`this is code block`\n",
    "```python\n",
    "print(\"hello world\")\n",
    "x = 10\n",
    "```\n",
    "enblock raw text highlight for python\n",
    "```java\n",
    "\n",
    "System.out.println(\"hello world\");\n",
    "int x = 10;\n",
    "\n",
    "```\n",
    "enblock raw text highlight for Java"
   ]
  },
  {
   "attachments": {},
   "cell_type": "markdown",
   "id": "f32b17eb",
   "metadata": {
    "jp-MarkdownHeadingCollapsed": true
   },
   "source": [
    "## 4.5 Links\n"
   ]
  },
  {
   "cell_type": "markdown",
   "id": "18292d19-ac6d-4d7f-9b9e-7b6bc48f463f",
   "metadata": {},
   "source": [
    "[hyperlink example](https://sps.nus.edu.sg/sp2273)"
   ]
  },
  {
   "attachments": {},
   "cell_type": "markdown",
   "id": "837b1baa",
   "metadata": {
    "jp-MarkdownHeadingCollapsed": true
   },
   "source": [
    "## 4.6 Images\n"
   ]
  },
  {
   "cell_type": "markdown",
   "id": "2fba5fb1-2791-40c9-8dcc-9c6c4380464a",
   "metadata": {},
   "source": [
    "![](https://nus.edu.sg/images/default-source/base/logo.png)\n",
    "\n",
    "Based on exercise, does not appear to support svg file format"
   ]
  },
  {
   "attachments": {},
   "cell_type": "markdown",
   "id": "b2f6f1d6-51f9-476e-b36e-2ac9a7c9be87",
   "metadata": {
    "jp-MarkdownHeadingCollapsed": true
   },
   "source": [
    "## 4.7 Tables\n"
   ]
  },
  {
   "cell_type": "markdown",
   "id": "5cd12e7f-93a1-474e-95d6-6e6c32334f08",
   "metadata": {},
   "source": [
    "[table generator](https://www.tablesgenerator.com/) for syntax (choose markdown format)\n",
    "\n",
    "manual input seems to generate invisible formatting error, as well as being a pain to memorise the syntax for"
   ]
  },
  {
   "attachments": {},
   "cell_type": "markdown",
   "id": "18533c5c",
   "metadata": {
    "jp-MarkdownHeadingCollapsed": true
   },
   "source": [
    "## 4.8 Lists\n"
   ]
  },
  {
   "cell_type": "markdown",
   "id": "de75f002-cba3-4023-a278-458957cefbdb",
   "metadata": {},
   "source": [
    "1. send help\n",
    "    - need help\n",
    "1. rlly need help\n",
    "    - help"
   ]
  },
  {
   "cell_type": "markdown",
   "id": "93f3b57d-f56a-4567-bc64-e635bfe26122",
   "metadata": {
    "jp-MarkdownHeadingCollapsed": true
   },
   "source": [
    "## 4.9 Equations"
   ]
  },
  {
   "cell_type": "markdown",
   "id": "b32715fd-d685-4768-bcfb-9423a3e38515",
   "metadata": {},
   "source": [
    "use single `$` for short equations $\\sqrt{b^2-4ac}$\n",
    "\n",
    "$$\n",
    "x = \\dfrac{-b \\pm \\sqrt{b^2-4ac}}{2}a\n",
    "$$\n",
    "\n",
    "use double `$$` for math blocks\n",
    "\n",
    "dollar sign cannot be escaped with \\\\ apparently, only by using code display block ` `"
   ]
  },
  {
   "attachments": {},
   "cell_type": "markdown",
   "id": "260c865a",
   "metadata": {
    "jp-MarkdownHeadingCollapsed": true
   },
   "source": [
    "## Footnotes"
   ]
  },
  {
   "cell_type": "markdown",
   "id": "91d15b03-4ef5-49a0-a4b4-4ed06071cff8",
   "metadata": {},
   "source": [
    "Here's a sentence with a footnote. [^1]\n",
    "\n",
    "[^1]: This is the footnote.\n",
    "\n",
    "footnotes appear to not work as of now\n",
    "\n",
    "actual footnote: there also appear to be bug with \"unsynced\" input and output when using Markdown on Jupyter. To fix copy input into new cell. "
   ]
  }
 ],
 "metadata": {
  "kernelspec": {
   "display_name": "Python 3 (ipykernel)",
   "language": "python",
   "name": "python3"
  },
  "language_info": {
   "codemirror_mode": {
    "name": "ipython",
    "version": 3
   },
   "file_extension": ".py",
   "mimetype": "text/x-python",
   "name": "python",
   "nbconvert_exporter": "python",
   "pygments_lexer": "ipython3",
   "version": "3.11.5"
  },
  "toc": {
   "base_numbering": 1,
   "nav_menu": {},
   "number_sections": true,
   "sideBar": true,
   "skip_h1_title": false,
   "title_cell": "Table of Contents",
   "title_sidebar": "Contents",
   "toc_cell": false,
   "toc_position": {},
   "toc_section_display": true,
   "toc_window_display": false
  },
  "vscode": {
   "interpreter": {
    "hash": "31f2aee4e71d21fbe5cf8b01ff0e069b9275f58929596ceb00d14d90e3e16cd6"
   }
  }
 },
 "nbformat": 4,
 "nbformat_minor": 5
}
