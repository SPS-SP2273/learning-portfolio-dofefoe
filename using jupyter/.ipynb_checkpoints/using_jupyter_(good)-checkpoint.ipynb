{
 "cells": [
  {
   "attachments": {},
   "cell_type": "markdown",
   "id": "123456",
   "metadata": {},
   "source": [
    "<div style=\"text-align:left;font-size:2em\"><span style=\"font-weight:bolder;font-size:1.25em\">SP2273 | Learning Portfolio</span><br><br><span style=\"font-weight:bold;color:darkred\">Using Jupyter (Good)</span></div>"
   ]
  },
  {
   "attachments": {},
   "cell_type": "markdown",
   "id": "c616d79f",
   "metadata": {},
   "source": [
    "# What to expect in this chapter"
   ]
  },
  {
   "attachments": {},
   "cell_type": "markdown",
   "id": "079ec32c",
   "metadata": {},
   "source": [
    "# 1 Some tips and tricks"
   ]
  },
  {
   "attachments": {},
   "cell_type": "markdown",
   "id": "f6b9c2f8",
   "metadata": {},
   "source": [
    "## 1.1 Keyboard Shortcuts"
   ]
  },
  {
   "attachments": {},
   "cell_type": "markdown",
   "id": "2772bbf4",
   "metadata": {},
   "source": [
    "### Things to note"
   ]
  },
  {
   "cell_type": "markdown",
   "id": "2823ecb9-8eff-49ec-9f3d-d8b0451d20ef",
   "metadata": {},
   "source": [
    "\n",
    "| **Action**                    | **Shortcut**                                       |\n",
    "|-------------------------------|----------------------------------------------------|\n",
    "| Run Cell                      | `Ctrl + Enter` or `Cmd + Enter`                    |\n",
    "| Run Cell and shift to next    | `Shift + Enter`                                    |\n",
    "| Convert Cell to Code Mode     | `Esc + Y`                                          |\n",
    "| Convert Cell to Markdown Mode | `Esc + M`                                          |\n",
    "| Create new Cell               | `Esc + A` Creates above<br>`Esc + B` Creates below |\n",
    "| Copy Cell                     | `Esc + C`                                          |\n",
    "| Paste Cell                    | `Esc + V`                                          |\n",
    "| Merge Cell                    | `Shift + M`                                        |\n",
    "| Delete Cell                   | `Esc + D + D`                                      |\n",
    "| Show Shortcut                 | `Esc + H`                                          |\n"
   ]
  },
  {
   "attachments": {},
   "cell_type": "markdown",
   "id": "92a24b89",
   "metadata": {},
   "source": [
    "## 1.2 Shell commands\n",
    "\r\n"
   ]
  },
  {
   "cell_type": "code",
   "execution_count": 2,
   "id": "3eac3ce1-544b-4f9f-aeaa-239b2d6ec72f",
   "metadata": {},
   "outputs": [
    {
     "name": "stdout",
     "output_type": "stream",
     "text": [
      " Volume in drive C is Windows\n",
      " Volume Serial Number is 4212-CAC4\n",
      "\n",
      " Directory of C:\\Users\\liamy\\OneDrive\\Documents\\GitHub\\learning-portfolio-dofefoe\\using jupyter\n",
      "\n",
      "01/23/2024  08:15 AM    <DIR>          .\n",
      "01/17/2024  09:01 AM    <DIR>          ..\n",
      "01/19/2024  05:11 PM    <DIR>          .ipynb_checkpoints\n",
      "01/19/2024  05:12 PM               617 Untitled.ipynb\n",
      "01/19/2024  04:25 PM                 0 untitled.py\n",
      "01/19/2024  05:15 PM             4,223 using_jupyter_(good).ipynb\n",
      "01/23/2024  08:15 AM             5,980 using_jupyter_(need).ipynb\n",
      "               4 File(s)         10,820 bytes\n",
      "               3 Dir(s)  889,980,829,696 bytes free\n"
     ]
    }
   ],
   "source": [
    "!dir"
   ]
  },
  {
   "cell_type": "code",
   "execution_count": 1,
   "id": "547d3630-c053-4612-9724-9d39858fe40f",
   "metadata": {},
   "outputs": [
    {
     "name": "stdout",
     "output_type": "stream",
     "text": [
      "C:\\Users\\liamy\\OneDrive\\Documents\\GitHub\\learning-portfolio-dofefoe\\using jupyter\n"
     ]
    }
   ],
   "source": [
    "!cd"
   ]
  },
  {
   "cell_type": "markdown",
   "id": "2cc7032c-a25d-47a9-b03b-0568a7060981",
   "metadata": {},
   "source": [
    "'Ctrl + C' to send a break"
   ]
  },
  {
   "attachments": {},
   "cell_type": "markdown",
   "id": "e9a4b933",
   "metadata": {},
   "source": [
    "# 2 Jupyter Extensions\n",
    "As of now does not seem to work on new jupyter version (requires rollback)\n",
    "\n",
    "apparently extensions are mostly stopgap to close the difference between old jupyter version and new and this laptop is already running new jupyter version anyway. Functions introduced also seem to not be used for the purpose of sp2273 anyway."
   ]
  },
  {
   "attachments": {},
   "cell_type": "markdown",
   "id": "4ffabdf0",
   "metadata": {},
   "source": [
    "## 2.1 Installing the extensions"
   ]
  },
  {
   "attachments": {},
   "cell_type": "markdown",
   "id": "6202ed38",
   "metadata": {},
   "source": [
    "## 2.2 Enabling the extensions"
   ]
  },
  {
   "cell_type": "markdown",
   "id": "8f68c902-47d1-45e7-87ef-d5e856d282ec",
   "metadata": {},
   "source": [
    "# 3 Shell Magic\n"
   ]
  },
  {
   "cell_type": "code",
   "execution_count": 5,
   "id": "ae51faa5-b588-49c3-9050-87d3e6068cd4",
   "metadata": {},
   "outputs": [
    {
     "name": "stdout",
     "output_type": "stream",
     "text": [
      "10.5 ns ± 0.563 ns per loop (mean ± std. dev. of 7 runs, 100,000,000 loops each)\n"
     ]
    }
   ],
   "source": [
    "%timeit x=10\n",
    "\n",
    "#prints time required for execution"
   ]
  },
  {
   "cell_type": "code",
   "execution_count": 1,
   "id": "af4a6353-d08d-41cc-b441-2c48940bbe17",
   "metadata": {},
   "outputs": [
    {
     "name": "stdout",
     "output_type": "stream",
     "text": [
      "16.2 ns ± 0.889 ns per loop (mean ± std. dev. of 7 runs, 100,000,000 loops each)\n"
     ]
    }
   ],
   "source": [
    "%%timeit \n",
    "x=10\n",
    "y=10\n",
    "z=10\n",
    "\n",
    "#double for enblock execution"
   ]
  },
  {
   "attachments": {},
   "cell_type": "markdown",
   "id": "66b03798",
   "metadata": {},
   "source": [
    "# 4 The Kernel"
   ]
  },
  {
   "attachments": {},
   "cell_type": "markdown",
   "id": "ac74bfd2",
   "metadata": {},
   "source": [
    "# 5 EX"
   ]
  }
 ],
 "metadata": {
  "kernelspec": {
   "display_name": "Python 3 (ipykernel)",
   "language": "python",
   "name": "python3"
  },
  "language_info": {
   "codemirror_mode": {
    "name": "ipython",
    "version": 3
   },
   "file_extension": ".py",
   "mimetype": "text/x-python",
   "name": "python",
   "nbconvert_exporter": "python",
   "pygments_lexer": "ipython3",
   "version": "3.11.5"
  },
  "toc": {
   "base_numbering": 1,
   "nav_menu": {},
   "number_sections": true,
   "sideBar": true,
   "skip_h1_title": false,
   "title_cell": "Table of Contents",
   "title_sidebar": "Contents",
   "toc_cell": false,
   "toc_position": {},
   "toc_section_display": true,
   "toc_window_display": false
  },
  "vscode": {
   "interpreter": {
    "hash": "31f2aee4e71d21fbe5cf8b01ff0e069b9275f58929596ceb00d14d90e3e16cd6"
   }
  }
 },
 "nbformat": 4,
 "nbformat_minor": 5
}
