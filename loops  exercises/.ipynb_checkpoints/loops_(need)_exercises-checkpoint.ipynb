{
 "cells": [
  {
   "attachments": {},
   "cell_type": "markdown",
   "id": "123456",
   "metadata": {},
   "source": [
    "<div style=\"text-align:left;font-size:2em\"><span style=\"font-weight:bolder;font-size:1.25em\">SP2273 | Learning Portfolio</span><br><br><span style=\"font-weight:bold;color:darkred\">Loops (Need) Exercises</span></div>"
   ]
  },
  {
   "cell_type": "markdown",
   "id": "65e914ba-8feb-49b5-9e9e-bea2331bbfe9",
   "metadata": {},
   "source": [
    "# Exercise 1"
   ]
  },
  {
   "cell_type": "code",
   "execution_count": 3,
   "id": "ae15a2e4-4e7c-4e98-ac9d-4b3b57ad69e3",
   "metadata": {},
   "outputs": [
    {
     "name": "stdout",
     "output_type": "stream",
     "text": [
      "0°C is 32.0°F\n",
      "5°C is 41.0°F\n",
      "10°C is 50.0°F\n",
      "15°C is 59.0°F\n",
      "20°C is 68.0°F\n",
      "25°C is 77.0°F\n",
      "30°C is 86.0°F\n",
      "35°C is 95.0°F\n",
      "40°C is 104.0°F\n",
      "45°C is 113.0°F\n",
      "50°C is 122.0°F\n"
     ]
    }
   ],
   "source": [
    "temperatures_celsius = [\n",
    "    0, 5, 10, 15, 20, 25,\n",
    "    30, 35, 40, 45, 50\n",
    "]\n",
    "\n",
    "for item in temperatures_celsius:\n",
    "    temp_f = item * (9/5) + 32 #Yes I know that it does not follow pemdas but follows typed order\n",
    "    print(f'{item}°C is {temp_f}°F')"
   ]
  },
  {
   "cell_type": "markdown",
   "id": "c6e95bf2-98b1-45af-9ef7-7699cba5db66",
   "metadata": {},
   "source": [
    "# Exercise 2"
   ]
  },
  {
   "cell_type": "code",
   "execution_count": 7,
   "id": "e08406b6-a80b-4af2-89b6-a672cbebaf1f",
   "metadata": {},
   "outputs": [
    {
     "name": "stdout",
     "output_type": "stream",
     "text": [
      "1 :\t1\t2\t3\t4\t5\t\n",
      "2 :\t2\t4\t6\t8\t10\t\n",
      "3 :\t3\t6\t9\t12\t15\t\n",
      "4 :\t4\t8\t12\t16\t20\t\n",
      "5 :\t5\t10\t15\t20\t25\t\n"
     ]
    }
   ],
   "source": [
    "for columns in range(1,6):\n",
    "    print(f'{columns} :', end = \"\\t\")\n",
    "    for rows in range (1,6):\n",
    "        print(f'{columns * rows}', end = \"\\t\")\n",
    "    print()"
   ]
  }
 ],
 "metadata": {
  "kernelspec": {
   "display_name": "Python 3 (ipykernel)",
   "language": "python",
   "name": "python3"
  },
  "language_info": {
   "codemirror_mode": {
    "name": "ipython",
    "version": 3
   },
   "file_extension": ".py",
   "mimetype": "text/x-python",
   "name": "python",
   "nbconvert_exporter": "python",
   "pygments_lexer": "ipython3",
   "version": "3.11.5"
  },
  "toc": {
   "base_numbering": 1,
   "nav_menu": {},
   "number_sections": true,
   "sideBar": true,
   "skip_h1_title": false,
   "title_cell": "Table of Contents",
   "title_sidebar": "Contents",
   "toc_cell": false,
   "toc_position": {},
   "toc_section_display": true,
   "toc_window_display": false
  },
  "vscode": {
   "interpreter": {
    "hash": "31f2aee4e71d21fbe5cf8b01ff0e069b9275f58929596ceb00d14d90e3e16cd6"
   }
  }
 },
 "nbformat": 4,
 "nbformat_minor": 5
}
