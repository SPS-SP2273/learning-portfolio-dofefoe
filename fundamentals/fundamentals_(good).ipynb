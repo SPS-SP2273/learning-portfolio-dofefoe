{
 "cells": [
  {
   "attachments": {},
   "cell_type": "markdown",
   "id": "123456",
   "metadata": {},
   "source": [
    "<div style=\"text-align:left;font-size:2em\"><span style=\"font-weight:bolder;font-size:1.25em\">SP2273 | Learning Portfolio</span><br><br><span style=\"font-weight:bold;color:darkred\">Fundamentals (Good)</span></div>"
   ]
  },
  {
   "attachments": {},
   "cell_type": "markdown",
   "id": "db6548cb",
   "metadata": {
    "jp-MarkdownHeadingCollapsed": true
   },
   "source": [
    "# 1 There is more to if"
   ]
  },
  {
   "cell_type": "code",
   "execution_count": null,
   "id": "0f31fa5c-2418-49ff-aaed-0ba9994b4012",
   "metadata": {},
   "outputs": [],
   "source": [
    "#already annotated in (need) :skull:\n",
    "name = 'Batman'\n",
    "\n",
    "if name == 'Batman':\n",
    "    print('Hello Batman!')\n",
    "elif name == 'Robin':\n",
    "    print('Hello Sidekick!')\n",
    "else:\n",
    "    print('Hello World!')  "
   ]
  },
  {
   "attachments": {},
   "cell_type": "markdown",
   "id": "dd9f00ca",
   "metadata": {},
   "source": [
    "# 2 Asking questions"
   ]
  },
  {
   "cell_type": "code",
   "execution_count": 2,
   "id": "83778757-0402-46e8-8093-adbb88b2c1cf",
   "metadata": {},
   "outputs": [],
   "source": [
    "fruits = ['apple', 'banana', 'pineapple', 'jackfruit'] #list class instance fruits containing list of 4 strings\n",
    "vegetables = ['celery', 'potato', 'broccoli', 'kale']"
   ]
  },
  {
   "cell_type": "code",
   "execution_count": null,
   "id": "b5a00019-a7ed-40f9-8d4f-4e8881a34631",
   "metadata": {},
   "outputs": [],
   "source": [
    "'apple' in fruits #returns true as str \"apple\" exist in fruits at index 0"
   ]
  },
  {
   "cell_type": "code",
   "execution_count": null,
   "id": "77e48599-c175-450a-ad45-67bcab8c466b",
   "metadata": {},
   "outputs": [],
   "source": [
    "'peach' not in fruits #returns true as str \"peach\" does NOT exist in fruits"
   ]
  },
  {
   "cell_type": "code",
   "execution_count": null,
   "id": "c89dd0d0-5da7-4b24-8eae-f4a7531fd8be",
   "metadata": {},
   "outputs": [],
   "source": [
    "('apple' in fruits) and ('celery' in vegetables) #both conditions were true, and therefore overall AND statement is also true"
   ]
  },
  {
   "cell_type": "code",
   "execution_count": 7,
   "id": "3af7ee95-bed7-466d-89d7-4d469ae2273c",
   "metadata": {},
   "outputs": [
    {
     "data": {
      "text/plain": [
       "True"
      ]
     },
     "execution_count": 7,
     "metadata": {},
     "output_type": "execute_result"
    }
   ],
   "source": [
    "('apple' in fruits) & ('celery' in vegetables) # AND function for bits/boolean"
   ]
  },
  {
   "cell_type": "code",
   "execution_count": 3,
   "id": "f39ddfe0-dd58-4fe1-a9b2-f80c41053eda",
   "metadata": {},
   "outputs": [
    {
     "data": {
      "text/plain": [
       "True"
      ]
     },
     "execution_count": 3,
     "metadata": {},
     "output_type": "execute_result"
    }
   ],
   "source": [
    "('apple' in fruits) or ('shanghai green' in vegetables) #one condition being true would still result in OR statement being true"
   ]
  },
  {
   "cell_type": "code",
   "execution_count": 6,
   "id": "e940b696-9c76-4178-83ab-43361a5c2b2a",
   "metadata": {},
   "outputs": [
    {
     "data": {
      "text/plain": [
       "False"
      ]
     },
     "execution_count": 6,
     "metadata": {},
     "output_type": "execute_result"
    }
   ],
   "source": [
    "('orange' in fruits) ^ ('lettuce' in vegetables) # XOR function, only for bits/boolean"
   ]
  },
  {
   "cell_type": "code",
   "execution_count": null,
   "id": "f7663dae-02e3-4c2d-be17-5b4a8ca824bd",
   "metadata": {},
   "outputs": [],
   "source": [
    "'app' in 'apple' #str also has 'in' keyword"
   ]
  },
  {
   "cell_type": "code",
   "execution_count": 9,
   "id": "09f704cc-9e4e-4c9d-a894-a19886634817",
   "metadata": {},
   "outputs": [
    {
     "data": {
      "text/plain": [
       "False"
      ]
     },
     "execution_count": 9,
     "metadata": {},
     "output_type": "execute_result"
    }
   ],
   "source": [
    "'apple milkshake' > 'orange' #returns boolean based on size of first ltr of str"
   ]
  },
  {
   "attachments": {},
   "cell_type": "markdown",
   "id": "7c0003c6",
   "metadata": {},
   "source": [
    "# 3 Asking Math questions"
   ]
  },
  {
   "cell_type": "code",
   "execution_count": 12,
   "id": "7ba4fad7-0718-4805-84a1-22ec7c70829f",
   "metadata": {},
   "outputs": [
    {
     "data": {
      "text/plain": [
       "True"
      ]
     },
     "execution_count": 12,
     "metadata": {},
     "output_type": "execute_result"
    }
   ],
   "source": [
    "10 >= 3"
   ]
  },
  {
   "cell_type": "code",
   "execution_count": 11,
   "id": "d5de5420-d714-4954-b49b-6a3c2184d675",
   "metadata": {},
   "outputs": [
    {
     "data": {
      "text/plain": [
       "True"
      ]
     },
     "execution_count": 11,
     "metadata": {},
     "output_type": "execute_result"
    }
   ],
   "source": [
    "10 != 3"
   ]
  },
  {
   "cell_type": "code",
   "execution_count": 15,
   "id": "24ca2c58-8b1a-4d61-874c-b3bee9f6efbb",
   "metadata": {},
   "outputs": [
    {
     "data": {
      "text/plain": [
       "True"
      ]
     },
     "execution_count": 15,
     "metadata": {},
     "output_type": "execute_result"
    }
   ],
   "source": [
    "x = 9\n",
    "(x > 5) and (x <15)"
   ]
  },
  {
   "attachments": {},
   "cell_type": "markdown",
   "id": "e03ea6e0",
   "metadata": {},
   "source": [
    "# 4 Python stores information in different formats or types"
   ]
  },
  {
   "cell_type": "code",
   "execution_count": 17,
   "id": "3385c70c-0e6d-44a8-b27b-7610b3479345",
   "metadata": {},
   "outputs": [
    {
     "name": "stdout",
     "output_type": "stream",
     "text": [
      "1 <class 'int'>\n"
     ]
    }
   ],
   "source": [
    "x = int(1.634) #simplifies float 1.234 into int class\n",
    "print(x,type(x)) #math.floor() performed on value"
   ]
  },
  {
   "cell_type": "code",
   "execution_count": 19,
   "id": "9bc888f3-fca8-43b0-aad2-19797d6eae3c",
   "metadata": {},
   "outputs": [
    {
     "name": "stdout",
     "output_type": "stream",
     "text": [
      "1.234 <class 'str'>\n"
     ]
    }
   ],
   "source": [
    "x = str(1.234)\n",
    "print(x,type(x)) #attempting to perform math operations with current instance of x would yield error"
   ]
  },
  {
   "cell_type": "code",
   "execution_count": null,
   "id": "dcc6e28d-6220-4729-af00-b51faa0bba8c",
   "metadata": {},
   "outputs": [],
   "source": [
    "x = float(1.234)\n",
    "print(x,type(x)) "
   ]
  },
  {
   "cell_type": "code",
   "execution_count": null,
   "id": "2f1dd09e-9578-40f4-958e-1e37b8ba2294",
   "metadata": {},
   "outputs": [],
   "source": [
    "x = complex(1.234)\n",
    "print(x,type(x)) #complex parameter unfilled"
   ]
  },
  {
   "attachments": {},
   "cell_type": "markdown",
   "id": "1b7e60f5",
   "metadata": {},
   "source": [
    "# 5 Never compare floats directly"
   ]
  },
  {
   "attachments": {},
   "cell_type": "markdown",
   "id": "d7e5a8b5",
   "metadata": {},
   "source": [
    "## 5.1 The Problem"
   ]
  },
  {
   "cell_type": "code",
   "execution_count": 20,
   "id": "c1187fef-9445-4ddf-9611-20c52bfd07e1",
   "metadata": {},
   "outputs": [
    {
     "data": {
      "text/plain": [
       "False"
      ]
     },
     "execution_count": 20,
     "metadata": {},
     "output_type": "execute_result"
    }
   ],
   "source": [
    "a = 0.1\n",
    "a3 = 0.3\n",
    "a *3 == a3"
   ]
  },
  {
   "cell_type": "code",
   "execution_count": 26,
   "id": "b5e4f9db-1f0b-4b15-9e85-0c96486cbe42",
   "metadata": {},
   "outputs": [
    {
     "data": {
      "text/plain": [
       "'0.29999999999999999'"
      ]
     },
     "execution_count": 26,
     "metadata": {},
     "output_type": "execute_result"
    }
   ],
   "source": [
    "f'{0.3:.17f}' #prints 0.3 to 17 dec places"
   ]
  },
  {
   "attachments": {},
   "cell_type": "markdown",
   "id": "d2eb2269",
   "metadata": {},
   "source": [
    "## 5.2 A solution"
   ]
  },
  {
   "cell_type": "code",
   "execution_count": 29,
   "id": "5417eef3-49be-4b9b-a66a-cdf846239fd6",
   "metadata": {},
   "outputs": [
    {
     "data": {
      "text/plain": [
       "5.551115123125783e-17"
      ]
     },
     "execution_count": 29,
     "metadata": {},
     "output_type": "execute_result"
    }
   ],
   "source": [
    "abs(a*3 - a3)"
   ]
  },
  {
   "cell_type": "code",
   "execution_count": 28,
   "id": "dab30e7e-c1a0-4133-a32c-c53557221d65",
   "metadata": {},
   "outputs": [
    {
     "data": {
      "text/plain": [
       "True"
      ]
     },
     "execution_count": 28,
     "metadata": {},
     "output_type": "execute_result"
    }
   ],
   "source": [
    "abs(a*3 - a3) <1E-15 #comparing the small difference in the 2 floats to another small number. size depends on pickiness"
   ]
  },
  {
   "cell_type": "code",
   "execution_count": 32,
   "id": "f6275909-1a86-41b8-a8ed-9e0f3320f810",
   "metadata": {},
   "outputs": [
    {
     "data": {
      "text/plain": [
       "True"
      ]
     },
     "execution_count": 32,
     "metadata": {},
     "output_type": "execute_result"
    }
   ],
   "source": [
    "import numpy as np\n",
    "np.isclose(a*3 - a3,0) #isclose function in numpy package"
   ]
  },
  {
   "attachments": {},
   "cell_type": "markdown",
   "id": "7780107c",
   "metadata": {},
   "source": [
    "# 6 Combining English and variables"
   ]
  },
  {
   "attachments": {},
   "cell_type": "markdown",
   "id": "85395956",
   "metadata": {},
   "source": [
    "## 6.1 Structure of f-strings"
   ]
  },
  {
   "attachments": {},
   "cell_type": "markdown",
   "id": "fd37d5ba",
   "metadata": {},
   "source": [
    "# 7 Escape sequences"
   ]
  },
  {
   "attachments": {},
   "cell_type": "markdown",
   "id": "e81a27e5",
   "metadata": {},
   "source": [
    "# 8 Computers read = from Right to Left!"
   ]
  },
  {
   "attachments": {},
   "cell_type": "markdown",
   "id": "a0874ff2",
   "metadata": {},
   "source": [
    "# 9 Shorter and Cleaner Code"
   ]
  },
  {
   "attachments": {},
   "cell_type": "markdown",
   "id": "f365d080",
   "metadata": {},
   "source": [
    "# 10 Python can be a prima-donna."
   ]
  },
  {
   "attachments": {},
   "cell_type": "markdown",
   "id": "7aca18f0",
   "metadata": {},
   "source": [
    "# 11 Best Practices for Scientific Computing"
   ]
  },
  {
   "attachments": {},
   "cell_type": "markdown",
   "id": "4dda2d0e",
   "metadata": {},
   "source": [
    "# 12 Looking for help"
   ]
  },
  {
   "attachments": {},
   "cell_type": "markdown",
   "id": "7ff0ef0b",
   "metadata": {},
   "source": [
    "## References"
   ]
  },
  {
   "attachments": {},
   "cell_type": "markdown",
   "id": "3207ffbb",
   "metadata": {},
   "source": [
    "## Footnotes"
   ]
  }
 ],
 "metadata": {
  "kernelspec": {
   "display_name": "Python 3 (ipykernel)",
   "language": "python",
   "name": "python3"
  },
  "language_info": {
   "codemirror_mode": {
    "name": "ipython",
    "version": 3
   },
   "file_extension": ".py",
   "mimetype": "text/x-python",
   "name": "python",
   "nbconvert_exporter": "python",
   "pygments_lexer": "ipython3",
   "version": "3.11.5"
  },
  "toc": {
   "base_numbering": 1,
   "nav_menu": {},
   "number_sections": true,
   "sideBar": true,
   "skip_h1_title": false,
   "title_cell": "Table of Contents",
   "title_sidebar": "Contents",
   "toc_cell": false,
   "toc_position": {},
   "toc_section_display": true,
   "toc_window_display": false
  },
  "vscode": {
   "interpreter": {
    "hash": "31f2aee4e71d21fbe5cf8b01ff0e069b9275f58929596ceb00d14d90e3e16cd6"
   }
  }
 },
 "nbformat": 4,
 "nbformat_minor": 5
}
