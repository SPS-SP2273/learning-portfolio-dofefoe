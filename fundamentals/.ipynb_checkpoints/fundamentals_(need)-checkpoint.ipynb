{
 "cells": [
  {
   "attachments": {},
   "cell_type": "markdown",
   "id": "123456",
   "metadata": {},
   "source": [
    "<div style=\"text-align:left;font-size:2em\"><span style=\"font-weight:bolder;font-size:1.25em\">SP2273 | Learning Portfolio</span><br><br><span style=\"font-weight:bold;color:darkred\">Fundamentals (Need)</span></div>"
   ]
  },
  {
   "cell_type": "markdown",
   "id": "b95fcc35-1e94-4056-9af3-3cc29818bb17",
   "metadata": {
    "jp-MarkdownHeadingCollapsed": true
   },
   "source": [
    "# 1 Functions\n"
   ]
  },
  {
   "cell_type": "code",
   "execution_count": 4,
   "id": "48c295fe-2e6a-49fc-bfc2-0742d1db56e3",
   "metadata": {},
   "outputs": [
    {
     "name": "stdout",
     "output_type": "stream",
     "text": [
      "Hello World!\n"
     ]
    }
   ],
   "source": [
    "print(\"Hello World!\")"
   ]
  },
  {
   "attachments": {},
   "cell_type": "markdown",
   "id": "04557f57",
   "metadata": {},
   "source": [
    "# 2 Python interpretation order"
   ]
  },
  {
   "cell_type": "markdown",
   "id": "b3e25a3a-165b-4f3f-8844-b7ea6c8517cc",
   "metadata": {},
   "source": [
    "Code is read one line at a time. Order of placement (top down) determines order of execution"
   ]
  },
  {
   "cell_type": "code",
   "execution_count": 7,
   "id": "a2b64895-35c5-4cf5-a6c1-954f53678f2e",
   "metadata": {},
   "outputs": [
    {
     "name": "stdout",
     "output_type": "stream",
     "text": [
      "hello world!\n",
      "hello again!\n"
     ]
    }
   ],
   "source": [
    "print('hello world!','hello again!',sep='\\n')"
   ]
  },
  {
   "cell_type": "code",
   "execution_count": 8,
   "id": "22cdcd6c-077a-47b0-9973-450bbc010954",
   "metadata": {},
   "outputs": [
    {
     "name": "stdout",
     "output_type": "stream",
     "text": [
      "hello world! hello again!\n"
     ]
    }
   ],
   "source": [
    "print('hello world!','hello again!')"
   ]
  },
  {
   "cell_type": "code",
   "execution_count": 26,
   "id": "8922446f-55bf-44c9-936c-7e9aea9c163d",
   "metadata": {},
   "outputs": [
    {
     "name": "stdout",
     "output_type": "stream",
     "text": [
      "ten\n"
     ]
    }
   ],
   "source": [
    "x = 10\n",
    "x = \"ten\"\n",
    "print(x) #outputs \"ten\" as it is last declared state of variable x"
   ]
  },
  {
   "attachments": {},
   "cell_type": "markdown",
   "id": "d403b338",
   "metadata": {
    "jp-MarkdownHeadingCollapsed": true
   },
   "source": [
    "# 3 Python is sensitive.\n"
   ]
  },
  {
   "cell_type": "markdown",
   "id": "bda73029-91e1-468a-9c50-4cde065cd69a",
   "metadata": {},
   "source": [
    "`Print(\"hello world\")` would throw an error due to invalid syntax"
   ]
  },
  {
   "attachments": {},
   "cell_type": "markdown",
   "id": "f93b2060",
   "metadata": {
    "jp-MarkdownHeadingCollapsed": true
   },
   "source": [
    "# 4 `=` vs `==`"
   ]
  },
  {
   "cell_type": "code",
   "execution_count": 16,
   "id": "7c0b4cdf-82d9-4c7d-8e9b-306f09b91bae",
   "metadata": {},
   "outputs": [
    {
     "name": "stdout",
     "output_type": "stream",
     "text": [
      "batman\n"
     ]
    }
   ],
   "source": [
    "name = \"batman\"\n",
    "#declares name as a str variable containing the str \"batman\"\n",
    "name == \"batman\"\n",
    "#returns boolean expression\n",
    "name == \"superman\"\n",
    "#would not alter the variable name and simply returns boolean expression based on validity of match\n",
    "print(name)"
   ]
  },
  {
   "attachments": {},
   "cell_type": "markdown",
   "id": "88c0d085",
   "metadata": {
    "jp-MarkdownHeadingCollapsed": true
   },
   "source": [
    "# 5 Comments"
   ]
  },
  {
   "cell_type": "code",
   "execution_count": 11,
   "id": "32f16c25-b56f-42c3-8542-18967acb0bbb",
   "metadata": {},
   "outputs": [],
   "source": [
    "# this is a comment\n",
    "# it acts on per line basis\n",
    "x = 0  # therefore I can do this\n",
    "x += 1 # and this"
   ]
  },
  {
   "cell_type": "code",
   "execution_count": 15,
   "id": "18fd54bb-dace-4cf9-8e94-c7518089b1bd",
   "metadata": {},
   "outputs": [
    {
     "data": {
      "text/plain": [
       "'\\ndocstring \\nmuch wow\\n'"
      ]
     },
     "execution_count": 15,
     "metadata": {},
     "output_type": "execute_result"
    }
   ],
   "source": [
    "'''\n",
    "docstring \n",
    "much wow\n",
    "'''"
   ]
  },
  {
   "attachments": {},
   "cell_type": "markdown",
   "id": "c8d46aef",
   "metadata": {},
   "source": [
    "# 6 Use if to make decisions"
   ]
  },
  {
   "cell_type": "code",
   "execution_count": 18,
   "id": "df14b8c9-7feb-4e72-8266-cbc4efbbb502",
   "metadata": {},
   "outputs": [
    {
     "name": "stdout",
     "output_type": "stream",
     "text": [
      "x = 0\n"
     ]
    }
   ],
   "source": [
    "x = 0\n",
    "if x == 0:  #first case to check to catch for\n",
    "    print (\"x = 0\")\n",
    "    \n",
    "elif x == 1: #next case to catch for in same argument\n",
    "    print (\"x = 1\")\n",
    "    \n",
    "else: #catches all other cases\n",
    "    print(\"x != 0 and x != 1\")"
   ]
  },
  {
   "attachments": {},
   "cell_type": "markdown",
   "id": "bbb46876",
   "metadata": {},
   "source": [
    "# 7 Indentations (spaces) are sooo IMPORTANT!"
   ]
  },
  {
   "cell_type": "code",
   "execution_count": 23,
   "id": "f84696c6-b6ca-40b5-b949-1d4625ab407c",
   "metadata": {},
   "outputs": [
    {
     "name": "stdout",
     "output_type": "stream",
     "text": [
      "im out of the loop\n"
     ]
    }
   ],
   "source": [
    "y = 2\n",
    "if y == 1:\n",
    "    print(\"y=1\") #only executes when \"if\" block is triggered\n",
    "print(\"im out of the loop\") #this executes regardless of value of variable y as its not within the \"if\" block due to indentation"
   ]
  },
  {
   "cell_type": "code",
   "execution_count": 24,
   "id": "df338ffc-37cb-4d00-80bf-117fa97bbaf0",
   "metadata": {},
   "outputs": [
    {
     "ename": "IndentationError",
     "evalue": "unexpected indent (16892381.py, line 2)",
     "output_type": "error",
     "traceback": [
      "\u001b[1;36m  Cell \u001b[1;32mIn[24], line 2\u001b[1;36m\u001b[0m\n\u001b[1;33m    print(z)\u001b[0m\n\u001b[1;37m    ^\u001b[0m\n\u001b[1;31mIndentationError\u001b[0m\u001b[1;31m:\u001b[0m unexpected indent\n"
     ]
    }
   ],
   "source": [
    "z = 2\n",
    "    print(z) #indentation error due to undeclared block"
   ]
  },
  {
   "attachments": {},
   "cell_type": "markdown",
   "id": "1a0c5b37",
   "metadata": {},
   "source": [
    "# 8 ‘age’ is English, age is a variable."
   ]
  },
  {
   "cell_type": "code",
   "execution_count": null,
   "id": "1a9716b3-baa4-4d14-8c32-8ab34456f91c",
   "metadata": {},
   "outputs": [],
   "source": [
    "age=4\n",
    "print(age)      #print int variable age\n",
    "print('age')    #print str \"age\""
   ]
  },
  {
   "cell_type": "code",
   "execution_count": 27,
   "id": "4fd19c94-4a69-42b2-8819-0bae4a8b34bc",
   "metadata": {},
   "outputs": [
    {
     "ename": "SyntaxError",
     "evalue": "invalid syntax (182722112.py, line 1)",
     "output_type": "error",
     "traceback": [
      "\u001b[1;36m  Cell \u001b[1;32mIn[27], line 1\u001b[1;36m\u001b[0m\n\u001b[1;33m    if = 10\u001b[0m\n\u001b[1;37m       ^\u001b[0m\n\u001b[1;31mSyntaxError\u001b[0m\u001b[1;31m:\u001b[0m invalid syntax\n"
     ]
    }
   ],
   "source": [
    "if = 10\n",
    "#throws error as \"if\" already exist as a keyword"
   ]
  },
  {
   "attachments": {},
   "cell_type": "markdown",
   "id": "21ce9e7e",
   "metadata": {
    "jp-MarkdownHeadingCollapsed": true
   },
   "source": [
    "# 9 Brackets (),[],{}"
   ]
  },
  {
   "cell_type": "code",
   "execution_count": null,
   "id": "c7c65651-bd67-4123-9eef-ea77053de45f",
   "metadata": {},
   "outputs": [],
   "source": [
    "print('Hello!')             # declares functions"
   ]
  },
  {
   "cell_type": "code",
   "execution_count": 29,
   "id": "c5ae4340-2de6-4e79-b70d-8b60dc0b14ca",
   "metadata": {},
   "outputs": [
    {
     "name": "stdout",
     "output_type": "stream",
     "text": [
      "15\n"
     ]
    }
   ],
   "source": [
    "x = (1 + 2) * 5\n",
    "print(x)\n",
    "# follows the same rules as paper math\n",
    "# using [] would throw error as python would attempt to interprete as list"
   ]
  },
  {
   "cell_type": "code",
   "execution_count": 30,
   "id": "1ce6c472-3efa-4a34-b30d-fe70e8699122",
   "metadata": {},
   "outputs": [],
   "source": [
    "py_list = [1, 2, 3, 4, 5]   # A 1D list (fun fact list accepts multiple types of variables)\n",
    "\n",
    "py_list_2 = [               # A 2D list\n",
    "                [1, \"A\"],      \n",
    "                [2, \"B\"],\n",
    "                [3, \"C\"],\n",
    "                [4, \"D\"],\n",
    "                [5, \"E\"]\n",
    "            ]"
   ]
  },
  {
   "cell_type": "code",
   "execution_count": 35,
   "id": "837da7e4-78e1-4431-8c06-a1efa48da1f7",
   "metadata": {},
   "outputs": [
    {
     "name": "stdout",
     "output_type": "stream",
     "text": [
      "Alfred\n"
     ]
    }
   ],
   "source": [
    "personal_info = {\n",
    "    'Names': 'Batman',\n",
    "    'Real Name': 'Bruce Wayne',\n",
    "    'Age': 55,\n",
    "    'Affiliation': 'Justice League',\n",
    "    'Universe': 'DC'\n",
    "} #dictionary uses \"{}\"\n",
    "personal_info['Real Name'] = \"Alfred\"\n",
    "print(personal_info['Real Name'])"
   ]
  },
  {
   "attachments": {},
   "cell_type": "markdown",
   "id": "de9d2361",
   "metadata": {},
   "source": [
    "# 10 Giving Python superpowers with Packages"
   ]
  },
  {
   "attachments": {},
   "cell_type": "markdown",
   "id": "3b03beb3",
   "metadata": {},
   "source": [
    "## 10.1 Some Context"
   ]
  },
  {
   "cell_type": "code",
   "execution_count": 36,
   "id": "9c726bbc-7b21-439f-b8b2-443efea4b55c",
   "metadata": {},
   "outputs": [
    {
     "ename": "NameError",
     "evalue": "name 'sqrt' is not defined",
     "output_type": "error",
     "traceback": [
      "\u001b[1;31m---------------------------------------------------------------------------\u001b[0m",
      "\u001b[1;31mNameError\u001b[0m                                 Traceback (most recent call last)",
      "Cell \u001b[1;32mIn[36], line 1\u001b[0m\n\u001b[1;32m----> 1\u001b[0m \u001b[43msqrt\u001b[49m(\u001b[38;5;241m4\u001b[39m) \u001b[38;5;66;03m#sqrt function does not exist in base python package\u001b[39;00m\n",
      "\u001b[1;31mNameError\u001b[0m: name 'sqrt' is not defined"
     ]
    }
   ],
   "source": [
    "sqrt(4) #sqrt function does not exist in base python package"
   ]
  },
  {
   "attachments": {},
   "cell_type": "markdown",
   "id": "864e1faa",
   "metadata": {},
   "source": [
    "## 10.2 Importing the math package"
   ]
  },
  {
   "cell_type": "code",
   "execution_count": 37,
   "id": "9f24948b-025a-4bd7-858f-6635b07f4583",
   "metadata": {},
   "outputs": [
    {
     "data": {
      "text/plain": [
       "2.0"
      ]
     },
     "execution_count": 37,
     "metadata": {},
     "output_type": "execute_result"
    }
   ],
   "source": [
    "import math\n",
    "math.sqrt(4)"
   ]
  },
  {
   "attachments": {},
   "cell_type": "markdown",
   "id": "a818a829",
   "metadata": {},
   "source": [
    "## 10 Importing the numpy package"
   ]
  },
  {
   "cell_type": "code",
   "execution_count": 39,
   "id": "1492a985-f852-4c07-ab3b-91e1e658315b",
   "metadata": {},
   "outputs": [
    {
     "data": {
      "text/plain": [
       "array([2., 3., 4.])"
      ]
     },
     "execution_count": 39,
     "metadata": {},
     "output_type": "execute_result"
    }
   ],
   "source": [
    "import numpy\n",
    "numpy.sqrt(4)\n",
    "numpy.sqrt([4,9,16])"
   ]
  },
  {
   "cell_type": "markdown",
   "id": "74228f31-6fa9-4bac-89a6-8d02b47f50c9",
   "metadata": {},
   "source": [
    "## 10.1 Import as"
   ]
  },
  {
   "cell_type": "code",
   "execution_count": 41,
   "id": "10c85cde-094f-43a9-b96c-af98f9792b62",
   "metadata": {},
   "outputs": [
    {
     "data": {
      "text/plain": [
       "2.0"
      ]
     },
     "execution_count": 41,
     "metadata": {},
     "output_type": "execute_result"
    }
   ],
   "source": [
    "import numpy as np #allows shorthand expression of package\n",
    "np.sqrt(4)"
   ]
  },
  {
   "attachments": {},
   "cell_type": "markdown",
   "id": "4a644059",
   "metadata": {},
   "source": [
    "# 18 The dot (.)"
   ]
  },
  {
   "cell_type": "code",
   "execution_count": 47,
   "id": "2c2f981d-c097-47c0-9651-b2269f38de10",
   "metadata": {},
   "outputs": [
    {
     "data": {
      "text/plain": [
       "2.0"
      ]
     },
     "execution_count": 47,
     "metadata": {},
     "output_type": "execute_result"
    }
   ],
   "source": [
    "math.sqrt(4) #declares ownership of function,i.e sqrt function that belongs to math\n",
    "np.sqrt(4) #function from numpy package is called\n",
    "\n"
   ]
  },
  {
   "cell_type": "code",
   "execution_count": 2,
   "id": "5915f415-84fb-4822-b170-b8ae217556e9",
   "metadata": {},
   "outputs": [
    {
     "data": {
      "text/plain": [
       "'APPLE'"
      ]
     },
     "execution_count": 2,
     "metadata": {},
     "output_type": "execute_result"
    }
   ],
   "source": [
    "\"apple\".upper() #calls method upper that belongs to string class\n",
    "\"apple\".title() #calls method title that belongs to string class\n",
    "\"I am batman\".split() #calls method split from string class that returns list  \n",
    "str.upper(\"apple\")"
   ]
  },
  {
   "cell_type": "code",
   "execution_count": null,
   "id": "0ec61575-7023-46bc-812b-65775805df5c",
   "metadata": {},
   "outputs": [],
   "source": [
    "\"hahaha\".split(\"batman\") #method does not accept any argument, therefore would throw an error"
   ]
  },
  {
   "cell_type": "code",
   "execution_count": 49,
   "id": "1f51f317-887e-4f23-97de-9feb749e1ee2",
   "metadata": {},
   "outputs": [
    {
     "ename": "AttributeError",
     "evalue": "'int' object has no attribute 'split'",
     "output_type": "error",
     "traceback": [
      "\u001b[1;31m---------------------------------------------------------------------------\u001b[0m",
      "\u001b[1;31mAttributeError\u001b[0m                            Traceback (most recent call last)",
      "Cell \u001b[1;32mIn[49], line 2\u001b[0m\n\u001b[0;32m      1\u001b[0m x \u001b[38;5;241m=\u001b[39m \u001b[38;5;241m34\u001b[39m\n\u001b[1;32m----> 2\u001b[0m \u001b[43mx\u001b[49m\u001b[38;5;241;43m.\u001b[39;49m\u001b[43msplit\u001b[49m()\n",
      "\u001b[1;31mAttributeError\u001b[0m: 'int' object has no attribute 'split'"
     ]
    }
   ],
   "source": [
    "x = 34\n",
    "x.split() #int class does not have split method, therefore would throw an error"
   ]
  },
  {
   "cell_type": "code",
   "execution_count": null,
   "id": "0140dbe8-6c8c-49a2-98a8-8102e4f2489a",
   "metadata": {},
   "outputs": [],
   "source": [
    "x = 2j + 10\n",
    "x.real #returns parameter \"real\" of complex cclass instance variable x\n",
    "x.imag  #returns parameter \"iamginary\" of x"
   ]
  },
  {
   "attachments": {},
   "cell_type": "markdown",
   "id": "fb16b158",
   "metadata": {},
   "source": [
    "## Footnotes"
   ]
  }
 ],
 "metadata": {
  "kernelspec": {
   "display_name": "Python 3 (ipykernel)",
   "language": "python",
   "name": "python3"
  },
  "language_info": {
   "codemirror_mode": {
    "name": "ipython",
    "version": 3
   },
   "file_extension": ".py",
   "mimetype": "text/x-python",
   "name": "python",
   "nbconvert_exporter": "python",
   "pygments_lexer": "ipython3",
   "version": "3.11.5"
  },
  "toc": {
   "base_numbering": 1,
   "nav_menu": {},
   "number_sections": true,
   "sideBar": true,
   "skip_h1_title": false,
   "title_cell": "Table of Contents",
   "title_sidebar": "Contents",
   "toc_cell": false,
   "toc_position": {},
   "toc_section_display": true,
   "toc_window_display": false
  },
  "vscode": {
   "interpreter": {
    "hash": "31f2aee4e71d21fbe5cf8b01ff0e069b9275f58929596ceb00d14d90e3e16cd6"
   }
  }
 },
 "nbformat": 4,
 "nbformat_minor": 5
}
