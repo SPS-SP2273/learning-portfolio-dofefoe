{
 "cells": [
  {
   "attachments": {},
   "cell_type": "markdown",
   "id": "123456",
   "metadata": {},
   "source": [
    "<div style=\"text-align:left;font-size:2em\"><span style=\"font-weight:bolder;font-size:1.25em\">SP2273 | Learning Portfolio</span><br><br><span style=\"font-weight:bold;color:darkred\">Fundamentals (Good)</span></div>"
   ]
  },
  {
   "attachments": {},
   "cell_type": "markdown",
   "id": "dea68a89",
   "metadata": {},
   "source": [
    "# What to expect in this chapter"
   ]
  },
  {
   "attachments": {},
   "cell_type": "markdown",
   "id": "c3c27325",
   "metadata": {},
   "id": "db6548cb",
   "metadata": {
    "jp-MarkdownHeadingCollapsed": true
   },
   "source": [
    "# 1 There is more to if"
   ]
  },
  {
   "attachments": {},
   "cell_type": "markdown",
   "id": "cced685f",
   "cell_type": "code",
   "execution_count": null,
   "id": "0f31fa5c-2418-49ff-aaed-0ba9994b4012",
   "metadata": {},
   "outputs": [],
   "source": [
    "#already annotated in (need) :skull:\n",
    "name = 'Batman'\n",
    "\n",
    "if name == 'Batman':\n",
    "    print('Hello Batman!')\n",
    "elif name == 'Robin':\n",
    "    print('Hello Sidekick!')\n",
    "else:\n",
    "    print('Hello World!')  "
   ]
  },
  {
   "attachments": {},
   "cell_type": "markdown",
   "id": "dd9f00ca",
   "metadata": {},
   "source": [
    "# 2 Asking questions"
   ]
  },
  {
   "attachments": {},
   "cell_type": "markdown",
   "id": "6187677f",
   "metadata": {},
   "source": [
    "# 3 Remember"
   "cell_type": "code",
   "execution_count": 2,
   "id": "83778757-0402-46e8-8093-adbb88b2c1cf",
   "metadata": {},
   "outputs": [],
   "source": [
    "fruits = ['apple', 'banana', 'pineapple', 'jackfruit'] #list class instance fruits containing list of 4 strings\n",
    "vegetables = ['celery', 'potato', 'broccoli', 'kale']"
   ]
  },
  {
   "cell_type": "code",
   "execution_count": null,
   "id": "b5a00019-a7ed-40f9-8d4f-4e8881a34631",
   "metadata": {},
   "outputs": [],
   "source": [
    "'apple' in fruits #returns true as str \"apple\" exist in fruits at index 0"
   ]
  },
  {
   "cell_type": "code",
   "execution_count": null,
   "id": "77e48599-c175-450a-ad45-67bcab8c466b",
   "metadata": {},
   "outputs": [],
   "source": [
    "'peach' not in fruits #returns true as str \"peach\" does NOT exist in fruits"
   ]
  },
  {
   "cell_type": "code",
   "execution_count": null,
   "id": "c89dd0d0-5da7-4b24-8eae-f4a7531fd8be",
   "metadata": {},
   "outputs": [],
   "source": [
    "('apple' in fruits) and ('celery' in vegetables) #both conditions were true, and therefore overall AND statement is also true"
   ]
  },
  {
   "cell_type": "code",
   "execution_count": 7,
   "id": "3af7ee95-bed7-466d-89d7-4d469ae2273c",
   "metadata": {},
   "outputs": [
    {
     "data": {
      "text/plain": [
       "True"
      ]
     },
     "execution_count": 7,
     "metadata": {},
     "output_type": "execute_result"
    }
   ],
   "source": [
    "('apple' in fruits) & ('celery' in vegetables) # AND function for bits/boolean"
   ]
  },
  {
   "cell_type": "code",
   "execution_count": 3,
   "id": "f39ddfe0-dd58-4fe1-a9b2-f80c41053eda",
   "metadata": {},
   "outputs": [
    {
     "data": {
      "text/plain": [
       "True"
      ]
     },
     "execution_count": 3,
     "metadata": {},
     "output_type": "execute_result"
    }
   ],
   "source": [
    "('apple' in fruits) or ('shanghai green' in vegetables) #one condition being true would still result in OR statement being true"
   ]
  },
  {
   "cell_type": "code",
   "execution_count": 6,
   "id": "e940b696-9c76-4178-83ab-43361a5c2b2a",
   "metadata": {},
   "outputs": [
    {
     "data": {
      "text/plain": [
       "False"
      ]
     },
     "execution_count": 6,
     "metadata": {},
     "output_type": "execute_result"
    }
   ],
   "source": [
    "('orange' in fruits) ^ ('lettuce' in vegetables) # XOR function, only for bits/boolean"
   ]
  },
  {
   "cell_type": "code",
   "execution_count": null,
   "id": "f7663dae-02e3-4c2d-be17-5b4a8ca824bd",
   "metadata": {},
   "outputs": [],
   "source": [
    "'app' in 'apple' #str also has 'in' keyword"
   ]
  },
  {
   "cell_type": "code",
   "execution_count": 9,
   "id": "09f704cc-9e4e-4c9d-a894-a19886634817",
   "metadata": {},
   "outputs": [
    {
     "data": {
      "text/plain": [
       "False"
      ]
     },
     "execution_count": 9,
     "metadata": {},
     "output_type": "execute_result"
    }
   ],
   "source": [
    "'apple milkshake' > 'orange' #returns boolean based on size of first ltr of str"
   ]
  },
  {
   "attachments": {},
   "cell_type": "markdown",
   "id": "d4ebdb52",
   "metadata": {},
   "source": [
    "## 3.1 Asking Math questions"
   "id": "7c0003c6",
   "metadata": {},
   "source": [
    "# 3 Asking Math questions"
   ]
  },
  {
   "cell_type": "code",
   "execution_count": 12,
   "id": "7ba4fad7-0718-4805-84a1-22ec7c70829f",
   "metadata": {},
   "outputs": [
    {
     "data": {
      "text/plain": [
       "True"
      ]
     },
     "execution_count": 12,
     "metadata": {},
     "output_type": "execute_result"
    }
   ],
   "source": [
    "10 >= 3"
   ]
  },
  {
   "cell_type": "code",
   "execution_count": 11,
   "id": "d5de5420-d714-4954-b49b-6a3c2184d675",
   "metadata": {},
   "outputs": [
    {
     "data": {
      "text/plain": [
       "True"
      ]
     },
     "execution_count": 11,
     "metadata": {},
     "output_type": "execute_result"
    }
   ],
   "source": [
    "10 != 3"
   ]
  },
  {
   "cell_type": "code",
   "execution_count": 15,
   "id": "24ca2c58-8b1a-4d61-874c-b3bee9f6efbb",
   "metadata": {},
   "outputs": [
    {
     "data": {
      "text/plain": [
       "True"
      ]
     },
     "execution_count": 15,
     "metadata": {},
     "output_type": "execute_result"
    }
   ],
   "source": [
    "x = 9\n",
    "(x > 5) and (x <15)"
   ]
  },
  {
   "attachments": {},
   "cell_type": "markdown",
   "id": "a0356f7b",
   "id": "e03ea6e0",
   "metadata": {},
   "source": [
    "# 4 Python stores information in different formats or types"
   ]
  },
  {
   "attachments": {},
   "cell_type": "markdown",
   "id": "dc553199",
   "cell_type": "code",
   "execution_count": 17,
   "id": "3385c70c-0e6d-44a8-b27b-7610b3479345",
   "metadata": {},
   "outputs": [
    {
     "name": "stdout",
     "output_type": "stream",
     "text": [
      "1 <class 'int'>\n"
     ]
    }
   ],
   "source": [
    "x = int(1.634) #simplifies float 1.234 into int class\n",
    "print(x,type(x)) #math.floor() performed on value"
   ]
  },
  {
   "cell_type": "code",
   "execution_count": 19,
   "id": "9bc888f3-fca8-43b0-aad2-19797d6eae3c",
   "metadata": {},
   "outputs": [
    {
     "name": "stdout",
     "output_type": "stream",
     "text": [
      "1.234 <class 'str'>\n"
     ]
    }
   ],
   "source": [
    "x = str(1.234)\n",
    "print(x,type(x)) #attempting to perform math operations with current instance of x would yield error"
   ]
  },
  {
   "cell_type": "code",
   "execution_count": null,
   "id": "dcc6e28d-6220-4729-af00-b51faa0bba8c",
   "metadata": {},
   "outputs": [],
   "source": [
    "x = float(1.234)\n",
    "print(x,type(x)) "
   ]
  },
  {
   "cell_type": "code",
   "execution_count": null,
   "id": "2f1dd09e-9578-40f4-958e-1e37b8ba2294",
   "metadata": {},
   "outputs": [],
   "source": [
    "x = complex(1.234)\n",
    "print(x,type(x)) #complex parameter unfilled"
   ]
  },
  {
   "attachments": {},
   "cell_type": "markdown",
   "id": "1b7e60f5",
   "metadata": {},
   "source": [
    "# 5 Never compare floats directly"
   ]
  },
  {
   "attachments": {},
   "cell_type": "markdown",
   "id": "452477f2",
   "id": "d7e5a8b5",
   "metadata": {},
   "source": [
    "## 5.1 The Problem"
   ]
  },
  {
   "attachments": {},
   "cell_type": "markdown",
   "id": "d2d67e64",
   "cell_type": "code",
   "execution_count": 20,
   "id": "c1187fef-9445-4ddf-9611-20c52bfd07e1",
   "metadata": {},
   "outputs": [
    {
     "data": {
      "text/plain": [
       "False"
      ]
     },
     "execution_count": 20,
     "metadata": {},
     "output_type": "execute_result"
    }
   ],
   "source": [
    "a = 0.1\n",
    "a3 = 0.3\n",
    "a *3 == a3"
   ]
  },
  {
   "cell_type": "code",
   "execution_count": 26,
   "id": "b5e4f9db-1f0b-4b15-9e85-0c96486cbe42",
   "metadata": {},
   "outputs": [
    {
     "data": {
      "text/plain": [
       "'0.29999999999999999'"
      ]
     },
     "execution_count": 26,
     "metadata": {},
     "output_type": "execute_result"
    }
   ],
   "source": [
    "f'{0.3:.17f}' #prints 0.3 to 17 dec places"
   ]
  },
  {
   "attachments": {},
   "cell_type": "markdown",
   "id": "d2eb2269",
   "metadata": {},
   "source": [
    "## 5.2 A solution"
   ]
  },
  {
   "attachments": {},
   "cell_type": "markdown",
   "id": "d2c729cb",
   "cell_type": "code",
   "execution_count": 29,
   "id": "5417eef3-49be-4b9b-a66a-cdf846239fd6",
   "metadata": {},
   "outputs": [
    {
     "data": {
      "text/plain": [
       "5.551115123125783e-17"
      ]
     },
     "execution_count": 29,
     "metadata": {},
     "output_type": "execute_result"
    }
   ],
   "source": [
    "abs(a*3 - a3)"
   ]
  },
  {
   "cell_type": "code",
   "execution_count": 28,
   "id": "dab30e7e-c1a0-4133-a32c-c53557221d65",
   "metadata": {},
   "outputs": [
    {
     "data": {
      "text/plain": [
       "True"
      ]
     },
     "execution_count": 28,
     "metadata": {},
     "output_type": "execute_result"
    }
   ],
   "source": [
    "abs(a*3 - a3) <1E-15 #comparing the small difference in the 2 floats to another small number. size depends on pickiness"
   ]
  },
  {
   "cell_type": "code",
   "execution_count": 32,
   "id": "f6275909-1a86-41b8-a8ed-9e0f3320f810",
   "metadata": {},
   "outputs": [
    {
     "data": {
      "text/plain": [
       "True"
      ]
     },
     "execution_count": 32,
     "metadata": {},
     "output_type": "execute_result"
    }
   ],
   "source": [
    "import numpy as np\n",
    "np.isclose(a*3 - a3,0) #isclose function in numpy package"
   ]
  },
  {
   "attachments": {},
   "cell_type": "markdown",
   "id": "7780107c",
   "metadata": {},
   "source": [
    "# 6 Combining English and variables"
   ]
  },
  {
   "cell_type": "code",
   "execution_count": 7,
   "id": "071cd84c-c3c1-4347-9df8-cc66bdb6e4c1",
   "metadata": {},
   "outputs": [
    {
     "name": "stdout",
     "output_type": "stream",
     "text": [
      "my name isbatman\n"
     ]
    }
   ],
   "source": [
    "name = \"batman\"\n",
    "print(\"my name is \" + name) #traditional string concat"
   ]
  },
  {
   "cell_type": "code",
   "execution_count": 6,
   "id": "ca49a1f3-1584-471c-be40-2e5383f0c10b",
   "metadata": {},
   "outputs": [
    {
     "name": "stdout",
     "output_type": "stream",
     "text": [
      "Hello Batman!\n"
     ]
    }
   ],
   "source": [
    "name = \"Batman\"\n",
    "print(f\"Hello {name}!\") #f string version"
   ]
  },
  {
   "cell_type": "code",
   "execution_count": 5,
   "id": "497d89a4-4147-4e89-a939-fa1e45def1a1",
   "metadata": {},
   "outputs": [
    {
     "name": "stdout",
     "output_type": "stream",
     "text": [
      "Hello BATMAN!\n"
     ]
    }
   ],
   "source": [
    "name = \"Batman\"\n",
    "print(f\"Hello {name.upper()}!\") "
   ]
  },
  {
   "cell_type": "code",
   "execution_count": 11,
   "id": "58b2b002-de35-4eaf-be45-b774192b6196",
   "metadata": {},
   "outputs": [
    {
     "name": "stdout",
     "output_type": "stream",
     "text": [
      "hello BATMAN!\n"
     ]
    }
   ],
   "source": [
    "name = \"Batman\"\n",
    "print(\"hello \" + name.upper() + \"!\")"
   ]
  },
  {
   "cell_type": "code",
   "execution_count": 4,
   "id": "288f784a-a25c-44b1-aee1-12bee42f4d69",
   "metadata": {},
   "outputs": [
    {
     "name": "stdout",
     "output_type": "stream",
     "text": [
      "The value of 10 squared is 100!\n"
     ]
    }
   ],
   "source": [
    "x = 10\n",
    "print(f\"The value of {x} squared is {x**2}!\")"
   ]
  },
  {
   "cell_type": "code",
   "execution_count": 8,
   "id": "8ab9761b-eb19-47d4-bdd9-933da797ecb4",
   "metadata": {},
   "outputs": [
    {
     "name": "stdout",
     "output_type": "stream",
     "text": [
      "I am 10\n"
     ]
    }
   ],
   "source": [
    "x = 10\n",
    "print(\"I am \" + str(x)) #traditional string concat by translating x to str class"
   ]
  },
  {
   "cell_type": "code",
   "execution_count": 30,
   "id": "317920a5-fb44-4c36-8efe-7f9d2ff98818",
   "metadata": {},
   "outputs": [
    {
     "name": "stdout",
     "output_type": "stream",
     "text": [
      "The cube of pi to 6 decimal places is 31.006277\n"
     ]
    }
   ],
   "source": [
    "import numpy as np\n",
    "print(f'The cube of pi to 6 decimal places is {np.pi**3:.6f}') "
   ]
  },
  {
   "cell_type": "code",
   "execution_count": 47,
   "id": "adbf1889-663e-4a8f-9ddf-61a3046f37de",
   "metadata": {},
   "outputs": [
    {
     "name": "stdout",
     "output_type": "stream",
     "text": [
      "The cube of pi to 6 decimal places is 31.006277\n"
     ]
    }
   ],
   "source": [
    "pi_c = \"{:.6f}\".format(np.pi**3)\n",
    "print(\"The cube of pi to 6 decimal places is \"+ str(pi_c)) \n",
    "#traditional str concat starts to show weakness here, where we still end up relying on\n",
    "#format function to present the same output"
   ]
  },
  {
   "cell_type": "code",
   "execution_count": null,
   "id": "37c2a7cb-34dc-422a-9e87-6929bbc9f3cb",
   "metadata": {},
   "outputs": [],
   "source": [
    "text = \"I am batman\"\n",
    "print(f'|{text:.>30}|')     #f strings tend to be more versatile to allow for formatiing compared to str concat\n",
    "# prints a block of 30 characters; aligned right"
   ]
  },
  {
   "cell_type": "code",
   "execution_count": 28,
   "id": "ba4601b0-4616-4953-8096-eaa7def0e873",
   "metadata": {},
   "outputs": [
    {
     "name": "stdout",
     "output_type": "stream",
     "text": [
      "|xxxxxxxxxI am batmanxxxxxxxxxx|\n"
     ]
    }
   ],
   "source": [
    "print(f'|{text:x^30}|')      # A block of 30 characters;\n",
    "                          # aligned centre"
   ]
  },
  {
   "cell_type": "code",
   "execution_count": 29,
   "id": "d1b0ba90-9842-4c9d-bc90-d08dac596c27",
   "metadata": {},
   "outputs": [
    {
     "name": "stdout",
     "output_type": "stream",
     "text": [
      "|I am batman                   |\n"
     ]
    }
   ],
   "source": [
    "print(f'|{text:<30}|')      # A block of 30 characters;\n",
    "                          # aligned left"
   ]
  },
  {
   "attachments": {},
   "cell_type": "markdown",
   "id": "8b1707af",
   "attachments": {},
   "cell_type": "markdown",
   "id": "85395956",
   "metadata": {},
   "source": [
    "## 6.1 Structure of f-strings"
   ]
  },
  {
   "cell_type": "markdown",
   "id": "c77e1c5f-fac7-4962-a68d-7f11ce3cc322",
   "metadata": {},
   "source": [
    "f string formatting structure\n",
    "\n",
    "{X: >0Y.ZW}\n",
    "\n",
    "| Key | Action                                                                                               |\r\n",
    "|-----|------------------------------------------------------------------------------------------------------|\r\n",
    "| `W` | Specifies the type of variable:<br>f - float<br>d- integer<br>s- string<br>g - Ask python figure out |\r\n",
    "| `X` | Variable to format (Can be a number or a string)                                                     |\r\n",
    "| `>` | Alignment Use <, >, ^ for Left, Right and Centre                                                     |\r\n",
    "| `Y` | Total number of characters                                                                           |\r\n",
    "| `Z` | Number of decimal places                                                                             |\r\n",
    "| `0` | Use 0’s to pad the spaces                                                                            |"
   ]
  },
  {
   "attachments": {},
   "cell_type": "markdown",
   "id": "037a3901",
   "attachments": {},
   "cell_type": "markdown",
   "id": "fd37d5ba",
   "metadata": {},
   "source": [
    "# 7 Escape sequences"
   ]
  },
  {
   "cell_type": "code",
   "execution_count": 48,
   "id": "8405d95a-1ec9-48b1-abfb-7ff1576879ea",
   "metadata": {},
   "outputs": [
    {
     "name": "stdout",
     "output_type": "stream",
     "text": [
      "Line 1\n",
      "\tline 2\n",
      "\t\tline 3\n",
      "\\\n"
     ]
    }
   ],
   "source": [
    "print(\"Line 1\\n\\tline 2\\n\\t\\tline 3\") #use \\ to denote escape sequence\n",
    "print(\"\\\\\")                           #can also be used to escape special symbols in markdown, in addition to python"
   ]
  },
  {
   "cell_type": "code",
   "execution_count": 37,
   "id": "9cb58111-b74c-466a-908c-d284527a7743",
   "metadata": {},
   "outputs": [
    {
     "name": "stdout",
     "output_type": "stream",
     "text": [
      "you're old\n",
      "you're old\n"
     ]
    }
   ],
   "source": [
    "print(\"you're old\")    \n",
    "print('you\\'re old')   #use double and single quotations appropriately to make life easier"
   ]
  },
  {
   "attachments": {},
   "cell_type": "markdown",
   "id": "a0ddffd1",
   "attachments": {},
   "cell_type": "markdown",
   "id": "e81a27e5",
   "metadata": {},
   "source": [
    "# 8 Computers read = from Right to Left!"
   ]
  },
  {
   "cell_type": "code",
   "execution_count": 2,
   "id": "59c991f3-6b68-4698-8e2e-2f5cdbea9a94",
   "metadata": {},
   "outputs": [],
   "source": [
    "x = 40 #assigns value 40 to variable x\n",
    "y = x + 2 #assigns value x + 2 to y, which gives int value of 42\n",
    "y = y + 2 #adds 2 to value of y, logical to do so in python"
   ]
  },
  {
   "attachments": {},
   "cell_type": "markdown",
   "id": "60efeb44",
   "attachments": {},
   "cell_type": "markdown",
   "id": "a0874ff2",
   "metadata": {},
   "source": [
    "# 9 Shorter and Cleaner Code"
   ]
  },
  {
   "cell_type": "code",
   "execution_count": 39,
   "id": "139eccb8-befa-4701-9108-6834452e21c6",
   "metadata": {},
   "outputs": [],
   "source": [
    "y += 2 #basic operation shortened\n",
    "y -=2\n",
    "y/= 2\n",
    "y*= 2\n",
    "y%= 2 #modulus\n",
    "y**= 2 #exponential\n",
    "y//= 2 #floor division"
   ]
  },
  {
   "attachments": {},
   "cell_type": "markdown",
   "id": "458cb2e9",
   "attachments": {},
   "cell_type": "markdown",
   "id": "f365d080",
   "metadata": {},
   "source": [
    "# 10 Python can be a prima-donna."
   ]
  },
  {
   "attachments": {},
   "cell_type": "markdown",
   "id": "31cf0b80",
   "id": "7aca18f0",
   "metadata": {},
   "source": [
    "# 11 Best Practices for Scientific Computing"
   ]
  },
  {
   "cell_type": "code",
   "execution_count": 50,
   "id": "68047a56-e193-4011-8b47-404d281df776",
   "metadata": {},
   "outputs": [
    {
     "name": "stdout",
     "output_type": "stream",
     "text": [
      "Help on built-in function print in module builtins:\n",
      "\n",
      "print(*args, sep=' ', end='\\n', file=None, flush=False)\n",
      "    Prints the values to a stream, or to sys.stdout by default.\n",
      "    \n",
      "    sep\n",
      "      string inserted between values, default a space.\n",
      "    end\n",
      "      string appended after the last value, default a newline.\n",
      "    file\n",
      "      a file-like object (stream); defaults to the current sys.stdout.\n",
      "    flush\n",
      "      whether to forcibly flush the stream.\n",
      "\n"
     ]
    }
   ],
   "source": [
    "help(print) #not recommended\n",
    "#stack overflow is best friend"
   ]
  },
  {
   "attachments": {},
   "cell_type": "markdown",
   "id": "22295d1f",
   "attachments": {},
   "cell_type": "markdown",
   "id": "4dda2d0e",
   "metadata": {},
   "source": [
    "# 12 Looking for help"
   ]
  },
  {
   "attachments": {},
   "cell_type": "markdown",
   "id": "71f0d368",
   "id": "7ff0ef0b",
   "metadata": {},
   "source": [
    "## References"
   ]
  },
  {
   "attachments": {},
   "cell_type": "markdown",
   "id": "d85653b7",
   "id": "3207ffbb",
   "metadata": {},
   "source": [
    "## Footnotes"
   ]
  }
 ],
 "metadata": {
  "kernelspec": {
   "display_name": "Python 3 (ipykernel)",
   "language": "python",
   "name": "python3"
  },
  "language_info": {
   "codemirror_mode": {
    "name": "ipython",
    "version": 3
   },
   "file_extension": ".py",
   "mimetype": "text/x-python",
   "name": "python",
   "nbconvert_exporter": "python",
   "pygments_lexer": "ipython3",
   "version": "3.11.5"
  },
  "toc": {
   "base_numbering": 1,
   "nav_menu": {},
   "number_sections": true,
   "sideBar": true,
   "skip_h1_title": false,
   "title_cell": "Table of Contents",
   "title_sidebar": "Contents",
   "toc_cell": false,
   "toc_position": {},
   "toc_section_display": true,
   "toc_window_display": false
  },
  "vscode": {
   "interpreter": {
    "hash": "31f2aee4e71d21fbe5cf8b01ff0e069b9275f58929596ceb00d14d90e3e16cd6"
   }
  }
 },
 "nbformat": 4,
 "nbformat_minor": 5
}
