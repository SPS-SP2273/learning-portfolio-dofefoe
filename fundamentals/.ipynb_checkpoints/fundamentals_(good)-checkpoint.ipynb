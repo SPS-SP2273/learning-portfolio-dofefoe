{
 "cells": [
  {
   "attachments": {},
   "cell_type": "markdown",
   "id": "123456",
   "metadata": {},
   "source": [
    "<div style=\"text-align:left;font-size:2em\"><span style=\"font-weight:bolder;font-size:1.25em\">SP2273 | Learning Portfolio</span><br><br><span style=\"font-weight:bold;color:darkred\">Fundamentals (Good)</span></div>"
   ]
  },
  {
   "attachments": {},
   "cell_type": "markdown",
   "id": "dea68a89",
   "metadata": {},
   "source": [
    "# What to expect in this chapter"
   ]
  },
  {
   "attachments": {},
   "cell_type": "markdown",
   "id": "c3c27325",
   "metadata": {},
   "source": [
    "# 1 There is more to if"
   ]
  },
  {
   "attachments": {},
   "cell_type": "markdown",
   "id": "cced685f",
   "metadata": {},
   "source": [
    "# 2 Asking questions"
   ]
  },
  {
   "attachments": {},
   "cell_type": "markdown",
   "id": "6187677f",
   "metadata": {},
   "source": [
    "# 3 Remember"
   ]
  },
  {
   "attachments": {},
   "cell_type": "markdown",
   "id": "d4ebdb52",
   "metadata": {},
   "source": [
    "## 3.1 Asking Math questions"
   ]
  },
  {
   "attachments": {},
   "cell_type": "markdown",
   "id": "a0356f7b",
   "metadata": {},
   "source": [
    "# 4 Python stores information in different formats or types"
   ]
  },
  {
   "attachments": {},
   "cell_type": "markdown",
   "id": "dc553199",
   "metadata": {},
   "source": [
    "# 5 Never compare floats directly"
   ]
  },
  {
   "attachments": {},
   "cell_type": "markdown",
   "id": "452477f2",
   "metadata": {},
   "source": [
    "## 5.1 The Problem"
   ]
  },
  {
   "attachments": {},
   "cell_type": "markdown",
   "id": "d2d67e64",
   "metadata": {},
   "source": [
    "## 5.2 A solution"
   ]
  },
  {
   "attachments": {},
   "cell_type": "markdown",
   "id": "d2c729cb",
   "metadata": {},
   "source": [
    "# 6 Combining English and variables"
   ]
  },
  {
   "cell_type": "code",
   "execution_count": 7,
   "id": "071cd84c-c3c1-4347-9df8-cc66bdb6e4c1",
   "metadata": {},
   "outputs": [
    {
     "name": "stdout",
     "output_type": "stream",
     "text": [
      "my name isbatman\n"
     ]
    }
   ],
   "source": [
    "name = \"batman\"\n",
    "print(\"my name is \" + name) #traditional string concat"
   ]
  },
  {
   "cell_type": "code",
   "execution_count": 6,
   "id": "ca49a1f3-1584-471c-be40-2e5383f0c10b",
   "metadata": {},
   "outputs": [
    {
     "name": "stdout",
     "output_type": "stream",
     "text": [
      "Hello Batman!\n"
     ]
    }
   ],
   "source": [
    "name = \"Batman\"\n",
    "print(f\"Hello {name}!\") #f string version"
   ]
  },
  {
   "cell_type": "code",
   "execution_count": 5,
   "id": "497d89a4-4147-4e89-a939-fa1e45def1a1",
   "metadata": {},
   "outputs": [
    {
     "name": "stdout",
     "output_type": "stream",
     "text": [
      "Hello BATMAN!\n"
     ]
    }
   ],
   "source": [
    "name = \"Batman\"\n",
    "print(f\"Hello {name.upper()}!\") "
   ]
  },
  {
   "cell_type": "code",
   "execution_count": 11,
   "id": "58b2b002-de35-4eaf-be45-b774192b6196",
   "metadata": {},
   "outputs": [
    {
     "name": "stdout",
     "output_type": "stream",
     "text": [
      "hello BATMAN!\n"
     ]
    }
   ],
   "source": [
    "name = \"Batman\"\n",
    "print(\"hello \" + name.upper() + \"!\")"
   ]
  },
  {
   "cell_type": "code",
   "execution_count": 4,
   "id": "288f784a-a25c-44b1-aee1-12bee42f4d69",
   "metadata": {},
   "outputs": [
    {
     "name": "stdout",
     "output_type": "stream",
     "text": [
      "The value of 10 squared is 100!\n"
     ]
    }
   ],
   "source": [
    "x = 10\n",
    "print(f\"The value of {x} squared is {x**2}!\")"
   ]
  },
  {
   "cell_type": "code",
   "execution_count": 8,
   "id": "8ab9761b-eb19-47d4-bdd9-933da797ecb4",
   "metadata": {},
   "outputs": [
    {
     "name": "stdout",
     "output_type": "stream",
     "text": [
      "I am 10\n"
     ]
    }
   ],
   "source": [
    "x = 10\n",
    "print(\"I am \" + str(x)) #traditional string concat by translating x to str class"
   ]
  },
  {
   "cell_type": "code",
   "execution_count": 30,
   "id": "317920a5-fb44-4c36-8efe-7f9d2ff98818",
   "metadata": {},
   "outputs": [
    {
     "name": "stdout",
     "output_type": "stream",
     "text": [
      "The cube of pi to 6 decimal places is 31.006277\n"
     ]
    }
   ],
   "source": [
    "import numpy as np\n",
    "print(f'The cube of pi to 6 decimal places is {np.pi**3:.6f}') "
   ]
  },
  {
   "cell_type": "code",
   "execution_count": 47,
   "id": "adbf1889-663e-4a8f-9ddf-61a3046f37de",
   "metadata": {},
   "outputs": [
    {
     "name": "stdout",
     "output_type": "stream",
     "text": [
      "The cube of pi to 6 decimal places is 31.006277\n"
     ]
    }
   ],
   "source": [
    "pi_c = \"{:.6f}\".format(np.pi**3)\n",
    "print(\"The cube of pi to 6 decimal places is \"+ str(pi_c)) \n",
    "#traditional str concat starts to show weakness here, where we still end up relying on\n",
    "#format function to present the same output"
   ]
  },
  {
   "cell_type": "code",
   "execution_count": null,
   "id": "37c2a7cb-34dc-422a-9e87-6929bbc9f3cb",
   "metadata": {},
   "outputs": [],
   "source": [
    "text = \"I am batman\"\n",
    "print(f'|{text:.>30}|')     #f strings tend to be more versatile to allow for formatiing compared to str concat\n",
    "# prints a block of 30 characters; aligned right"
   ]
  },
  {
   "cell_type": "code",
   "execution_count": 28,
   "id": "ba4601b0-4616-4953-8096-eaa7def0e873",
   "metadata": {},
   "outputs": [
    {
     "name": "stdout",
     "output_type": "stream",
     "text": [
      "|xxxxxxxxxI am batmanxxxxxxxxxx|\n"
     ]
    }
   ],
   "source": [
    "print(f'|{text:x^30}|')      # A block of 30 characters;\n",
    "                          # aligned centre"
   ]
  },
  {
   "cell_type": "code",
   "execution_count": 29,
   "id": "d1b0ba90-9842-4c9d-bc90-d08dac596c27",
   "metadata": {},
   "outputs": [
    {
     "name": "stdout",
     "output_type": "stream",
     "text": [
      "|I am batman                   |\n"
     ]
    }
   ],
   "source": [
    "print(f'|{text:<30}|')      # A block of 30 characters;\n",
    "                          # aligned left"
   ]
  },
  {
   "attachments": {},
   "cell_type": "markdown",
   "id": "8b1707af",
   "metadata": {},
   "source": [
    "## 6.1 Structure of f-strings"
   ]
  },
  {
   "cell_type": "markdown",
   "id": "c77e1c5f-fac7-4962-a68d-7f11ce3cc322",
   "metadata": {},
   "source": [
    "f string formatting structure\n",
    "\n",
    "{X: >0Y.ZW}\n",
    "\n",
    "| Key | Action                                                                                               |\r\n",
    "|-----|------------------------------------------------------------------------------------------------------|\r\n",
    "| `W` | Specifies the type of variable:<br>f - float<br>d- integer<br>s- string<br>g - Ask python figure out |\r\n",
    "| `X` | Variable to format (Can be a number or a string)                                                     |\r\n",
    "| `>` | Alignment Use <, >, ^ for Left, Right and Centre                                                     |\r\n",
    "| `Y` | Total number of characters                                                                           |\r\n",
    "| `Z` | Number of decimal places                                                                             |\r\n",
    "| `0` | Use 0’s to pad the spaces                                                                            |"
   ]
  },
  {
   "attachments": {},
   "cell_type": "markdown",
   "id": "037a3901",
   "metadata": {},
   "source": [
    "# 7 Escape sequences"
   ]
  },
  {
   "cell_type": "code",
   "execution_count": 48,
   "id": "8405d95a-1ec9-48b1-abfb-7ff1576879ea",
   "metadata": {},
   "outputs": [
    {
     "name": "stdout",
     "output_type": "stream",
     "text": [
      "Line 1\n",
      "\tline 2\n",
      "\t\tline 3\n",
      "\\\n"
     ]
    }
   ],
   "source": [
    "print(\"Line 1\\n\\tline 2\\n\\t\\tline 3\") #use \\ to denote escape sequence\n",
    "print(\"\\\\\")                           #can also be used to escape special symbols in markdown, in addition to python"
   ]
  },
  {
   "cell_type": "code",
   "execution_count": 37,
   "id": "9cb58111-b74c-466a-908c-d284527a7743",
   "metadata": {},
   "outputs": [
    {
     "name": "stdout",
     "output_type": "stream",
     "text": [
      "you're old\n",
      "you're old\n"
     ]
    }
   ],
   "source": [
    "print(\"you're old\")    \n",
    "print('you\\'re old')   #use double and single quotations appropriately to make life easier"
   ]
  },
  {
   "attachments": {},
   "cell_type": "markdown",
   "id": "a0ddffd1",
   "metadata": {},
   "source": [
    "# 8 Computers read = from Right to Left!"
   ]
  },
  {
   "cell_type": "code",
   "execution_count": 2,
   "id": "59c991f3-6b68-4698-8e2e-2f5cdbea9a94",
   "metadata": {},
   "outputs": [],
   "source": [
    "x = 40 #assigns value 40 to variable x\n",
    "y = x + 2 #assigns value x + 2 to y, which gives int value of 42\n",
    "y = y + 2 #adds 2 to value of y, logical to do so in python"
   ]
  },
  {
   "attachments": {},
   "cell_type": "markdown",
   "id": "60efeb44",
   "metadata": {},
   "source": [
    "# 9 Shorter and Cleaner Code"
   ]
  },
  {
   "cell_type": "code",
   "execution_count": 39,
   "id": "139eccb8-befa-4701-9108-6834452e21c6",
   "metadata": {},
   "outputs": [],
   "source": [
    "y += 2 #basic operation shortened\n",
    "y -=2\n",
    "y/= 2\n",
    "y*= 2\n",
    "y%= 2 #modulus\n",
    "y**= 2 #exponential\n",
    "y//= 2 #floor division"
   ]
  },
  {
   "attachments": {},
   "cell_type": "markdown",
   "id": "458cb2e9",
   "metadata": {},
   "source": [
    "# 10 Python can be a prima-donna."
   ]
  },
  {
   "attachments": {},
   "cell_type": "markdown",
   "id": "31cf0b80",
   "metadata": {},
   "source": [
    "# 11 Best Practices for Scientific Computing"
   ]
  },
  {
   "cell_type": "code",
   "execution_count": 50,
   "id": "68047a56-e193-4011-8b47-404d281df776",
   "metadata": {},
   "outputs": [
    {
     "name": "stdout",
     "output_type": "stream",
     "text": [
      "Help on built-in function print in module builtins:\n",
      "\n",
      "print(*args, sep=' ', end='\\n', file=None, flush=False)\n",
      "    Prints the values to a stream, or to sys.stdout by default.\n",
      "    \n",
      "    sep\n",
      "      string inserted between values, default a space.\n",
      "    end\n",
      "      string appended after the last value, default a newline.\n",
      "    file\n",
      "      a file-like object (stream); defaults to the current sys.stdout.\n",
      "    flush\n",
      "      whether to forcibly flush the stream.\n",
      "\n"
     ]
    }
   ],
   "source": [
    "help(print) #not recommended\n",
    "#stack overflow is best friend"
   ]
  },
  {
   "attachments": {},
   "cell_type": "markdown",
   "id": "22295d1f",
   "metadata": {},
   "source": [
    "# 12 Looking for help"
   ]
  },
  {
   "attachments": {},
   "cell_type": "markdown",
   "id": "71f0d368",
   "metadata": {},
   "source": [
    "## References"
   ]
  },
  {
   "attachments": {},
   "cell_type": "markdown",
   "id": "d85653b7",
   "metadata": {},
   "source": [
    "## Footnotes"
   ]
  }
 ],
 "metadata": {
  "kernelspec": {
   "display_name": "Python 3 (ipykernel)",
   "language": "python",
   "name": "python3"
  },
  "language_info": {
   "codemirror_mode": {
    "name": "ipython",
    "version": 3
   },
   "file_extension": ".py",
   "mimetype": "text/x-python",
   "name": "python",
   "nbconvert_exporter": "python",
   "pygments_lexer": "ipython3",
   "version": "3.11.5"
  },
  "toc": {
   "base_numbering": 1,
   "nav_menu": {},
   "number_sections": true,
   "sideBar": true,
   "skip_h1_title": false,
   "title_cell": "Table of Contents",
   "title_sidebar": "Contents",
   "toc_cell": false,
   "toc_position": {},
   "toc_section_display": true,
   "toc_window_display": false
  },
  "vscode": {
   "interpreter": {
    "hash": "31f2aee4e71d21fbe5cf8b01ff0e069b9275f58929596ceb00d14d90e3e16cd6"
   }
  }
 },
 "nbformat": 4,
 "nbformat_minor": 5
}
