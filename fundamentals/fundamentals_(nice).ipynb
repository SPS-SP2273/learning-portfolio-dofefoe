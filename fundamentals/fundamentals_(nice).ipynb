{
 "cells": [
  {
   "attachments": {},
   "cell_type": "markdown",
   "id": "123456",
   "metadata": {},
   "source": [
    "<div style=\"text-align:left;font-size:2em\"><span style=\"font-weight:bolder;font-size:1.25em\">SP2273 | Learning Portfolio</span><br><br><span style=\"font-weight:bold;color:darkred\">Fundamentals (Nice)</span></div>"
   ]
  },
  {
   "attachments": {},
   "cell_type": "markdown",
   "id": "802f1198",
   "metadata": {},
   "source": [
    "# 1 If if is not enough"
   ]
  },
  {
   "cell_type": "code",
   "execution_count": 1,
   "id": "168b11fe-40f2-4073-a37c-c375c0aaf2e7",
   "metadata": {},
   "outputs": [
    {
     "name": "stdout",
     "output_type": "stream",
     "text": [
      "Hello Hero | Batman!\n"
     ]
    }
   ],
   "source": [
    "name = 'Batman'\n",
    "\n",
    "match name: #match keyword, so as to make it easier to hardcode if cases\n",
    "    case 'Batman':\n",
    "        print('Hello Hero | Batman!')\n",
    "    case 'Robin':\n",
    "        print('Hello Sidekick | Robin!')\n",
    "    case _:\n",
    "        print('Hello World!')"
   ]
  },
  {
   "attachments": {},
   "cell_type": "markdown",
   "id": "96418ef9",
   "metadata": {},
   "source": [
    "# 2 Ternary operators or Conditional Statements"
   ]
  },
  {
   "cell_type": "code",
   "execution_count": 13,
   "id": "9a8d4350-7613-4384-ac2d-e4d60a3eb35e",
   "metadata": {},
   "outputs": [],
   "source": [
    "nationality = \"French\"\n",
    "if nationality == 'French':\n",
    "    greeting = \"Bonjour!\"\n",
    "else:\n",
    "    greeting = \"Hello!\"   #tend to be more verbose\n",
    "                          #imo easier to read, especially when if cases gets more complex"
   ]
  },
  {
   "cell_type": "code",
   "execution_count": 9,
   "id": "9b064370-8ff9-4d87-834b-eedc32f61d5b",
   "metadata": {},
   "outputs": [],
   "source": [
    "greeting = \"Bonjour!\" if nationality == 'French' else \"Hello!\" #ternary, is shorter"
   ]
  },
  {
   "cell_type": "code",
   "execution_count": 16,
   "id": "0f4e1873-2d49-4ff2-b969-41c2b98918f2",
   "metadata": {},
   "outputs": [
    {
     "data": {
      "text/plain": [
       "'Bonjour!'"
      ]
     },
     "execution_count": 16,
     "metadata": {},
     "output_type": "execute_result"
    }
   ],
   "source": [
    "(\"Hello!\",\"Bonjour!\")[nationality == 'French'] #even less verbose\n",
    "#notes :("
   ]
  },
  {
   "attachments": {},
   "cell_type": "markdown",
   "id": "644ff6b6",
   "metadata": {},
   "source": [
    "# 3 Swapping values"
   ]
  },
  {
   "cell_type": "code",
   "execution_count": 17,
   "id": "23205308-38b6-4dc7-876d-e162bf79345d",
   "metadata": {},
   "outputs": [
    {
     "name": "stdout",
     "output_type": "stream",
     "text": [
      "2 1\n"
     ]
    }
   ],
   "source": [
    "a,b = 1,2\n",
    "a,b = b,a\n",
    "print (a,b) #easier than say creating an intermediate varaible"
   ]
  },
  {
   "attachments": {},
   "cell_type": "markdown",
   "id": "b638b39f",
   "metadata": {},
   "source": [
    "# 4 There are more types"
   ]
  },
  {
   "cell_type": "code",
   "execution_count": 20,
   "id": "32c05e2f-964b-4951-9af5-58a0887515fb",
   "metadata": {},
   "outputs": [
    {
     "name": "stdout",
     "output_type": "stream",
     "text": [
      "float          : 2.220446049250313e-16\n",
      "float16        : 0.000977\n",
      "float32        : 1.1920929e-07\n",
      "float64        : 2.220446049250313e-16\n"
     ]
    }
   ],
   "source": [
    "import numpy as np\n",
    "my_types = [\n",
    "    float,       # Default for core Python on my machine\n",
    "    np.float16,\n",
    "    np.float32,\n",
    "    np.float64]\n",
    "    #np.float128   #apparently the largest I hv is float64\n",
    "                    #also float seems to be as large as largest offered by numpy already (flaot64), which make sense by definition of float class\n",
    "\n",
    "\n",
    "for my_type in my_types:\n",
    "    print(f'{my_type.__name__:<15s}:', np.finfo(my_type).eps)"
   ]
  },
  {
   "attachments": {},
   "cell_type": "markdown",
   "id": "4c4b6959",
   "metadata": {},
   "source": [
    "# 5 Operator precedance"
   ]
  },
  {
   "cell_type": "markdown",
   "id": "51e03011-dac7-40d8-b14d-6486a4e9cf2f",
   "metadata": {},
   "source": [
    "Table of operator precedence\n",
    "\n",
    "highest precedence at top, lowest at bottom, left to right\n",
    "\n",
    "\n",
    "| Description                         |                     Operator                     |\n",
    "|-------------------------------------|:------------------------------------------------:|\n",
    "| Parentheses(grouping)               |                        ()                        |\n",
    "| Function call                       |                    f(args...)                    |\n",
    "| Slicing                             |                  x[index:index]                  |\n",
    "| Subscription                        |                     x[index]                     |\n",
    "| Attribute reference                 |                    x.attribute                   |\n",
    "| Exponentiation                      |                        **                        |\n",
    "| Bitwise not                         |                        ~x                        |\n",
    "| Positive, negative                  |                      +x, -x                      |\n",
    "| Multiplication, division, remainder |                      *, / ,%                     |\n",
    "| Addition, subtraction               |                       +, -                       |\n",
    "| Bitwise shifts                      |                      <<, >>                      |\n",
    "| Bitwise AND                         |                         &                        |\n",
    "| Bitwise XOR                         |                         ^                        |\n",
    "| Bitwise OR                          |                        \\|                        |\n",
    "| Comparisons, membership, identity   | in, not in, is, is not, <, <=, >, >=, <>, !=, == |\n",
    "| Boolean NOT                         |                       not x                      |\n",
    "| Boolean AND                         |                        and                       |\n",
    "| Boolean OR                          |                        or                        |\n",
    "| Lambda expression                   |                      lambda                      |"
   ]
  },
  {
   "attachments": {},
   "cell_type": "markdown",
   "id": "95299965",
   "metadata": {},
   "source": [
    "# 6 Variables in Python are just names"
   ]
  },
  {
   "attachments": {},
   "cell_type": "markdown",
   "id": "e0d13021",
   "metadata": {},
   "source": [
    "## 6.1 The Problem"
   ]
  },
  {
   "cell_type": "code",
   "execution_count": 29,
   "id": "51be1a24-fe87-469a-b4d4-d8799eaed2cc",
   "metadata": {},
   "outputs": [
    {
     "name": "stdout",
     "output_type": "stream",
     "text": [
      "x: [1, 2, 3], y: [1, 2, 3]\n"
     ]
    }
   ],
   "source": [
    "x = [1, 2]\n",
    "y = x\n",
    "y.append(3)\n",
    "\n",
    "print(f\"x: {x}, y: {y}\") #prediction: list referenced by x and y are the same"
   ]
  },
  {
   "attachments": {},
   "cell_type": "markdown",
   "id": "ddbc1550",
   "metadata": {},
   "source": [
    "## 6.2 An explanation"
   ]
  },
  {
   "cell_type": "code",
   "execution_count": 32,
   "id": "9bb8d275-2ec4-4c99-be26-50a368b90994",
   "metadata": {},
   "outputs": [
    {
     "name": "stdout",
     "output_type": "stream",
     "text": [
      "one: 140737143083816, one_copy: 140737143083816, 1: 140737143083816\n"
     ]
    }
   ],
   "source": [
    "one = 1\n",
    "one_copy = 1\n",
    "\n",
    "print(f\"one: {id(one)}, one_copy: {id(one_copy)}, 1: {id(1)}\") #id of x,y and 1 are all the same i.e reference bound to same id"
   ]
  },
  {
   "cell_type": "code",
   "execution_count": 33,
   "id": "e53f0a3e-70dd-4a57-bcff-34bbd101d64c",
   "metadata": {},
   "outputs": [
    {
     "name": "stdout",
     "output_type": "stream",
     "text": [
      "one: 140737143083816, two: 140737143083848\n",
      "1: 140737143083816, 2: 140737143083848\n"
     ]
    }
   ],
   "source": [
    "one = 1\n",
    "two = one + 1\n",
    "\n",
    "print(f\"one: {id(one)}, two: {id(two)}\")\n",
    "print(f\"1: {id(1)}, 2: {id(2)}\")  #values of object 1,2 do not change, but object referenced by one,two can change\n",
    "#str,flaot,bool etc are immutable\n",
    "#lists, dictionaries etc are mutable"
   ]
  },
  {
   "attachments": {},
   "cell_type": "markdown",
   "id": "c87cec50",
   "metadata": {},
   "source": [
    "## 6.3 A solution"
   ]
  },
  {
   "cell_type": "code",
   "execution_count": 30,
   "id": "5b998d30-f633-4101-833c-d688baae234d",
   "metadata": {},
   "outputs": [],
   "source": [
    "y = x.copy() #y now references list identical to x, but is not the same one"
   ]
  },
  {
   "attachments": {},
   "cell_type": "markdown",
   "id": "0d1d688b",
   "metadata": {},
   "source": [
    "# 7 == is not the same as is"
   ]
  },
  {
   "cell_type": "markdown",
   "id": "1a63f36b-f22e-4cb2-974b-472f9e1e1b42",
   "metadata": {},
   "source": [
    "`x is y` checks for **identity** by checking ID\n",
    "\n",
    "`x == y` checks for **equality** by running a function that checks for equality (such as \\_eq\\_ of a class). "
   ]
  },
  {
   "cell_type": "code",
   "execution_count": 34,
   "id": "09e03c8b-22c7-429b-88e4-bc0f03c5882d",
   "metadata": {},
   "outputs": [
    {
     "data": {
      "text/plain": [
       "True"
      ]
     },
     "execution_count": 34,
     "metadata": {},
     "output_type": "execute_result"
    }
   ],
   "source": [
    "x == y #this will return true as x and y are identical lists"
   ]
  },
  {
   "cell_type": "code",
   "execution_count": 37,
   "id": "8f2a3c65-e6ad-418f-96eb-9a75f020b6c3",
   "metadata": {},
   "outputs": [
    {
     "data": {
      "text/plain": [
       "False"
      ]
     },
     "execution_count": 37,
     "metadata": {},
     "output_type": "execute_result"
    }
   ],
   "source": [
    "x is y #however, they do not reference the same id, and will return false here"
   ]
  }
 ],
 "metadata": {
  "kernelspec": {
   "display_name": "Python 3 (ipykernel)",
   "language": "python",
   "name": "python3"
  },
  "language_info": {
   "codemirror_mode": {
    "name": "ipython",
    "version": 3
   },
   "file_extension": ".py",
   "mimetype": "text/x-python",
   "name": "python",
   "nbconvert_exporter": "python",
   "pygments_lexer": "ipython3",
   "version": "3.11.5"
  },
  "toc": {
   "base_numbering": 1,
   "nav_menu": {},
   "number_sections": true,
   "sideBar": true,
   "skip_h1_title": false,
   "title_cell": "Table of Contents",
   "title_sidebar": "Contents",
   "toc_cell": false,
   "toc_position": {},
   "toc_section_display": true,
   "toc_window_display": false
  },
  "vscode": {
   "interpreter": {
    "hash": "31f2aee4e71d21fbe5cf8b01ff0e069b9275f58929596ceb00d14d90e3e16cd6"
   }
  }
 },
 "nbformat": 4,
 "nbformat_minor": 5
}
