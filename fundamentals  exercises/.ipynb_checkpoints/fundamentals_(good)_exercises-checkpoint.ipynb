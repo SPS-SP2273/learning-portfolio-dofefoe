{
 "cells": [
  {
   "attachments": {},
   "cell_type": "markdown",
   "id": "123456",
   "metadata": {},
   "source": [
    "<div style=\"text-align:left;font-size:2em\"><span style=\"font-weight:bolder;font-size:1.25em\">SP2273 | Learning Portfolio</span><br><br><span style=\"font-weight:bold;color:darkred\">Fundamentals (Good) Exercises</span></div>"
   ]
  },
  {
   "cell_type": "code",
   "execution_count": null,
   "id": "b885e4fa-b5d4-4217-a674-77c9b005b8a0",
   "metadata": {},
   "outputs": [],
   "source": [
    "user_input = input('Give me a number?')\n",
    "print('You entered', user_input)  \n",
    "print(type(user_input)) #input always as str\n"
   ]
  },
  {
   "cell_type": "markdown",
   "id": "e1fd6832-393e-4eb2-a59e-e55a9cf53c2a",
   "metadata": {},
   "source": [
    "# Exercise 1 Task"
   ]
  },
  {
   "cell_type": "code",
   "execution_count": 28,
   "id": "1108bd95-7848-4a1b-a39b-5760221e3a44",
   "metadata": {},
   "outputs": [
    {
     "name": "stdin",
     "output_type": "stream",
     "text": [
      "Enter the student's score:       78\n"
     ]
    },
    {
     "name": "stdout",
     "output_type": "stream",
     "text": [
      "The student's letter grade is: A\n"
     ]
    }
   ],
   "source": [
    "grade = input(\"Enter the student's score: \")\n",
    "print(\"The student's letter grade is:\", end=\" \")\n",
    "\n",
    "try:\n",
    "    grade = float(grade)\n",
    "    if 0 <= grade <= 34:\n",
    "        print(\"Fail\")\n",
    "    elif 35 <= grade <= 49:\n",
    "        print(\"C\")\n",
    "    elif 50 <= grade <= 69:\n",
    "        print(\"B\")\n",
    "    elif 70 <= grade <= 100:\n",
    "        print(\"A\")\n",
    "    else:\n",
    "        print(\"Invalid input, please enter a valid score\")\n",
    "\n",
    "except:\n",
    "    print(\"Invalid input, please enter a valid score in numericals only\") \n"
   ]
  },
  {
   "cell_type": "code",
   "execution_count": null,
   "id": "6ecc5c5a-cc31-4a0e-bf5b-442652e22a57",
   "metadata": {},
   "outputs": [],
   "source": []
  }
 ],
 "metadata": {
  "kernelspec": {
   "display_name": "Python 3 (ipykernel)",
   "language": "python",
   "name": "python3"
  },
  "language_info": {
   "codemirror_mode": {
    "name": "ipython",
    "version": 3
   },
   "file_extension": ".py",
   "mimetype": "text/x-python",
   "name": "python",
   "nbconvert_exporter": "python",
   "pygments_lexer": "ipython3",
   "version": "3.11.5"
  },
  "toc": {
   "base_numbering": 1,
   "nav_menu": {},
   "number_sections": true,
   "sideBar": true,
   "skip_h1_title": false,
   "title_cell": "Table of Contents",
   "title_sidebar": "Contents",
   "toc_cell": false,
   "toc_position": {},
   "toc_section_display": true,
   "toc_window_display": false
  },
  "vscode": {
   "interpreter": {
    "hash": "31f2aee4e71d21fbe5cf8b01ff0e069b9275f58929596ceb00d14d90e3e16cd6"
   }
  }
 },
 "nbformat": 4,
 "nbformat_minor": 5
}
