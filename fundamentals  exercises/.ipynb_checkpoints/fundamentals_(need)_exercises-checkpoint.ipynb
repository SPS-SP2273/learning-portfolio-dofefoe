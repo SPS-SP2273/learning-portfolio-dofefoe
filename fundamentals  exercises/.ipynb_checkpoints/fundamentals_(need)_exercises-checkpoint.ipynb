{
 "cells": [
  {
   "attachments": {},
   "cell_type": "markdown",
   "id": "123456",
   "metadata": {},
   "source": [
    "<div style=\"text-align:left;font-size:2em\"><span style=\"font-weight:bolder;font-size:1.25em\">SP2273 | Learning Portfolio</span><br><br><span style=\"font-weight:bold;color:darkred\">Fundamentals (Need) Exercises</span></div>"
   ]
  },
  {
   "cell_type": "markdown",
   "id": "80235627-1ae0-4ed5-9b7b-7ae376fe288f",
   "metadata": {},
   "source": [
    "# Exercise 1"
   ]
  },
  {
   "cell_type": "markdown",
   "id": "3c11b009-d434-4a9e-8eb3-488a5c933cbe",
   "metadata": {},
   "source": [
    "1. Purely from memory, list as many of the basic Python features I mentioned in my notes as you remember.\n",
    "Use a Markdown cell for this list.\n",
    "2. Now, visit the notes and complete the list with the ones you missed.\n",
    "Indicate those you missed by putting them in italics.\n",
    "\n",
    "- functions and methods\n",
    "- variables\n",
    "- data types\n",
    "- case sensitive\n",
    "- indentation\n",
    "- packages\n",
    "- math operators and their shortened forms\n",
    "- escape sequence `\\`\n",
    "- ID referencing\n",
    "- f strings\n",
    "- *`if`,`elif`,`else`,`match` keywords*\n",
    "- *comments*\n",
    "- *`=` vs `==`*\n",
    "- *brackets `(` vs `{` vs `[`*\n",
    "- *the dot (kinda explained by methods?)*\n",
    "- *logic keywords `in` `and` `not` `or` and operators `<` `>`*\n",
    "- *float comparison*"
   ]
  },
  {
   "cell_type": "markdown",
   "id": "5860987d-a2ec-4129-9783-7f45f4c03c0c",
   "metadata": {},
   "source": [
    "# Exercise 2"
   ]
  },
  {
   "cell_type": "code",
   "execution_count": 6,
   "id": "35aba43d-d960-43ae-888e-bcb97b18e42c",
   "metadata": {},
   "outputs": [
    {
     "name": "stdout",
     "output_type": "stream",
     "text": [
      "3 4 5.0\n"
     ]
    }
   ],
   "source": [
    "import math\n",
    "x, y = 3, 4\n",
    "z = math.sqrt(x**2 + y**2) # (x**2 + y**2)**0.5 if math library does not exist\n",
    "print(x, y, z)"
   ]
  },
  {
   "cell_type": "markdown",
   "id": "861f07e9-748d-40f1-94e1-934b6eaa3b08",
   "metadata": {},
   "source": [
    "# Exercise 3"
   ]
  },
  {
   "cell_type": "markdown",
   "id": "e6b57b6e-96f6-4aeb-a8a6-4212c44c8e21",
   "metadata": {},
   "source": [
    "Using your own words, write a single sentence to describe what each of the following means or the role they serve in Python.\n",
    "\n",
    "| **#** | **Term**     | **Description**                                                                    |\r\n",
    "|:-----:|--------------|------------------------------------------------------------------------------------|\r\n",
    "|   1   | Function     | a set of code that may accept arguments to perform some tasks                      |\r\n",
    "|   2   | Arguments    | Instruction set to specify function task                                           |\r\n",
    "|   3   | Comments     | improve understanding of code                                                      |\r\n",
    "|   4   | Indentations | to specify code blocks for python to understand which lines fall under which block |\r\n",
    "|   5   | Packages     | additional \"libraries\" of functions that expands on python's capabilities          |\r\n",
    "|   6   | .            | to declare the ownership of method or attribute                                    |\r\n",
    "|   7   | :            | to specify the start of a code block                                               |\r\n",
    "|   8   | []           | to define and access lists                                                         |\r\n",
    "|   9   | [[[]]]       | to create multidimensional lists                                                   |\r\n",
    "|   10  | {}           | to define dictionaries                                                             |          ||                 |\n"
   ]
  },
  {
   "cell_type": "markdown",
   "id": "43ec252e-2338-46c9-b956-edb0e2ed6f8d",
   "metadata": {},
   "source": [
    "# Exercise 4"
   ]
  },
  {
   "cell_type": "code",
   "execution_count": 11,
   "id": "1b042a0e-da9d-4463-af6f-4d8d25c6f459",
   "metadata": {},
   "outputs": [
    {
     "data": {
      "text/plain": [
       "2.5"
      ]
     },
     "execution_count": 11,
     "metadata": {},
     "output_type": "execute_result"
    }
   ],
   "source": [
    "5/2 #returns quotient in float"
   ]
  },
  {
   "cell_type": "code",
   "execution_count": 12,
   "id": "5c25fdfb-730d-4a02-8e92-4644736844cc",
   "metadata": {},
   "outputs": [
    {
     "data": {
      "text/plain": [
       "2"
      ]
     },
     "execution_count": 12,
     "metadata": {},
     "output_type": "execute_result"
    }
   ],
   "source": [
    "5//2 #returns quotient in int, floored"
   ]
  },
  {
   "cell_type": "code",
   "execution_count": 16,
   "id": "0dea0f5e-da83-4604-9a50-20ccd24795fb",
   "metadata": {},
   "outputs": [
    {
     "data": {
      "text/plain": [
       "1"
      ]
     },
     "execution_count": 16,
     "metadata": {},
     "output_type": "execute_result"
    }
   ],
   "source": [
    "5%2 # modulo operator, returns remainder"
   ]
  }
 ],
 "metadata": {
  "kernelspec": {
   "display_name": "Python 3 (ipykernel)",
   "language": "python",
   "name": "python3"
  },
  "language_info": {
   "codemirror_mode": {
    "name": "ipython",
    "version": 3
   },
   "file_extension": ".py",
   "mimetype": "text/x-python",
   "name": "python",
   "nbconvert_exporter": "python",
   "pygments_lexer": "ipython3",
   "version": "3.11.5"
  },
  "toc": {
   "base_numbering": 1,
   "nav_menu": {},
   "number_sections": true,
   "sideBar": true,
   "skip_h1_title": false,
   "title_cell": "Table of Contents",
   "title_sidebar": "Contents",
   "toc_cell": false,
   "toc_position": {},
   "toc_section_display": true,
   "toc_window_display": false
  },
  "vscode": {
   "interpreter": {
    "hash": "31f2aee4e71d21fbe5cf8b01ff0e069b9275f58929596ceb00d14d90e3e16cd6"
   }
  }
 },
 "nbformat": 4,
 "nbformat_minor": 5
}
