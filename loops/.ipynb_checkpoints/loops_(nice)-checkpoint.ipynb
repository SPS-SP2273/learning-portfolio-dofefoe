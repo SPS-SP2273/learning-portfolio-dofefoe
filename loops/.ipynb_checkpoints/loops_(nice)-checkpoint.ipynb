{
 "cells": [
  {
   "attachments": {},
   "cell_type": "markdown",
   "id": "123456",
   "metadata": {},
   "source": [
    "<div style=\"text-align:left;font-size:2em\"><span style=\"font-weight:bolder;font-size:1.25em\">SP2273 | Learning Portfolio</span><br><br><span style=\"font-weight:bold;color:darkred\">Loops (Nice)</span></div>"
   ]
  },
  {
   "attachments": {},
   "cell_type": "markdown",
   "id": "8b3ab06c",
   "metadata": {},
   "source": [
    "# 1 There is more to list comprehension"
   ]
  },
  {
   "cell_type": "code",
   "execution_count": 1,
   "id": "a04f7e16-7fd7-4058-8e58-2ece72a077ec",
   "metadata": {},
   "outputs": [
    {
     "data": {
      "text/plain": [
       "[[0, 'A'],\n",
       " [0, 'B'],\n",
       " [0, 'C'],\n",
       " [1, 'A'],\n",
       " [1, 'B'],\n",
       " [1, 'C'],\n",
       " [2, 'A'],\n",
       " [2, 'B'],\n",
       " [2, 'C'],\n",
       " [3, 'A'],\n",
       " [3, 'B'],\n",
       " [3, 'C'],\n",
       " [4, 'A'],\n",
       " [4, 'B'],\n",
       " [4, 'C']]"
      ]
     },
     "execution_count": 1,
     "metadata": {},
     "output_type": "execute_result"
    }
   ],
   "source": [
    "[[a,b] for a in range(5) for b in ['A', 'B', 'C']] #2d list comprehension"
   ]
  },
  {
   "cell_type": "code",
   "execution_count": 3,
   "id": "6b0df3b9-863d-480f-9c55-77defb5953ad",
   "metadata": {},
   "outputs": [
    {
     "data": {
      "text/plain": [
       "[[0, 'A', ['X']],\n",
       " [0, 'A', ['Y']],\n",
       " [0, 'A', ['Z']],\n",
       " [0, 'B', ['X']],\n",
       " [0, 'B', ['Y']],\n",
       " [0, 'B', ['Z']],\n",
       " [0, 'C', ['X']],\n",
       " [0, 'C', ['Y']],\n",
       " [0, 'C', ['Z']],\n",
       " [1, 'A', ['X']],\n",
       " [1, 'A', ['Y']],\n",
       " [1, 'A', ['Z']],\n",
       " [1, 'B', ['X']],\n",
       " [1, 'B', ['Y']],\n",
       " [1, 'B', ['Z']],\n",
       " [1, 'C', ['X']],\n",
       " [1, 'C', ['Y']],\n",
       " [1, 'C', ['Z']],\n",
       " [2, 'A', ['X']],\n",
       " [2, 'A', ['Y']],\n",
       " [2, 'A', ['Z']],\n",
       " [2, 'B', ['X']],\n",
       " [2, 'B', ['Y']],\n",
       " [2, 'B', ['Z']],\n",
       " [2, 'C', ['X']],\n",
       " [2, 'C', ['Y']],\n",
       " [2, 'C', ['Z']],\n",
       " [3, 'A', ['X']],\n",
       " [3, 'A', ['Y']],\n",
       " [3, 'A', ['Z']],\n",
       " [3, 'B', ['X']],\n",
       " [3, 'B', ['Y']],\n",
       " [3, 'B', ['Z']],\n",
       " [3, 'C', ['X']],\n",
       " [3, 'C', ['Y']],\n",
       " [3, 'C', ['Z']],\n",
       " [4, 'A', ['X']],\n",
       " [4, 'A', ['Y']],\n",
       " [4, 'A', ['Z']],\n",
       " [4, 'B', ['X']],\n",
       " [4, 'B', ['Y']],\n",
       " [4, 'B', ['Z']],\n",
       " [4, 'C', ['X']],\n",
       " [4, 'C', ['Y']],\n",
       " [4, 'C', ['Z']]]"
      ]
     },
     "execution_count": 3,
     "metadata": {},
     "output_type": "execute_result"
    }
   ],
   "source": [
    "[[a,b,[c]] for a in range(5) for b in [\"A\",\"B\",\"C\"] for c in [\"X\",\"Y\",\"Z\"]] #handles more than 2 as well"
   ]
  },
  {
   "cell_type": "code",
   "execution_count": 7,
   "id": "ca7da3ed-d471-47eb-a2aa-c141ddbe5af5",
   "metadata": {},
   "outputs": [
    {
     "name": "stdout",
     "output_type": "stream",
     "text": [
      "[1, 2, 3, 4, 5, 6, 7]\n",
      "[1, 2, 3, 4, 5, 6, 7]\n"
     ]
    }
   ],
   "source": [
    "nested_list=[[1, 2, 3], [4, 5, 6, 7]] #list flattening\n",
    "print([y for x in nested_list for y in x]) #print elements for each sublist\n",
    "\n",
    "#alternatively\n",
    "nested_list=[[1, 2, 3], [4, 5, 6, 7]]\n",
    "\n",
    "output =[]\n",
    "for x in nested_list:\n",
    "    for y in x:\n",
    "        output.append(y)\n",
    "print(output)"
   ]
  },
  {
   "attachments": {},
   "cell_type": "markdown",
   "id": "e30f7a9a",
   "metadata": {},
   "source": [
    "# 2 Zipping a dictionary"
   ]
  },
  {
   "cell_type": "code",
   "execution_count": 8,
   "id": "cda93790-f7e2-4f6b-bf56-9c439e1f1a65",
   "metadata": {},
   "outputs": [
    {
     "data": {
      "text/plain": [
       "{'Natasha Romanoff': 'Black Widow',\n",
       " 'Tony Stark': 'Iron Man',\n",
       " 'Stephen Strange': 'Doctor Strange'}"
      ]
     },
     "execution_count": 8,
     "metadata": {},
     "output_type": "execute_result"
    }
   ],
   "source": [
    "super_names=[\"Black Widow\", \"Iron Man\", \"Doctor Strange\"]\n",
    "real_names=[\"Natasha Romanoff\", \"Tony Stark\", \"Stephen Strange\"]\n",
    "\n",
    "dict(zip(real_names, super_names)) # however do remember that it only zips up the last index of the shorter list (if there is a difference)"
   ]
  },
  {
   "attachments": {},
   "cell_type": "markdown",
   "id": "f5590eaa",
   "metadata": {},
   "source": [
    "# 3 for and while has an else"
   ]
  },
  {
   "cell_type": "code",
   "execution_count": 10,
   "id": "c40532fd-240b-4179-940d-17474838e044",
   "metadata": {},
   "outputs": [],
   "source": [
    "numbers=[0, 1, 2, 3, 4, 5, 6, 7, 8, 9,-10]\n",
    "\n",
    "for i in numbers:\n",
    "    if i < 0: break\n",
    "else:\n",
    "    print('No negative numbers in the list') #else block does not trigger if loop is broken out of"
   ]
  },
  {
   "attachments": {},
   "cell_type": "markdown",
   "id": "585c7dac",
   "metadata": {},
   "source": [
    "# Exercises"
   ]
  },
  {
   "cell_type": "code",
   "execution_count": 16,
   "id": "bc5bbe9f",
   "metadata": {},
   "outputs": [
    {
     "data": {
      "text/plain": [
       "['apple',\n",
       " 'banana',\n",
       " 'jackfruit',\n",
       " 'watermelons',\n",
       " 'durian',\n",
       " 'mangoes',\n",
       " 'strawberries']"
      ]
     },
     "execution_count": 16,
     "metadata": {},
     "output_type": "execute_result"
    }
   ],
   "source": [
    "#exercise 1\n",
    "\n",
    "fruits = [\"apple\", \"banana\", \"jackfruit\",\n",
    "          \"pineapple\", \"papaya\", \"watermelons\",\n",
    "          \"peaches\", \"durian\",  \"mangoes\",\n",
    "          \"strawberries\", \"passionfruit\"\n",
    "          ]\n",
    "#remove fruits starting with \"P\"\n",
    "\n",
    "for fruit in fruits:\n",
    "    if fruit[0] == \"p\":\n",
    "        fruits.remove(fruit) #altering list while the list is being used for iteration wld result in problems\n",
    "                            # while iterator returns with element, it is still being kept count with index first. \n",
    "                            #Elements being removed would result in the next element being skipped from being checked in the loop as index still \n",
    "                            #goes ahead despite the -1 index\n",
    "        \n",
    "#soln\n",
    "fruits = [\"apple\", \"banana\", \"jackfruit\",\n",
    "          \"pineapple\", \"papaya\", \"watermelons\",\n",
    "          \"peaches\", \"durian\",  \"mangoes\",\n",
    "          \"strawberries\", \"passionfruit\"\n",
    "          ]\n",
    "copy_of_fruits = fruits.copy()\n",
    "for fruit in copy_of_fruits:\n",
    "    if fruit[0] == \"p\":\n",
    "        fruits.remove(fruit)\n",
    "#alternatively\n",
    "[x for x in fruits if x[0] != \"p\"]\n",
    "\n"
   ]
  },
  {
   "cell_type": "code",
   "execution_count": 18,
   "id": "92524ea4",
   "metadata": {},
   "outputs": [
    {
     "name": "stdout",
     "output_type": "stream",
     "text": [
      "[[1, 1, 1, 2, 4, 8, 3, 9, 27, 4, 16, 64, 5, 25, 125], [1, 1, 1, 2, 4, 8, 3, 9, 27, 4, 16, 64, 5, 25, 125], [1, 1, 1, 2, 4, 8, 3, 9, 27, 4, 16, 64, 5, 25, 125], [1, 1, 1, 2, 4, 8, 3, 9, 27, 4, 16, 64, 5, 25, 125], [1, 1, 1, 2, 4, 8, 3, 9, 27, 4, 16, 64, 5, 25, 125]]\n",
      "[[1, 1, 1], [2, 4, 8], [3, 9, 27], [4, 16, 64], [5, 25, 125]]\n"
     ]
    }
   ],
   "source": [
    "#exercise 2\n",
    "maximum_n = 5\n",
    "result = [[]] * maximum_n #same list is referenced and copied max_n times\n",
    "\n",
    "for n in range(1, maximum_n + 1):\n",
    "    result[n - 1].append(n)\n",
    "    result[n - 1].append(n**2)\n",
    "    result[n - 1].append(n**3) #reference list altered, therefore all list also alters\n",
    "\n",
    "print(result)\n",
    "#soln, use list comprehension\n",
    "maximum_n = 5\n",
    "result = [[] for x in range(maximum_n)] #same list is referenced and copied max_n times\n",
    "\n",
    "for n in range(1, maximum_n + 1):\n",
    "    result[n - 1].append(n)\n",
    "    result[n - 1].append(n**2)\n",
    "    result[n - 1].append(n**3) #reference list altered, therefore all list also alters\n",
    "\n",
    "print(result)\n"
   ]
  },
  {
   "cell_type": "markdown",
   "id": "da8aebd8-1c10-4ab3-99a4-ed02129620f7",
   "metadata": {},
   "source": [
    "# Exercise 3"
   ]
  },
  {
   "cell_type": "markdown",
   "id": "f0877742-d0eb-492e-8823-342941e98e2b",
   "metadata": {},
   "source": [
    "| # | Option 1                                       | Option 2                                                   |                                       Result                                       |\r\n",
    "|:-:|------------------------------------------------|------------------------------------------------------------|:----------------------------------------------------------------------------------:|\r\n",
    "| 1 | Creating a list of squares with for loop       | Creating a list of squares with while loop                 |                              `while` loop takes longer                             |\r\n",
    "| 2 | Creating a list of squares with a for loop.    | Creating a list of squares with a list comprehension loop. |                               `for` loop takes longer                              |\r\n",
    "| 3 | Creating a list of squares using list append() | Creating a list of squares using list +=                   | about the same using `for` loop, but `append()` took longer for singular execution |\r\n",
    "| 4 | Creating a list of squares using list append() | Creating a list of squares using append()of Numpy          |                         numpy `append()` took a lot longer                         |\r\n",
    "| 5 | Creating a list of squares using Numpy         | Creating a list of squares using List comprehension loop.  | list comprehension takes much less time                                            |"
   ]
  },
  {
   "cell_type": "code",
   "execution_count": 30,
   "id": "6f880311-804c-43f2-a819-3538a8af25d9",
   "metadata": {},
   "outputs": [
    {
     "name": "stdout",
     "output_type": "stream",
     "text": [
      "498 ns ± 2.95 ns per loop (mean ± std. dev. of 7 runs, 1,000,000 loops each)\n"
     ]
    }
   ],
   "source": [
    "%%timeit\n",
    "square_list=[]\n",
    "for x in range(10):\n",
    "    square_list.append([])\n"
   ]
  },
  {
   "cell_type": "code",
   "execution_count": 24,
   "id": "c5c6d4cd-7b4b-4d1c-8fa6-5fff2d8baa54",
   "metadata": {},
   "outputs": [
    {
     "name": "stdout",
     "output_type": "stream",
     "text": [
      "559 ns ± 1.5 ns per loop (mean ± std. dev. of 7 runs, 1,000,000 loops each)\n"
     ]
    }
   ],
   "source": [
    "%%timeit\n",
    "square_list=[]\n",
    "count = 0\n",
    "while count <10:\n",
    "    square_list.append([])\n",
    "    count += 1"
   ]
  },
  {
   "cell_type": "code",
   "execution_count": 27,
   "id": "dad2ec52-610c-4ae1-af36-b4295b1089fc",
   "metadata": {},
   "outputs": [
    {
     "name": "stdout",
     "output_type": "stream",
     "text": [
      "465 ns ± 2.7 ns per loop (mean ± std. dev. of 7 runs, 1,000,000 loops each)\n"
     ]
    }
   ],
   "source": [
    "%%timeit\n",
    "[[] for x in range(10)]\n"
   ]
  },
  {
   "cell_type": "code",
   "execution_count": 31,
   "id": "fe2385ed-a9bf-4dfb-bb26-ad6ae8dff417",
   "metadata": {},
   "outputs": [
    {
     "name": "stdout",
     "output_type": "stream",
     "text": [
      "490 ns ± 1.11 ns per loop (mean ± std. dev. of 7 runs, 1,000,000 loops each)\n"
     ]
    }
   ],
   "source": [
    "%%timeit\n",
    "square_list=[]\n",
    "for x in range(10):\n",
    "    square_list += []"
   ]
  },
  {
   "cell_type": "code",
   "execution_count": 32,
   "id": "f0583af7-f764-4bd6-bf57-1578bc8c523f",
   "metadata": {},
   "outputs": [
    {
     "name": "stdout",
     "output_type": "stream",
     "text": [
      "49.7 ns ± 0.176 ns per loop (mean ± std. dev. of 7 runs, 10,000,000 loops each)\n"
     ]
    }
   ],
   "source": [
    "%%timeit\n",
    "square_list=[]\n",
    "square_list.append([])"
   ]
  },
  {
   "cell_type": "code",
   "execution_count": 33,
   "id": "af83d6d1-44e8-4e6e-9bc8-b9cc70c78c42",
   "metadata": {},
   "outputs": [
    {
     "name": "stdout",
     "output_type": "stream",
     "text": [
      "44.1 ns ± 0.317 ns per loop (mean ± std. dev. of 7 runs, 10,000,000 loops each)\n"
     ]
    }
   ],
   "source": [
    "%%timeit\n",
    "square_list=[]\n",
    "square_list += []"
   ]
  },
  {
   "cell_type": "code",
   "execution_count": 34,
   "id": "dddf7439-c1b9-4de1-b0d7-c54747ac5b05",
   "metadata": {},
   "outputs": [],
   "source": [
    "\n",
    "import numpy as np\n",
    "square_list = []\n",
    "np_list = np.array(square_list)"
   ]
  },
  {
   "cell_type": "code",
   "execution_count": 38,
   "id": "d24f8991-3685-46ed-9c60-6ab772ad25df",
   "metadata": {},
   "outputs": [
    {
     "name": "stdout",
     "output_type": "stream",
     "text": [
      "3.53 µs ± 12.5 ns per loop (mean ± std. dev. of 7 runs, 100,000 loops each)\n"
     ]
    }
   ],
   "source": [
    "%%timeit\n",
    "np.append([],[])"
   ]
  },
  {
   "cell_type": "code",
   "execution_count": null,
   "id": "85394c22-d185-4216-a2ac-021719698dd8",
   "metadata": {},
   "outputs": [],
   "source": []
  }
 ],
 "metadata": {
  "kernelspec": {
   "display_name": "Python 3 (ipykernel)",
   "language": "python",
   "name": "python3"
  },
  "language_info": {
   "codemirror_mode": {
    "name": "ipython",
    "version": 3
   },
   "file_extension": ".py",
   "mimetype": "text/x-python",
   "name": "python",
   "nbconvert_exporter": "python",
   "pygments_lexer": "ipython3",
   "version": "3.11.5"
  },
  "toc": {
   "base_numbering": 1,
   "nav_menu": {},
   "number_sections": true,
   "sideBar": true,
   "skip_h1_title": false,
   "title_cell": "Table of Contents",
   "title_sidebar": "Contents",
   "toc_cell": false,
   "toc_position": {},
   "toc_section_display": true,
   "toc_window_display": false
  },
  "vscode": {
   "interpreter": {
    "hash": "31f2aee4e71d21fbe5cf8b01ff0e069b9275f58929596ceb00d14d90e3e16cd6"
   }
  }
 },
 "nbformat": 4,
 "nbformat_minor": 5
}
