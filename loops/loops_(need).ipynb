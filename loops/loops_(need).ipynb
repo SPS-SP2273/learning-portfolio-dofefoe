{
 "cells": [
  {
   "attachments": {},
   "cell_type": "markdown",
   "id": "123456",
   "metadata": {},
   "source": [
    "<div style=\"text-align:left;font-size:2em\"><span style=\"font-weight:bolder;font-size:1.25em\">SP2273 | Learning Portfolio</span><br><br><span style=\"font-weight:bold;color:darkred\">Loops (Need)</span></div>"
   ]
  },
  {
   "attachments": {},
   "cell_type": "markdown",
   "id": "45b24f2d",
   "metadata": {},
   "source": [
    "# 1 The for iterator"
   ]
  },
  {
   "cell_type": "code",
   "execution_count": 4,
   "id": "9e52f6d1-f226-4d33-9a52-ab18a8fa9d4d",
   "metadata": {},
   "outputs": [],
   "source": [
    "real_names = [\"Natasha Romanoff\", \"Tony Stark\", \"Stephen Strange\"]"
   ]
  },
  {
   "cell_type": "code",
   "execution_count": null,
   "id": "153a2df2-7f1a-4791-b553-8fa850e935c5",
   "metadata": {},
   "outputs": [],
   "source": [
    "name=real_names[0]\n",
    "print(f\"{name} is a Marvel superhero!\") #imagine the horror of doing this for millions of entries or for unknown number of iterations\n",
    "\n",
    "name=real_names[1]\n",
    "print(f\"{name} is a Marvel superhero!\")\n",
    "\n",
    "name=real_names[2]\n",
    "print(f\"{name} is a Marvel superhero!\")"
   ]
  },
  {
   "attachments": {},
   "cell_type": "markdown",
   "id": "adfa5825",
   "metadata": {},
   "source": [
    "## 1.1 for with a list"
   ]
  },
  {
   "cell_type": "code",
   "execution_count": 9,
   "id": "71774538-1199-42e4-bdc0-18e389a61d46",
   "metadata": {},
   "outputs": [
    {
     "name": "stdout",
     "output_type": "stream",
     "text": [
      "--------------------------------------------------\n",
      "  Natasha Romanoff   is a Marvel superhero!\n",
      "--------------------------------------------------\n",
      "     Tony Stark      is a Marvel superhero!\n",
      "--------------------------------------------------\n",
      "  Stephen Strange    is a Marvel superhero!\n",
      "i am out of the loop!\n"
     ]
    }
   ],
   "source": [
    "for name in real_names:\n",
    "    print (f\"{'-':->50}\")\n",
    "    print(f\"{name:^20} is a Marvel superhero!\")\n",
    "\n",
    "print(\"i am out of the loop!\")"
   ]
  },
  {
   "attachments": {},
   "cell_type": "markdown",
   "id": "af8720b4",
   "metadata": {},
   "source": [
    "## 1.2 for with enumerate"
   ]
  },
  {
   "cell_type": "code",
   "execution_count": 39,
   "id": "3feb6829-aa00-4dd9-8c5e-1abb1240ae2e",
   "metadata": {},
   "outputs": [
    {
     "name": "stdout",
     "output_type": "stream",
     "text": [
      "[(0, 'Black Widow'), (1, 'Iron Man'), (2, 'Doctor Strange')]\n"
     ]
    }
   ],
   "source": [
    "super_names = [\"Black Widow\", \"Iron Man\", \"Doctor Strange\"]\n",
    "real_names = [\"Natasha Romanoff\", \"Tony Stark\", \"Stephen Strange\"]\n",
    "print(list(enumerate(super_names)))"
   ]
  },
  {
   "cell_type": "code",
   "execution_count": 28,
   "id": "f2b3ac10-8fcb-48f5-91fd-8e951c26df45",
   "metadata": {},
   "outputs": [
    {
     "name": "stdout",
     "output_type": "stream",
     "text": [
      "100: Natasha Romanoff is a Marvel superhero!\n",
      "101: Tony Stark is a Marvel superhero!\n",
      "102: Stephen Strange is a Marvel superhero!\n"
     ]
    }
   ],
   "source": [
    "for count, name in enumerate(real_names,100): #first arg takes list, second takes start value\n",
    "    print(f'{count}: {name} is a Marvel superhero!')\n",
    "\n"
   ]
  },
  {
   "cell_type": "code",
   "execution_count": 27,
   "id": "e583fe33-b0a1-405e-b76e-de126605d5a9",
   "metadata": {},
   "outputs": [
    {
     "name": "stdout",
     "output_type": "stream",
     "text": [
      "Natasha Romanoff is Black Widow!\n",
      "Tony Stark is Iron Man!\n",
      "Stephen Strange is Doctor Strange!\n",
      "Natasha Romanoff is Black Widow!\n",
      "Tony Stark is Iron Man!\n",
      "Stephen Strange is Doctor Strange!\n"
     ]
    }
   ],
   "source": [
    "for index, name in enumerate(real_names):\n",
    "    superhero_name = super_names[index]\n",
    "    print(f'{name} is {superhero_name}!')\n",
    "    \n",
    "#to perform same task without enumerate\n",
    "for x in real_names:\n",
    "    count = real_names.index(x)\n",
    "    print(f'{x} is {super_names[count]}!') "
   ]
  },
  {
   "attachments": {},
   "cell_type": "markdown",
   "id": "f029987c",
   "metadata": {},
   "source": [
    "## 1.3 for with range"
   ]
  },
  {
   "cell_type": "code",
   "execution_count": 34,
   "id": "df95878f-e5b9-42c9-a9a2-65765fac7d23",
   "metadata": {},
   "outputs": [
    {
     "name": "stdout",
     "output_type": "stream",
     "text": [
      "10\n",
      "7\n",
      "4\n"
     ]
    }
   ],
   "source": [
    "for i in range(10, 1, -3): #start value, end value, step size. remember end value is non inclusive\n",
    "    print(i)"
   ]
  },
  {
   "cell_type": "code",
   "execution_count": 19,
   "id": "75a73933-ad42-4455-acee-d54b29af3ec2",
   "metadata": {},
   "outputs": [
    {
     "name": "stdout",
     "output_type": "stream",
     "text": [
      "Natasha Romanoff is Marvel's Black Widow!\n",
      "Tony Stark is Marvel's Iron Man!\n",
      "Stephen Strange is Marvel's Doctor Strange!\n"
     ]
    }
   ],
   "source": [
    "for i in range(len(real_names)):\n",
    "    real_name = real_names[i]\n",
    "    super_name = super_names[i]        \n",
    "    print(f\"{real_name} is Marvel's {super_name}!\")"
   ]
  },
  {
   "attachments": {},
   "cell_type": "markdown",
   "id": "ad49a38c",
   "metadata": {},
   "source": [
    "# 2 while"
   ]
  },
  {
   "cell_type": "code",
   "execution_count": 35,
   "id": "ffe34e7c-5152-4c06-8f68-02add9391ce5",
   "metadata": {},
   "outputs": [
    {
     "name": "stdout",
     "output_type": "stream",
     "text": [
      "0\n",
      "1\n",
      "2\n",
      "3\n",
      "4\n"
     ]
    }
   ],
   "source": [
    "number = 0\n",
    "\n",
    "while number < 5:\n",
    "    print(number)\n",
    "    number += 1 \n"
   ]
  },
  {
   "cell_type": "code",
   "execution_count": 41,
   "id": "df24378c-dee1-4c14-b65b-6b596e3d87d2",
   "metadata": {},
   "outputs": [
    {
     "name": "stdout",
     "output_type": "stream",
     "text": [
      "Natasha Romanoff is Marvel's Black Widow!\n",
      "Tony Stark is Marvel's Iron Man!\n",
      "Stephen Strange is Marvel's Doctor Strange!\n"
     ]
    }
   ],
   "source": [
    "count = 0\n",
    "while count < len(super_names):\n",
    "    print(f\"{real_names[count]} is Marvel's {super_names[count]}!\")\n",
    "    count +=1"
   ]
  }
 ],
 "metadata": {
  "kernelspec": {
   "display_name": "Python 3 (ipykernel)",
   "language": "python",
   "name": "python3"
  },
  "language_info": {
   "codemirror_mode": {
    "name": "ipython",
    "version": 3
   },
   "file_extension": ".py",
   "mimetype": "text/x-python",
   "name": "python",
   "nbconvert_exporter": "python",
   "pygments_lexer": "ipython3",
   "version": "3.11.5"
  },
  "toc": {
   "base_numbering": 1,
   "nav_menu": {},
   "number_sections": true,
   "sideBar": true,
   "skip_h1_title": false,
   "title_cell": "Table of Contents",
   "title_sidebar": "Contents",
   "toc_cell": false,
   "toc_position": {},
   "toc_section_display": true,
   "toc_window_display": false
  },
  "vscode": {
   "interpreter": {
    "hash": "31f2aee4e71d21fbe5cf8b01ff0e069b9275f58929596ceb00d14d90e3e16cd6"
   }
  }
 },
 "nbformat": 4,
 "nbformat_minor": 5
}
