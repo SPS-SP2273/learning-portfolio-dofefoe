{
 "cells": [
  {
   "attachments": {},
   "cell_type": "markdown",
   "id": "123456",
   "metadata": {},
   "source": [
    "<div style=\"text-align:left;font-size:2em\"><span style=\"font-weight:bolder;font-size:1.25em\">SP2273 | Learning Portfolio</span><br><br><span style=\"font-weight:bold;color:darkred\">Loops (Good)</span></div>"
   ]
  },
  {
   "attachments": {},
   "cell_type": "markdown",
   "id": "03bb8013",
   "metadata": {},
   "source": [
    "# 1 Interrupting the flow"
   ]
  },
  {
   "cell_type": "code",
   "execution_count": 12,
   "id": "5581c132-7a6f-40e5-80d4-10bee709a473",
   "metadata": {},
   "outputs": [
    {
     "name": "stdout",
     "output_type": "stream",
     "text": [
      "0 1\n",
      "1 10\n",
      "2 100\n",
      "3 1000\n",
      "1 1\n",
      "2 10\n",
      "3 100\n",
      "4 1000\n"
     ]
    }
   ],
   "source": [
    "for power in range(5):\n",
    "    number = 10**power\n",
    "    if number > 5000:\n",
    "        break                #break out of for loop, when number becomes more than 5000\n",
    "    print(power, number)\n",
    "\n",
    "power = 0\n",
    "number = 0\n",
    "while True: \n",
    "    number = 10**power\n",
    "    power += 1\n",
    "    if number > 5000:\n",
    "        break               #works for while loops as well\n",
    "    print(power, number)"
   ]
  },
  {
   "cell_type": "code",
   "execution_count": 2,
   "id": "85b72710-05bb-4b77-9981-3c6510031f2a",
   "metadata": {},
   "outputs": [
    {
     "name": "stdout",
     "output_type": "stream",
     "text": [
      "0 1\n",
      "1 10\n",
      "2 100\n",
      "4 10000\n"
     ]
    }
   ],
   "source": [
    "for power in range(5):\n",
    "    if power == 3:\n",
    "        continue        #ends current iteration when number is 3\n",
    "    number = 10**power\n",
    "    print(power, number)"
   ]
  },
  {
   "cell_type": "code",
   "execution_count": null,
   "id": "7ab05c82-02b3-42a7-8292-8a59cc918342",
   "metadata": {},
   "outputs": [],
   "source": [
    "for number in range(10):\n",
    "    if number % 2 == 0: \n",
    "        continue #ends iteration whenever number is even\n",
    "    print(number) "
   ]
  },
  {
   "attachments": {},
   "cell_type": "markdown",
   "id": "fe8c316a",
   "metadata": {},
   "source": [
    "# 2 List comprehension!"
   ]
  },
  {
   "attachments": {},
   "cell_type": "markdown",
   "id": "fc43119a",
   "metadata": {},
   "source": [
    "## 2.1 Basic syntax"
   ]
  },
  {
   "cell_type": "code",
   "execution_count": 13,
   "id": "808fdb7b-9df3-40a2-ba14-1f70f70d7a71",
   "metadata": {},
   "outputs": [
    {
     "data": {
      "text/plain": [
       "[0, 1, 2, 3, 4]"
      ]
     },
     "execution_count": 13,
     "metadata": {},
     "output_type": "execute_result"
    }
   ],
   "source": [
    "[number for number in range(5)] #syntax similar to for loop"
   ]
  },
  {
   "cell_type": "code",
   "execution_count": 14,
   "id": "f0c96bb4-f554-448e-bb30-89ebe720c991",
   "metadata": {},
   "outputs": [
    {
     "data": {
      "text/plain": [
       "[0, 1, 4, 9, 16]"
      ]
     },
     "execution_count": 14,
     "metadata": {},
     "output_type": "execute_result"
    }
   ],
   "source": [
    "[number**2 for number in range(5)]"
   ]
  },
  {
   "attachments": {},
   "cell_type": "markdown",
   "id": "cdae456b",
   "metadata": {},
   "source": [
    "## 2.2 List comprehension with conditions"
   ]
  },
  {
   "cell_type": "code",
   "execution_count": null,
   "id": "79f0ecf6-06a0-44f1-8915-54213933f6f5",
   "metadata": {},
   "outputs": [],
   "source": [
    "[number for number in range(10) if number % 2 ==0] #only even numer in range of 10 makes it into the list, ie 0,2,4,6,8"
   ]
  },
  {
   "attachments": {},
   "cell_type": "markdown",
   "id": "1221ed2a",
   "metadata": {},
   "source": [
    "# 3 Other useful stuff"
   ]
  },
  {
   "cell_type": "markdown",
   "id": "1859f5f0-7a0c-4fa5-a611-8975e2f330dc",
   "metadata": {},
   "source": [
    "## Unpacking"
   ]
  },
  {
   "cell_type": "code",
   "execution_count": 4,
   "id": "a56386c2-9091-432b-a4fb-814bfdb85bcb",
   "metadata": {},
   "outputs": [
    {
     "name": "stdout",
     "output_type": "stream",
     "text": [
      " x = 1,  y =2, z =3\n"
     ]
    }
   ],
   "source": [
    "x, y, z=[1, 2, 3]\n",
    "print(f' {x = },  {y =}, {z =}')"
   ]
  },
  {
   "attachments": {},
   "cell_type": "markdown",
   "id": "745c1658",
   "metadata": {},
   "source": [
    "## 3.1 for with unpacking"
   ]
  },
  {
   "cell_type": "code",
   "execution_count": 16,
   "id": "39ea4908-15c5-408f-be41-ece052586a0f",
   "metadata": {},
   "outputs": [
    {
     "name": "stdout",
     "output_type": "stream",
     "text": [
      "Natasha Romanoff is Marvel's Black Widow!\n",
      "Tony Stark is Marvel's Iron Man!\n",
      "Stephen Strange is Marvel's Doctor Strange!\n"
     ]
    }
   ],
   "source": [
    "py_superhero_info = [['Natasha Romanoff', 'Black Widow'],\n",
    "                     ['Tony Stark', 'Iron Man'],\n",
    "                     ['Stephen Strange', 'Doctor Strange']]\n",
    "\n",
    "for real_name, super_name in py_superhero_info: #unpacks 2d list into sublist and gets the 2 elements within\n",
    "    print(f\"{real_name} is Marvel's {super_name}!\")"
   ]
  },
  {
   "attachments": {},
   "cell_type": "markdown",
   "id": "cbc041af",
   "metadata": {},
   "source": [
    "## 3.2 for with zip()"
   ]
  },
  {
   "cell_type": "code",
   "execution_count": 19,
   "id": "e078800d-2fa8-4c54-920f-e42c282c0296",
   "metadata": {},
   "outputs": [
    {
     "name": "stdout",
     "output_type": "stream",
     "text": [
      "Natasha Romanoff is Marvel's Black Widow!\n",
      "Tony Stark is Marvel's Iron Man!\n",
      "Stephen Strange is Marvel's Doctor Strange!\n",
      "[(0, 0), (1, 1), (2, 2)]\n"
     ]
    }
   ],
   "source": [
    "super_names = [\"Black Widow\", \"Iron Man\", \"Doctor Strange\"]\n",
    "real_names = [\"Natasha Romanoff\", \"Tony Stark\", \"Stephen Strange\"]\n",
    "\n",
    "\n",
    "for real_name, super_name in zip(real_names,super_names): #zip combines multiple list\n",
    "    print(f\"{real_name} is Marvel's {super_name}!\")\n",
    "\n",
    "short_list = [0,1,2]\n",
    "long_list = [0,1,2,3,4]\n",
    "print(list(zip(short_list,long_list))) #only zips up to last index of short list?"
   ]
  },
  {
   "attachments": {},
   "cell_type": "markdown",
   "id": "40c75a6f",
   "metadata": {},
   "source": [
    "## 3.3 for with dictionaries"
   ]
  },
  {
   "cell_type": "code",
   "execution_count": 2,
   "id": "052a51aa-33a4-496a-9b73-eb58d998586e",
   "metadata": {},
   "outputs": [
    {
     "name": "stdout",
     "output_type": "stream",
     "text": [
      "Natasha Romanoff is Marvel's Black Widow!\n",
      "Tony Stark is Marvel's Iron Man!\n",
      "Stephen Strange is Marvel's Doctor Strange!\n",
      "Natasha Romanoff\n",
      "Tony Stark\n",
      "Stephen Strange\n"
     ]
    }
   ],
   "source": [
    "superhero_info={\"Natasha Romanoff\": \"Black Widow\",\n",
    "                \"Tony Stark\": \"Iron Man\",\n",
    "                \"Stephen Strange\": \"Doctor Strange\"}\n",
    "\n",
    "\n",
    "for key, value in superhero_info.items():\n",
    "    print(f\"{key} is Marvel's {value}!\")\n",
    "\n",
    "for i in superhero_info:\n",
    "    print(i) "
   ]
  },
  {
   "attachments": {},
   "cell_type": "markdown",
   "id": "8dfb62de",
   "metadata": {},
   "source": [
    "## Footnotes"
   ]
  }
 ],
 "metadata": {
  "kernelspec": {
   "display_name": "Python 3 (ipykernel)",
   "language": "python",
   "name": "python3"
  },
  "language_info": {
   "codemirror_mode": {
    "name": "ipython",
    "version": 3
   },
   "file_extension": ".py",
   "mimetype": "text/x-python",
   "name": "python",
   "nbconvert_exporter": "python",
   "pygments_lexer": "ipython3",
   "version": "3.11.5"
  },
  "toc": {
   "base_numbering": 1,
   "nav_menu": {},
   "number_sections": true,
   "sideBar": true,
   "skip_h1_title": false,
   "title_cell": "Table of Contents",
   "title_sidebar": "Contents",
   "toc_cell": false,
   "toc_position": {},
   "toc_section_display": true,
   "toc_window_display": false
  },
  "vscode": {
   "interpreter": {
    "hash": "31f2aee4e71d21fbe5cf8b01ff0e069b9275f58929596ceb00d14d90e3e16cd6"
   }
  }
 },
 "nbformat": 4,
 "nbformat_minor": 5
}
